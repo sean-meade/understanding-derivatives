{
 "cells": [
  {
   "cell_type": "markdown",
   "metadata": {},
   "source": [
    "# Notebook E-tivity 1 CE4021"
   ]
  },
  {
   "cell_type": "markdown",
   "metadata": {},
   "source": [
    "Student name: Jason Coleman"
   ]
  },
  {
   "cell_type": "markdown",
   "metadata": {},
   "source": [
    "Student ID: 9539719"
   ]
  },
  {
   "cell_type": "markdown",
   "metadata": {},
   "source": [
    "## Imports"
   ]
  },
  {
   "cell_type": "code",
   "execution_count": 1,
   "metadata": {},
   "outputs": [],
   "source": [
    "#None"
   ]
  },
  {
   "cell_type": "markdown",
   "metadata": {},
   "source": [
    "If you believe required imports are missing, please contact your moderator."
   ]
  },
  {
   "cell_type": "markdown",
   "metadata": {},
   "source": [
    "<hr style=\"border:2px solid gray\"> </hr>"
   ]
  },
  {
   "cell_type": "markdown",
   "metadata": {},
   "source": [
    "## Task - Option 1: Symbolic calculation of the derivative\n",
    "Write 2 Python functions:\n",
    "\n",
    "* The first one to *symbolically calculate the derivative of a polynomial with one variable*. The input should be a polynomial and the output should also be a polynomial.\n",
    "* The second one to *evaluate (i.e. get the numerical value) of a polynomial for a given value of its variable*. The input should be a polynomial and a value (point at which to evaluate the polynomial). The output should be a scalar.\n",
    "* Test your code with a few salient polynomials (minimum of 3) for which you have calculated the derivative of these polynomials manually."
   ]
  },
  {
   "cell_type": "markdown",
   "metadata": {},
   "source": [
    "You may add as many cells as you require to complete this task. Refer to the Rubric for E-tivity 1 to see how you will be assessed."
   ]
  },
  {
   "cell_type": "markdown",
   "metadata": {},
   "source": [
    "## Polynomial Evaluation\n",
    "\n",
    "We can evaluate a polynomial in terms of x by simply evaluating each element of the set of tuples and summing the result\n",
    "\n",
    "$$P(x) = a_n x^n + a_{n-1} x^{n-1} + \\ldots + a_2 x^2 + a_1 x + a_0$$\n",
    "So, for $p=2$ we would have\n",
    "$$P(2) = a_n \\cdot 2^n + a_{n-1} \\cdot 2^{n-1} + \\ldots + a_2 \\cdot 2^2 + a_1 \\cdot 2 + a_0$$"
   ]
  },
  {
   "cell_type": "code",
   "execution_count": 2,
   "metadata": {},
   "outputs": [],
   "source": [
    "def evaluate_polynomial(elements: set[tuple[int, int]], value: int) -> int:\n",
    "    \"\"\"\n",
    "    Evaluate a polynomial in x, represented by a set of coefficient-power tuples at x.\n",
    "    :param elements: set of coefficients-power tuples\n",
    "    :param value: value to evaluate the polynomial at\n",
    "    :return: value of the polynomial at x\n",
    "    \"\"\"\n",
    "    s = 0\n",
    "    for coefficient, power in elements:\n",
    "        s += coefficient * value ** power\n",
    "\n",
    "    return s"
   ]
  },
  {
   "cell_type": "markdown",
   "metadata": {},
   "source": [
    "## Differentiation\n",
    "The python code executes the Power rule on each element of the set of tuples. \n",
    "\n",
    "$$\\frac{d}{dx}(coefficient \\cdot x^{power}) = coefficient \\cdot power \\cdot x^{(power-1)}$$\n",
    "\n",
    "And returns the set of the derivatures that make up the output polynomial."
   ]
  },
  {
   "cell_type": "code",
   "execution_count": 3,
   "metadata": {},
   "outputs": [],
   "source": [
    "def differentiate(elements: set[tuple[int, int]]) -> set[tuple[int, int]]:\n",
    "    \"\"\"\n",
    "    Differentiate a polynomial in x, with respect to x using the power rule.\n",
    "    Where the polynomial is represented by a set of coefficients-power tuples.\n",
    "    Currently, it uses a more loop-based approach for ease-of-reading.\n",
    "    :param elements: coefficients-power tuples of the polynomial\n",
    "    :return: coefficients of the differentiated polynomial\n",
    "    \"\"\"\n",
    "    result = set()\n",
    "    for coefficient, power in elements:\n",
    "        if power != 0:\n",
    "            result.add((coefficient * power, power - 1))\n",
    "        else:\n",
    "            result.add((0, 0))\n",
    "    return result"
   ]
  },
  {
   "cell_type": "markdown",
   "metadata": {},
   "source": [
    "## Utility methods: Pretty print\n",
    "The following is a utility function to make the polynomials more human-readable."
   ]
  },
  {
   "cell_type": "code",
   "execution_count": 4,
   "metadata": {},
   "outputs": [],
   "source": [
    "def to_str(coefficients_: set[tuple[int, int]]) -> str:\n",
    "    \"\"\"\n",
    "    A simple utility function. Converts a set of coefficient-power tuples\n",
    "    to a string representation of a polynomial.  Print coefficients\n",
    "    as a string (e.g. \"5x^3 + 7x^2 + 3x + 6\")\n",
    "    :param coefficients_: a set of coefficient-power tuples\n",
    "    :return: str representation of the polynomial\n",
    "    \"\"\"\n",
    "    coefficients_str = \"\"\n",
    "\n",
    "    # Sort coefficients by power in descending order - abs(power) in case of negative powers\n",
    "    # This will make the final string easier to read - or closer to conventional notation\n",
    "    coefficients_ = sorted(coefficients_, key=lambda x_: abs(x_[1]), reverse=True)\n",
    "\n",
    "    if coefficients_ == [(0, 0)]:\n",
    "        return \"0\"\n",
    "\n",
    "    for coefficient, power in coefficients_:\n",
    "        if coefficient == 1:\n",
    "            sign = ''\n",
    "        elif coefficient == -1:\n",
    "            sign = '-'\n",
    "        else:\n",
    "            sign = f'{coefficient}'\n",
    "\n",
    "        if power > 1 or power < 0:\n",
    "            coefficients_str += f\"{sign}x^{power} + \"\n",
    "        elif power == 1:\n",
    "            coefficients_str += f\"{sign}x + \"\n",
    "        else:  # power == 0\n",
    "            if coefficient != 0:\n",
    "                coefficients_str += f\"{coefficient} + \"\n",
    "\n",
    "    # Remove the trailing \"+ \" at the end\n",
    "    coefficients_str = coefficients_str.rstrip(\"+ \")\n",
    "\n",
    "    # handle the case where coefficient is negative - for ease of reading\n",
    "    return coefficients_str.replace(\"+ -\", \"- \")"
   ]
  },
  {
   "cell_type": "markdown",
   "metadata": {},
   "source": [
    "Note that this is the most complex part of this assignment; where most things can go wrong."
   ]
  },
  {
   "cell_type": "markdown",
   "metadata": {},
   "source": [
    "## Examples of use\n",
    "Here we show the use of the derivative and evaluation functions (as well as the utility to_str)."
   ]
  },
  {
   "cell_type": "markdown",
   "metadata": {},
   "source": [
    "#### Example 1"
   ]
  },
  {
   "cell_type": "code",
   "execution_count": 5,
   "metadata": {},
   "outputs": [
    {
     "name": "stdout",
     "output_type": "stream",
     "text": [
      "f(x): 5x^3 + 7x^2 + 3x + 6\n",
      "f(2): 80\n",
      "f'(x): 15x^2 + 14x + 3\n",
      "f'(2): 91\n"
     ]
    }
   ],
   "source": [
    "polynomial = {(5, 3), (7, 2), (3, 1), (6, 0)}\n",
    "print(f\"f(x): {to_str(polynomial)}\")\n",
    "\n",
    "x = 2\n",
    "f_x = evaluate_polynomial(polynomial, x)\n",
    "print(f\"f({x}): {f_x}\")\n",
    "\n",
    "f_prime = differentiate(polynomial)\n",
    "print(f\"f'(x): {to_str(f_prime)}\")\n",
    "\n",
    "f_prime_x = evaluate_polynomial(f_prime, x)\n",
    "print(f\"f'({x}): {f_prime_x}\")"
   ]
  },
  {
   "cell_type": "markdown",
   "metadata": {},
   "source": [
    "#### Example 2"
   ]
  },
  {
   "cell_type": "code",
   "execution_count": 6,
   "metadata": {},
   "outputs": [
    {
     "name": "stdout",
     "output_type": "stream",
     "text": [
      "f(x): 2x^1000\n",
      "f(2): 21430172143725346418968500981200036211228096234110672148875007767407021022498722449863967576313917162551893458351062936503742905713846280871969155149397149607869135549648461970842149210124742283755908364306092949967163882534797535118331087892154125829142392955373084335320859663305248773674411336138752\n",
      "f'(x): 2000x^999\n",
      "f'(2): 10715086071862673209484250490600018105614048117055336074437503883703510511249361224931983788156958581275946729175531468251871452856923140435984577574698574803934567774824230985421074605062371141877954182153046474983581941267398767559165543946077062914571196477686542167660429831652624386837205668069376000\n"
     ]
    }
   ],
   "source": [
    "polynomial =  {(2, 1000)}\n",
    "\n",
    "print(f\"f(x): {to_str(polynomial)}\")\n",
    "\n",
    "x = 2\n",
    "f_x = evaluate_polynomial(polynomial, x)\n",
    "print(f\"f({x}): {f_x}\")\n",
    "\n",
    "f_prime = differentiate(polynomial)\n",
    "print(f\"f'(x): {to_str(f_prime)}\")\n",
    "\n",
    "f_prime_x = evaluate_polynomial(f_prime, x)\n",
    "print(f\"f'({x}): {f_prime_x}\")"
   ]
  },
  {
   "cell_type": "markdown",
   "metadata": {},
   "source": [
    "#### Example 3"
   ]
  },
  {
   "cell_type": "code",
   "execution_count": 7,
   "metadata": {},
   "outputs": [
    {
     "name": "stdout",
     "output_type": "stream",
     "text": [
      "f(x): 3x^2 - 4x + 2\n",
      "f(2): 6\n",
      "f'(x): 6x - 4\n",
      "f'(2): 8\n"
     ]
    }
   ],
   "source": [
    "polynomial =   {(3, 2), (-4, 1), (2, 0)}\n",
    "\n",
    "print(f\"f(x): {to_str(polynomial)}\")\n",
    "\n",
    "x = 2\n",
    "f_x = evaluate_polynomial(polynomial, x)\n",
    "print(f\"f({x}): {f_x}\")\n",
    "\n",
    "f_prime = differentiate(polynomial)\n",
    "print(f\"f'(x): {to_str(f_prime)}\")\n",
    "\n",
    "f_prime_x = evaluate_polynomial(f_prime, x)\n",
    "print(f\"f'({x}): {f_prime_x}\")"
   ]
  },
  {
   "cell_type": "markdown",
   "metadata": {},
   "source": [
    "#### Example 4"
   ]
  },
  {
   "cell_type": "code",
   "execution_count": 8,
   "metadata": {},
   "outputs": [
    {
     "name": "stdout",
     "output_type": "stream",
     "text": [
      "f(x): x^5 + 2x^3 - x^2\n",
      "f(2): 44\n",
      "f'(x): 5x^4 + 6x^2 - 2x\n",
      "f'(2): 100\n"
     ]
    }
   ],
   "source": [
    "polynomial =  {(1, 5), (2, 3), (-1, 2)}\n",
    "\n",
    "print(f\"f(x): {to_str(polynomial)}\")\n",
    "\n",
    "x = 2\n",
    "f_x = evaluate_polynomial(polynomial, x)\n",
    "print(f\"f({x}): {f_x}\")\n",
    "\n",
    "f_prime = differentiate(polynomial)\n",
    "print(f\"f'(x): {to_str(f_prime)}\")\n",
    "\n",
    "f_prime_x = evaluate_polynomial(f_prime, x)\n",
    "print(f\"f'({x}): {f_prime_x}\")"
   ]
  },
  {
   "cell_type": "markdown",
   "metadata": {},
   "source": [
    "#### Example 5"
   ]
  },
  {
   "cell_type": "code",
   "execution_count": 9,
   "metadata": {},
   "outputs": [
    {
     "name": "stdout",
     "output_type": "stream",
     "text": [
      "f(x): 7\n",
      "f(2): 7\n",
      "f'(x): 0\n",
      "f'(2): 0\n"
     ]
    }
   ],
   "source": [
    "polynomial =  {(7, 0)}\n",
    "\n",
    "print(f\"f(x): {to_str(polynomial)}\")\n",
    "\n",
    "x = 2\n",
    "f_x = evaluate_polynomial(polynomial, x)\n",
    "print(f\"f({x}): {f_x}\")\n",
    "\n",
    "f_prime = differentiate(polynomial)\n",
    "print(f\"f'(x): {to_str(f_prime)}\")\n",
    "\n",
    "f_prime_x = evaluate_polynomial(f_prime, x)\n",
    "print(f\"f'({x}): {f_prime_x}\")"
   ]
  },
  {
   "cell_type": "markdown",
   "metadata": {},
   "source": [
    " #### Example 6"
   ]
  },
  {
   "cell_type": "code",
   "execution_count": 10,
   "metadata": {},
   "outputs": [
    {
     "name": "stdout",
     "output_type": "stream",
     "text": [
      "f(x): x\n",
      "f(2): 2\n",
      "f'(x): 1\n",
      "f'(2): 1\n"
     ]
    }
   ],
   "source": [
    "polynomial =  {(1, 1)}\n",
    "\n",
    "print(f\"f(x): {to_str(polynomial)}\")\n",
    "\n",
    "x = 2\n",
    "f_x = evaluate_polynomial(polynomial, x)\n",
    "print(f\"f({x}): {f_x}\")\n",
    "\n",
    "f_prime = differentiate(polynomial)\n",
    "print(f\"f'(x): {to_str(f_prime)}\")\n",
    "\n",
    "f_prime_x = evaluate_polynomial(f_prime, x)\n",
    "print(f\"f'({x}): {f_prime_x}\")"
   ]
  },
  {
   "cell_type": "markdown",
   "metadata": {},
   "source": [
    "## Reflection"
   ]
  },
  {
   "cell_type": "markdown",
   "metadata": {},
   "source": [
    "Write your reflection in below cell. With reference to the Rubric for E-tivity 1:\n",
    "- Provide an accurate description of your code with advantages and disadvantages of design choices.\n",
    "- Compare your approach to alternative (peer) approaches.\n",
    "- Clearly describe how you have used your peers' work/input and how this has affected your own understanding / insights.\n",
    "\n",
    "If you have not used peer input, you may state this, but your submission history in Gitlab should clearly show this is the case."
   ]
  },
  {
   "cell_type": "markdown",
   "metadata": {},
   "source": [
    "### Description\n",
    "\n",
    "#### Data Representations\n",
    "First I will explain my chosen data representation. \n",
    "\n",
    "* I could have used a list where the index in the list prepresents the power however this becomes very inefficient (in terms of memeory and time) as you start to process higher order polynomials e.g. \n",
    "\n",
    "    $$2^{1000}$$\n",
    "\n",
    "    In this case, where you have higher order polynomials, you would have a list with 1000 elements, 999 of which are zero). \n",
    "\n",
    "* I have chosen to represent the polynomial as a set of tuples, where each tuple represents an element of the polynomial set. The first element of the tuple is the coefficient and the second element is the power of the corresponding term.  \n",
    "\n",
    "* Using tuples has many benefits including space efficiency and ease-of-use (i.e. I don't have to write out lots of zeros which may be error-prone).\n",
    "\n",
    "So, in my case I can represent: \n",
    "\n",
    "$$5x^3 + 7x^2 + 3x + 6$$\n",
    "\n",
    "as:\n",
    "\n",
    "$${\\{(5, 3), (7, 2), (3, 1), (6, 0)\\}}$$\n",
    "\n",
    "#### Implementation\n",
    "##### Differentition\n",
    "I implemented the Power rule method for differentiating a polynomial, where the input to the function is a set of tuples (see above) and the output is a set of tuples representing the differentiated polynomial. Currently, it uses a more loop-based approach for ease-of-reading.\n",
    "\n",
    "##### Evaluating a polynomial\n",
    "TODO:\n",
    "\n",
    "#### Advantages/Disadvantages\n",
    "* using tuples, while efficient does require more knowledge of python data structures. \n",
    "* using lists can lead to real inefficiencies as the order and sparseness of the data increases.\n",
    "\n",
    "\n",
    "#### Peer Assessment\n",
    "\n",
    "* The list is a nice idea. Simple to understand and very effective for low-rder polynomials. Great for starting and learning how to map mathematics to code.\n",
    "* Use of recursion is also very elegent. It does have issues as the order or the polynomials increases. For example, you would never use such on low-power moobile devices for crypographic curve evaluation. \n",
    "* Mitchell reminded me about the importance of testing more corner cases.\n"
   ]
  }
 ],
 "metadata": {
  "kernelspec": {
   "display_name": "Python 3 (ipykernel)",
   "language": "python",
   "name": "python3"
  },
  "language_info": {
   "codemirror_mode": {
    "name": "ipython",
    "version": 3
   },
   "file_extension": ".py",
   "mimetype": "text/x-python",
   "name": "python",
   "nbconvert_exporter": "python",
   "pygments_lexer": "ipython3",
   "version": "3.10.9"
  }
 },
 "nbformat": 4,
 "nbformat_minor": 2
}
