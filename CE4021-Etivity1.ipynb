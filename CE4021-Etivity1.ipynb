{
 "cells": [
  {
   "cell_type": "markdown",
   "metadata": {},
   "source": [
    "# Notebook E-tivity 1 CE4021"
   ]
  },
  {
   "cell_type": "markdown",
   "metadata": {},
   "source": [
    "Student name: Liam Mulcahy"
   ]
  },
  {
   "cell_type": "markdown",
   "metadata": {},
   "source": [
    "Student ID: 23310731"
   ]
  },
  {
   "cell_type": "markdown",
   "metadata": {},
   "source": [
    "<hr style=\"border:2px solid gray\"> </hr>"
   ]
  },
  {
   "cell_type": "markdown",
   "metadata": {},
   "source": [
    "## Imports"
   ]
  },
  {
   "cell_type": "code",
   "execution_count": 1,
   "metadata": {},
   "outputs": [],
   "source": [
    "#None"
   ]
  },
  {
   "cell_type": "markdown",
   "metadata": {},
   "source": [
    "If you believe required imports are missing, please contact your moderator."
   ]
  },
  {
   "cell_type": "markdown",
   "metadata": {},
   "source": [
    "<hr style=\"border:2px solid gray\"> </hr>"
   ]
  },
  {
   "cell_type": "markdown",
   "metadata": {},
   "source": [
    "## Task"
   ]
  },
  {
   "cell_type": "markdown",
   "metadata": {},
   "source": [
    "## Option 1: Symbolic calculation of the derivative"
   ]
  },
  {
   "cell_type": "markdown",
   "metadata": {},
   "source": [
    "### Function 1: Symbolically calculate the derivative of a polynomial with one variable. \n",
    " - Requirements: Input and output are both polynomials\n",
    " \n",
    " #### Approach:\n",
    "  - The approach I have taken makes use of the Power Law for calculating derivatives and the dictionary data structure in Python to facilitate efficient iteration including when large exponents are present\n",
    "  - The key steps are first to require the input be provided in the form of a dictionary where keys represent the exponent and the values represent the coefficient. An alternative would be to store the coefficients in a list where the index of the list represents the corresponding exponent. Both approaches provide a tidy way for iterative processing of polynomials however when considering the example of 3x^1000 (ie a large exponent) given in the task description the approaching using a list will result in a large number of interations and zero values which is not efficient. By using a dictionary the need for this is removed. It is also a more intuitive data strucutre for inputing your coefficients and for reading them as output. "
   ]
  },
  {
   "cell_type": "code",
   "execution_count": 27,
   "metadata": {},
   "outputs": [],
   "source": [
    "# Title: Function 1: Derivative of Polynomial\n",
    "# Purpose: to calculate derivate of a polynomial (single variable) using the power law\n",
    "# Input: polynomial in format of a dictionary where the key is the exponent, and the value the coefficient\n",
    "# Output: format same as input\n",
    "# Comments: by using a dictionary rather than a list efficiency is improved by avoiding need to iterate through zero values for large exponents\n",
    "def symbolic_derivative(poly_coeffs):\n",
    "    derivative_coeffs = {} #empty dictionary for deriative coefficients\n",
    "    \n",
    "    # iterate through the dictionary\n",
    "    for i, coef in poly_coeffs.items(): \n",
    "        # skip the constant coefficient as its derivative is zero\n",
    "        if i != 0:\n",
    "            # use the power rule to obtain the derivatives and save them in the corresponding place in the new dictionary\n",
    "            derivative_coeffs[i - 1] = i * coef\n",
    "    print(\"The derivative of polynomial \", poly_coeffs, \" is: \", derivative_coeffs)   \n",
    "    return derivative_coeffs\n"
   ]
  },
  {
   "cell_type": "markdown",
   "metadata": {},
   "source": [
    "### Function 2: Evaluate a polynomial for a given value of its variable\n",
    " - Requirements: input is a polynomial and a variable, output is a scalar\n",
    " \n",
    " #### Approach:\n",
    "  - My approach reuses the dictionary method from my first function. Using a similar iterative appraoach it simply sums the result from calculating each exponent for the given value. "
   ]
  },
  {
   "cell_type": "code",
   "execution_count": 28,
   "metadata": {},
   "outputs": [],
   "source": [
    "# Title: Function 2: Enumerate Polynomial\n",
    "# Purpose: to calculate the numerical result for a given polynomial (single variable)\n",
    "# Input: polynomial in format of a dictionary where the key is the exponent, and the value the coefficient\n",
    "# Output: float\n",
    "# Comments: by using a dictionary rather than a list efficiency is improved by avoiding need to iterate through zero values for large exponents\n",
    "def poly_solve_numerical(poly_coeffs, x):\n",
    "    #instead of an empty dictionary, start with an empty scalar (float)\n",
    "    result = 0.0\n",
    "    # check if x equals zero in which case return the constant coefficient\n",
    "    if x == 0:\n",
    "        # returns the constant value or if none present it returns zero\n",
    "        result = poly_coeffs.get(0, 0)\n",
    "    else:\n",
    "        # iterate through the input dictionary\n",
    "        for i, coef in poly_coeffs.items():\n",
    "            # calculate the numeric value for each co-efficient and add to the result\n",
    "            result += coef * (x ** i)\n",
    "        \n",
    "    print(\"The numeric value for polynomial \", poly_coeffs, \" when x = \", x, \" is \", result)\n",
    "    return result  "
   ]
  },
  {
   "cell_type": "markdown",
   "metadata": {},
   "source": [
    "#### Test 1\n",
    " - Runs the polynomial given in the task as an example (3x^1000) through both functions for the enumerate example the value 0.8 is used for x to assess if the function can handle decimals/floats\n",
    " - The correct answer as calculated manually should be:\n",
    "     - f'(x) = 3000x^999\n",
    "     - f(0.8) = 3.6906958e-97"
   ]
  },
  {
   "cell_type": "code",
   "execution_count": 29,
   "metadata": {},
   "outputs": [
    {
     "name": "stdout",
     "output_type": "stream",
     "text": [
      "The derivative of polynomial  {1000: 3}  is:  {999: 3000}\n",
      "The numeric value for polynomial  {1000: 3}  when x =  0.8  is  3.6906957664835564e-97\n"
     ]
    },
    {
     "data": {
      "text/plain": [
       "3.6906957664835564e-97"
      ]
     },
     "execution_count": 29,
     "metadata": {},
     "output_type": "execute_result"
    }
   ],
   "source": [
    "# Title: Test 1\n",
    "# Purpose: calculate symbolic derivative of 3x^1000 and the enumerate the polynomial for x = 0.8\n",
    "\n",
    "# create an input dictionary of coefficients for the test polynomial\n",
    "test_01_coeffs = {1000: 3}\n",
    "\n",
    "# run function\n",
    "symbolic_derivative(test_01_coeffs)\n",
    "\n",
    "#run function with the test coefficients and variable\n",
    "poly_solve_numerical(test_01_coeffs, 0.8)"
   ]
  },
  {
   "cell_type": "markdown",
   "metadata": {},
   "source": [
    "#### Test 2\n",
    " - Runs the polynomial 9 + 3x^2 + 4x^5 through both functions for the enumerate example the value 3 is used for x\n",
    " - This seeks to asses the functions ability to handle multiple exponents and a constant\n",
    " - The correct answer as calculated manually should be:\n",
    "     - f'(x) = 6x + 20x^4\n",
    "     - f(3) = 9 + 27 + 972 = 1008"
   ]
  },
  {
   "cell_type": "code",
   "execution_count": 30,
   "metadata": {},
   "outputs": [
    {
     "name": "stdout",
     "output_type": "stream",
     "text": [
      "The derivative of polynomial  {0: 9, 2: 3, 5: 4}  is:  {1: 6, 4: 20}\n",
      "The numeric value for polynomial  {0: 9, 2: 3, 5: 4}  when x =  3  is  1008.0\n"
     ]
    },
    {
     "data": {
      "text/plain": [
       "1008.0"
      ]
     },
     "execution_count": 30,
     "metadata": {},
     "output_type": "execute_result"
    }
   ],
   "source": [
    "# Title: Test 2\n",
    "# Purpose: calculate symbolic derivative of 9 + 3x^2 + 4x^5 and the enumerate the polynomial for x = 3\n",
    "\n",
    "# create an input dictionary \n",
    "test_02_coeffs = {0: 9, 2: 3, 5: 4}\n",
    "\n",
    "# run function and print\n",
    "symbolic_derivative(test_02_coeffs)\n",
    "\n",
    "# run numerical function with test value of 3\n",
    "poly_solve_numerical(test_02_coeffs, 3)"
   ]
  },
  {
   "cell_type": "markdown",
   "metadata": {},
   "source": [
    "#### Test 3\n",
    " - Runs the polynomial 3 + 10x^-3 through both functions for the enumerate example the value 0 is used for x\n",
    " - This seeks to asses the functions ability to handle negative exponents and if the function can handle enumerating for zero\n",
    " - The correct answer as calculated manually should be:\n",
    "     - f'(x) = 30x^-4\n",
    "     - f(0) = 3"
   ]
  },
  {
   "cell_type": "code",
   "execution_count": 31,
   "metadata": {},
   "outputs": [
    {
     "name": "stdout",
     "output_type": "stream",
     "text": [
      "The derivative of polynomial  {0: 3, -3: 10}  is:  {-4: -30}\n",
      "The numeric value for polynomial  {0: 3, -3: 10}  when x =  0  is  3\n"
     ]
    },
    {
     "data": {
      "text/plain": [
       "3"
      ]
     },
     "execution_count": 31,
     "metadata": {},
     "output_type": "execute_result"
    }
   ],
   "source": [
    "# Title: Test 3\n",
    "# Purpose: calculate symbolic derivative of 3 + 10x^-3 and the enumerate the polynomial for x = 0\n",
    "\n",
    "# estabilish test coefficients\n",
    "test_02_coeffs = {0: 3, -3: 10}\n",
    "\n",
    "# run function for symbolic derivative\n",
    "symbolic_derivative(test_02_coeffs)\n",
    "\n",
    "# Test when x is 0\n",
    "poly_solve_numerical(test_02_coeffs, 0)"
   ]
  },
  {
   "cell_type": "markdown",
   "metadata": {},
   "source": [
    "<hr style=\"border:2px solid gray\"> </hr>"
   ]
  },
  {
   "cell_type": "markdown",
   "metadata": {},
   "source": [
    "## Reflection"
   ]
  },
  {
   "cell_type": "markdown",
   "metadata": {},
   "source": [
    "Write your reflection in below cell. With reference to the Rubric for E-tivity 1:\n",
    "- Provide an accurate description of your code with advantages and disadvantages of design choices.\n",
    "- Compare your approach to alternative (peer) approaches.\n",
    "- Clearly describe how you have used your peers' work/input and how this has affected your own understanding / insights.\n",
    "\n",
    "If you have not used peer input, you may state this, but your submission history in Gitlab should clearly show this is the case."
   ]
  },
  {
   "cell_type": "code",
   "execution_count": null,
   "metadata": {},
   "outputs": [],
   "source": []
  }
 ],
 "metadata": {
  "kernelspec": {
   "display_name": "Python 3 (ipykernel)",
   "language": "python",
   "name": "python3"
  },
  "language_info": {
   "codemirror_mode": {
    "name": "ipython",
    "version": 3
   },
   "file_extension": ".py",
   "mimetype": "text/x-python",
   "name": "python",
   "nbconvert_exporter": "python",
   "pygments_lexer": "ipython3",
   "version": "3.11.4"
  }
 },
 "nbformat": 4,
 "nbformat_minor": 2
}
