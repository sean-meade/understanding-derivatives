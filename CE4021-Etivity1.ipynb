{
 "cells": [
  {
   "cell_type": "markdown",
   "metadata": {},
   "source": [
    "# Notebook E-tivity 1 CE4021"
   ]
  },
  {
   "cell_type": "markdown",
   "metadata": {},
   "source": [
    "Student name: Sean Meade"
   ]
  },
  {
   "cell_type": "markdown",
   "metadata": {},
   "source": [
    "Student ID: 10128921"
   ]
  },
  {
   "cell_type": "markdown",
   "metadata": {},
   "source": [
    "<hr style=\"border:2px solid gray\"> </hr>"
   ]
  },
  {
   "cell_type": "markdown",
   "metadata": {},
   "source": [
    "## Imports"
   ]
  },
  {
   "cell_type": "code",
   "execution_count": 46,
   "metadata": {},
   "outputs": [],
   "source": [
    "#None"
   ]
  },
  {
   "cell_type": "markdown",
   "metadata": {},
   "source": [
    "If you believe required imports are missing, please contact your moderator."
   ]
  },
  {
   "cell_type": "markdown",
   "metadata": {},
   "source": [
    "<hr style=\"border:2px solid gray\"> </hr>"
   ]
  },
  {
   "cell_type": "markdown",
   "metadata": {},
   "source": [
    "# Task\n",
    "\n",
    "## Understanding Polynomial derivatives\n",
    "\n",
    "### What are polynomials?\n",
    "\n",
    "A polynomial is a mathematical equation consisting of variables and coefficients. A polynomial can have any number of coefficients and variables, and the variables can have any order of power that is a positive integer.\n",
    "\n",
    "Example of a polynomial: $ y(x) = 3x^3 - 5x^2 + 2x - 1 $\n",
    "\n",
    "#### Equation for Vertical Motion\n",
    "\n",
    "Polynomials are equations that can be used to describe linear processes. One specific one can describe an object being fired directly up into the air, also known as the \"equation for vertical motion\". For the sake of this example we will fire our ball from ground level within a vacuum (i.e. it is not effected by air currents, wind resistance etc). The equation for vertical motion is a polynomial that represents the vertical displacement ($ h $) as a function of time ($ t $) with respect to the initial velocity ($ V_{iy} $), and acceleration/deceleration due to gravity ($ g $).\n",
    "\n",
    "\\begin{equation}\n",
    "    h(t) = V_{iy}t - \\frac{1}{2}gt^2\n",
    "\\end{equation}\n",
    "\n",
    "### Differentiation of a polynomial\n",
    "\n",
    "What if I wanted to find the velocity of the object ($ V_{y} $) at a time ($ t $)? Velocity is the change is distance (measured in meters m) divided by a change in time (measured in seconds s), or $ \\frac{m}{s} $). Our equation above gets the displacement for a given time. If we were to get the velocity between two points in time we could get the displacement at one time $ t $ subtract it from the displacement at another time a little further on $ \\delta t $ and divide it by the difference between the two times:\n",
    "\n",
    "$$ Velocity~between~t~and~t+\\delta t = \\frac{change~in~distance}{change~in~time} = \\frac{h(t~+~\\delta~t) - h(t)}{(t~+~\\delta~t) - t}~~or~~\\frac{h(t~+~\\delta~t) - h(t)}{\\delta~t}  $$\n",
    "\n",
    "With the formula above we could get the velocity between any two points in time. When you think of velocity here it is the ratio (or slope tangent to the function when thinking it terms of points and lines on a graph) of $ h $ to $ t $ (or $ \\frac{h}{t} $). These two points on the graph of $ h(t) $ would be ($ t $, $ h(t) $) and ($ t~+~\\delta~t $, $ h(t~+~\\delta~t) $)\n",
    "\n",
    "The derivative is defined as 'an instantaneous rate of change'. As pointed out in the [video by 3Blue1Brown on the topic](https://youtu.be/9vKqVkMQHKk?si=QGEQitIiNg3zORRg&t=30s), this is an oxymoron. \"Change is something that happens between separate points in time, and when you blind yourself to all but a single instant, there is no more room for change.\" For example if you wanted to get the velocity at 3 minutes (at an instant in time), and the velocity requires a measure of time to calculate it, then it really doesn't make sense at face value. This is saying that $ \\delta t $ would be zero so the equation above would some to zero.\n",
    "\n",
    "Lucky we had some really smart people, the cool cats that founded calculus, that came up with an inspired solution here. For our example this instantaneous rate of change would be an 'instantaneous velocity'. It is the velocity at a single point (which again doesn't quite make sense). But what if you were to think of this change to happen at a $ \\delta~t $ that approaches zero ($ \\delta~t to zero $). Not is zero but forever gets closer and closer to zero. \n",
    "\n",
    "$$ \\frac{instantaneous~'change'~in~displacement}{instantaneous~'change'~in~time} = \\lim_{\\delta t \\to 0} \\frac{\\delta h}{\\delta t} = instantaneous~velocity $$\n",
    "\n",
    "Using the formula from above and adding in our limit that $ \\delta~t to zero $ we get:\n",
    "\n",
    "\\begin{equation}\n",
    "    \\frac{\\delta h}{\\delta t} = \\lim_{\\delta t \\to 0} \\frac{h(t + \\delta t) - h(t)}{\\delta t}\n",
    "    \\tag{2}\n",
    "\\end{equation}\n",
    "\n",
    "\\begin{equation}\n",
    "    \\frac{\\delta h}{\\delta t} = \\lim_{\\delta t \\to 0} \\frac{(V_{iy}(t + \\delta t) - \\frac{1}{2}g(t + \\delta t)^2) - (V_{iy}t - \\frac{1}{2}gt^2)}{\\delta t}\n",
    "    \\tag{3}\n",
    "\\end{equation}\n",
    "\n",
    "\\begin{equation}\n",
    "    \\frac{\\delta h}{\\delta t} = \\lim_{\\delta t \\to 0} \\frac{V_{iy}(t) + V_{iy}(\\delta t) - \\frac{1}{2}gt^2 - \\frac{1}{2}g(\\delta t)^2 - g(t)(\\delta t) - V_{iy}(t) + \\frac{1}{2}gt^2}{\\delta t}\n",
    "    \\tag{4}\n",
    "\\end{equation}\n",
    "\n",
    "\\begin{equation}\n",
    "    \\frac{\\delta h}{\\delta t} = \\lim_{\\delta t \\to 0} \\frac{(V_{iy}(\\delta t) - \\frac{1}{2}g(\\delta t)^2 - g(t)(\\delta t)}{\\delta t}\n",
    "    \\tag{5}\n",
    "\\end{equation}\n",
    "\n",
    "\\begin{equation}\n",
    "    \\frac{\\delta h}{\\delta t} = \\lim_{\\delta t \\to 0} V_{iy} - \\frac{1}{2}g(\\delta t) - g(t)\n",
    "    \\tag{6}\n",
    "\\end{equation}\n",
    "\n",
    "\n",
    "As $ {\\delta t \\to 0} $ the middle term approaches zero. So this term is negligible. Note that this is why the differentiation is an approximation:\n",
    "\n",
    "\n",
    "\\begin{equation}\n",
    "    \\frac{\\delta h}{\\delta t} = V_{iy} - g(t)\n",
    "    \\tag{7}\n",
    "\\end{equation}\n",
    "\n",
    "With the above equation we can work out the 'instantaneous velocity'.\n",
    "\n",
    "Getting this instantaneous rate of change can be found for any function that can be differentiated. It is a way of getting a new function to best approximate the slope of a tangent for any given point for your original function.\n",
    "\n",
    "### The Power Rule\n",
    "\n",
    "There is a rule for this type of differentiation, when dealing with a variable with a power, named the power rule. Taking the power of the variable, multiplying that by the whole term and then taking 1 from that power:\n",
    "\n",
    "\\begin{equation}\n",
    "    \\frac{d}{dx}(ax^n) = anx^{n-1}\n",
    "    \\tag{The Power Rule}\n",
    "\\end{equation}\n",
    "\n",
    "You will note that if applied to equation 1 it can produce equation 7 in two easy steps. Applying the power rule to differentiate each term of the equation for vertical motion:\n",
    "\n",
    "$$ \\frac{\\delta h}{\\delta t} = (1)V_{iy}t^{1-1} - (2)\\frac{1}{2}gt^{2-1} $$\n",
    "\n",
    "And simplifying we get equation 7 that calculates velocity:\n",
    "\n",
    "$$ \\frac{\\delta h}{\\delta t} = V_{iy} - g(t) $$\n",
    "\n",
    "This rule is what is used to calculate the derivatives in the *polynomial_differentiation* method below."
   ]
  },
  {
   "cell_type": "markdown",
   "metadata": {},
   "source": [
    "## Implementation"
   ]
  },
  {
   "cell_type": "code",
   "execution_count": 47,
   "metadata": {},
   "outputs": [],
   "source": [
    "def polynomial_differentiation(input_polynomial, return_tup_of_tups=False):\n",
    "    \"\"\"\n",
    "    Calculates the derivative of a polynomial using the power rule.\n",
    "\n",
    "    Args:\n",
    "        input_polynomial (list or tuple): List (or tuple) containing lists (or tuples) with two values.\n",
    "                                            These two values represent the coefficient and variable power\n",
    "                                            of each term of the polynomial. (e.g. 2x^5 + 8x^4 would be \n",
    "                                            represented by [[2 ,5], [8, 4]] or ((2, 5), (8, 4)) )\n",
    "\n",
    "    Returns:\n",
    "        list: Returns a list of lists that represent the polynomial after differentiation. [[5, 6], [5, 5]]\n",
    "                is the polynomial 5x^6 + 5x^5\n",
    "\n",
    "    \"\"\"\n",
    "\n",
    "    # Empty list that will contain the output polynomial\n",
    "    output_polynomial = []\n",
    "\n",
    "    # for each term of the polynomial\n",
    "    for term in input_polynomial:\n",
    "        # if only one element in the list representing a term treat as a constant\n",
    "        if len(term) == 1:\n",
    "            coefficient = term[0]\n",
    "            var_power = 0\n",
    "        # else grab the coefficient and the power for the term\n",
    "        else:\n",
    "            coefficient, var_power = term\n",
    "        # Check to see if input is a valid polynomial\n",
    "        if var_power == None or var_power < 0:\n",
    "            print(\"Input polynomial contains negative or type None power for a variable. Input needs to be a valid polynomial.\")\n",
    "            return\n",
    "        # Check to see if the coefficient is None (not a valid input)\n",
    "        if coefficient == None:\n",
    "            print(\"Input polynomial contains type None for a coefficient. Input needs to be a valid polynomial.\")\n",
    "            return\n",
    "        # if either the coefficient or the power are zero the term is zero so pass\n",
    "        if coefficient == 0 or var_power == 0:\n",
    "            pass\n",
    "        # Apply the power rule to the term of the polynomial and add to output_polynomial list\n",
    "        else:\n",
    "            output_polynomial.append([coefficient * var_power, var_power - 1])\n",
    "\n",
    "    if return_tup_of_tups == True:\n",
    "        tuple(map(tuple, output_polynomial))\n",
    "\n",
    "    # Return the polynomial after differentiation\n",
    "    return(output_polynomial)\n"
   ]
  },
  {
   "cell_type": "markdown",
   "metadata": {},
   "source": [
    "## Evaluating a polynomial for a given value\n",
    "\n",
    "To evaluate a polynomial we simple enter the variable into the polynomial.\n",
    "\n",
    "Lets take the equation for vertical motion as example.\n",
    "\n",
    "$$ h(t) = V_{iy}t - \\frac{1}{2}gt^2 $$\n",
    "\n",
    "If we record the initial velocity as $ 20 m/s $ and we take deceleration due to gravity as $ 9.81 m/s^2 $:\n",
    "\n",
    "$$ h(t) = 20(t) - (\\frac{9.81}{2})t^2 $$\n",
    "\n",
    "We can find the height $ h $ for any given time $ t $. Lets say we wanted to find the height after 2 seconds:\n",
    "\n",
    "$$ h(2) = 20(2) - (4.9)(2^2) = 20.4 m $$\n",
    "\n",
    "We now know that the height after 2 seconds with an initial velocity of $ 20 m/s $ is 20 meters. The below function is built to evaluate a given polynomial input_polynomial for a known variable know_var"
   ]
  },
  {
   "cell_type": "code",
   "execution_count": 48,
   "metadata": {},
   "outputs": [],
   "source": [
    "def evaluate_polynomial(input_polynomial, known_var):\n",
    "    \"\"\"\n",
    "    Evaluates the polynomial after differentiation for a known variable\n",
    "\n",
    "    Args:\n",
    "        input_polynomial (list or tuple): List (or tuple) containing lists (or tuples) with two values.\n",
    "                                            These two values represent the coefficient and variable power\n",
    "                                            of each term of the polynomial. (e.g. 2x^5 + 8x^4 would be \n",
    "                                            represented by [[2 ,5], [8, 4]] or ((2, 5), (8, 4)) )\n",
    "        known_var (int or float): number (int or float) that is the know variable of the polynomial\n",
    "\n",
    "    Returns:\n",
    "        int or float: The final value of the differentiated input_polynomial by inputting the known_var\n",
    "                        into the output polynomial.\n",
    "    \"\"\"\n",
    "\n",
    "    # var to hold the addition of each term of the differentiated polynomial to produce a scalar\n",
    "    scalar = 0\n",
    "    # for each term of the polynomial\n",
    "    for term in input_polynomial:\n",
    "        # check to see if input is a number\n",
    "        if isinstance(known_var, (int, float)):\n",
    "            # if only one element or power is 0 in the list representing a term treat as a constant\n",
    "            if len(term) == 1 or term[1] == 0:\n",
    "                scalar += term[0]\n",
    "            elif term[0] == 0:\n",
    "                scalar += known_var**term[1]\n",
    "            # else grab the coefficient and the power for the term\n",
    "            else:\n",
    "                coefficient, var_power = term\n",
    "                # Use the input variable to calculate the term and add it to make up the scalar\n",
    "                scalar += (known_var**var_power)*coefficient\n",
    "        # if not a number provide feedback and end it\n",
    "        else:\n",
    "            print(f\"Float or int needed for calculation {type(known_var)} used.\")\n",
    "            return\n",
    "\n",
    "    return scalar"
   ]
  },
  {
   "cell_type": "markdown",
   "metadata": {},
   "source": [
    "## Testing\n",
    "\n",
    "### Testing differentiation of polynomials\n",
    "\n",
    "Below I will work through testing polynomials first with math using the power rule and then the above function to compare results.\n",
    "\n",
    "#### Test 1: 0 Exponential (constant) and minus coefficient \n",
    "TODO: Add line in doc string to explain adding constants with 0 exp\n",
    "\n",
    "Polynomial: \n",
    "\n",
    "$$ y(x) = 2x^3 - 5x^7 + 4 $$\n",
    "\n",
    "Differentiation:\n",
    "\n",
    "$$ \\frac{dy}{dx} = 3(2)x^{3-1} - 7(5)x^{7-1} $$\n",
    "\n",
    "$$ \\frac{dy}{dx} = 6x^{2} - 35x^{6} $$"
   ]
  },
  {
   "cell_type": "code",
   "execution_count": 49,
   "metadata": {},
   "outputs": [
    {
     "data": {
      "text/plain": [
       "[[6, 2], [-35, 6]]"
      ]
     },
     "execution_count": 49,
     "metadata": {},
     "output_type": "execute_result"
    }
   ],
   "source": [
    "# Used this post in Q&A as inspiration: https://learn.ul.ie/d2l/le/10675/discussions/threads/7746/View\n",
    "# Test 1\n",
    "zero_exp_poly = [[2, 3], [-5, 7], [4, 0]]\n",
    "polynomial_differentiation(zero_exp_poly)"
   ]
  },
  {
   "cell_type": "markdown",
   "metadata": {},
   "source": [
    "#### Test 2: Extreme exponential [x^1000000]\n",
    "\n",
    "Polynomial: \n",
    "\n",
    "$$ y(x) = x + 8x^37 + 6x^1000000 $$\n",
    "\n",
    "Differentiation:\n",
    "\n",
    "$$ \\frac{dy}{dx} = 37(8)x^{37-1} + 1000000(6)x^{1000000-1} $$\n",
    "\n",
    "$$ \\frac{dy}{dx} = 296x^{36} + 6000000^{999999} $$"
   ]
  },
  {
   "cell_type": "code",
   "execution_count": 50,
   "metadata": {},
   "outputs": [
    {
     "data": {
      "text/plain": [
       "[[1, 0], [296, 36], [6000000, 999999]]"
      ]
     },
     "execution_count": 50,
     "metadata": {},
     "output_type": "execute_result"
    }
   ],
   "source": [
    "\n",
    "# Test 2\n",
    "extreme_poly = [[1, 1], [8, 37], [6, 1000000]]\n",
    "polynomial_differentiation(extreme_poly)"
   ]
  },
  {
   "cell_type": "markdown",
   "metadata": {},
   "source": [
    "#### Test 3: two elements with the same exponential\n",
    "\n",
    "Polynomial: \n",
    "\n",
    "$$ y(x) = 2x^3 + 77x^3 + 88x^88 $$\n",
    "\n",
    "Differentiation:\n",
    "\n",
    "$$ \\frac{dy}{dx} = 3(2)x^{3-1} + 3(77)x^{3-1} + 88(88)x^{88-1} $$\n",
    "\n",
    "$$ \\frac{dy}{dx} = 6x^{2} + 231x^{2} + 7744x^{87} $$"
   ]
  },
  {
   "cell_type": "code",
   "execution_count": 51,
   "metadata": {},
   "outputs": [
    {
     "data": {
      "text/plain": [
       "[[6, 2], [231, 2], [7744, 87]]"
      ]
     },
     "execution_count": 51,
     "metadata": {},
     "output_type": "execute_result"
    }
   ],
   "source": [
    "# Test 3: two elements with the same exponential\n",
    "same_exp_poly = [[2, 3], [77, 3], [88, 88]]\n",
    "polynomial_differentiation(same_exp_poly)"
   ]
  },
  {
   "cell_type": "markdown",
   "metadata": {},
   "source": [
    "#### Test 4: null/None value for exponential\n",
    "\n",
    "Polynomial: \n",
    "\n",
    "$$ y(x) = 9x^{None} + 5x^9 + 12x^6 $$\n",
    "\n",
    "Differentiation:\n",
    "\n",
    "$$ \\frac{dy}{dx} = None(9)x^{None-1} + 9(5)x^{9-1} + 6(12)x^{6-1} $$\n",
    "\n",
    "$$ \\frac{dy}{dx} = None(9)x^{None-1} + 45x^{8} + 72x^{5} $$\n",
    "\n",
    "I am choosing not to interpret None as 0 because a None value can come from any number of reasons and my not necessarily mean 0."
   ]
  },
  {
   "cell_type": "code",
   "execution_count": 52,
   "metadata": {},
   "outputs": [
    {
     "name": "stdout",
     "output_type": "stream",
     "text": [
      "Input polynomial contains negative or type None power for a variable. Input needs to be a valid polynomial.\n"
     ]
    }
   ],
   "source": [
    "# Test 4: null value for exponential\n",
    "null_poly_exp = [[9, None], [5, 9], [12, 6]]\n",
    "polynomial_differentiation(null_poly_exp)"
   ]
  },
  {
   "cell_type": "markdown",
   "metadata": {},
   "source": [
    "#### Test 5: null/None value for coefficient\n",
    "\n",
    "Polynomial: \n",
    "\n",
    "$$ y(x) = Nonex^{9} + 5x^9 + 12x^6 $$\n",
    "\n",
    "Differentiation:\n",
    "\n",
    "$$ \\frac{dy}{dx} = 9(None)x^{9-1} + 9(5)x^{9-1} + 6(12)x^{6-1} $$\n",
    "\n",
    "$$ \\frac{dy}{dx} = 9(None)x^{8} + 45x^{8} + 72x^{5} $$\n",
    "\n",
    "Again I am choosing not to interpret None as 0."
   ]
  },
  {
   "cell_type": "code",
   "execution_count": 53,
   "metadata": {},
   "outputs": [
    {
     "name": "stdout",
     "output_type": "stream",
     "text": [
      "Input polynomial contains type None for a coefficient. Input needs to be a valid polynomial.\n"
     ]
    }
   ],
   "source": [
    "# Test 5\n",
    "null_poly_coef = [[None, 9], [5, 9], [12, 6]]\n",
    "polynomial_differentiation(null_poly_coef)"
   ]
  },
  {
   "cell_type": "markdown",
   "metadata": {},
   "source": [
    "#### Test 6: infinity value for coefficient\n",
    "\n",
    "Polynomial: \n",
    "\n",
    "$$ y(x) = (\\infty)x^{6} + 6x^815- 3x $$\n",
    "\n",
    "Differentiation:\n",
    "\n",
    "$$ \\frac{dy}{dx} = 6(\\infty)x^{6-1} + 815(6)x^{815-1} - 1(3)x^{1-1} $$\n",
    "\n",
    "$$ \\frac{dy}{dx} =  (\\infty)x^{5} + 4890x^{814} - 3 $$"
   ]
  },
  {
   "cell_type": "code",
   "execution_count": 54,
   "metadata": {},
   "outputs": [
    {
     "data": {
      "text/plain": [
       "[[inf, 5], [4890, 814], [-3, 0]]"
      ]
     },
     "execution_count": 54,
     "metadata": {},
     "output_type": "execute_result"
    }
   ],
   "source": [
    "# Test 6\n",
    "inf_poly_coef = [[float('inf'), 6], [6, 815], [-3, 1]]\n",
    "polynomial_differentiation(inf_poly_coef)"
   ]
  },
  {
   "cell_type": "markdown",
   "metadata": {},
   "source": [
    "#### Test 7: infinity value for exponential\n",
    "\n",
    "Polynomial: \n",
    "\n",
    "$$ y(x) = 20x^{\\infty} - 10x^6 + 30x^6 $$\n",
    "\n",
    "Differentiation:\n",
    "\n",
    "$$ \\frac{dy}{dx} = \\infty(20)x^{\\infty-1} + 6(10)x^{6-1} + 6(30)x^{6-1} $$\n",
    "\n",
    "$$ \\frac{dy}{dx} = (\\infty)x^{\\infty} + 60^{5} + 180x^{5} $$"
   ]
  },
  {
   "cell_type": "code",
   "execution_count": 55,
   "metadata": {},
   "outputs": [
    {
     "data": {
      "text/plain": [
       "[[inf, inf], [60, 5], [180, 5]]"
      ]
     },
     "execution_count": 55,
     "metadata": {},
     "output_type": "execute_result"
    }
   ],
   "source": [
    "# Test 7\n",
    "inf_poly_exp = [[20, float('inf')], [10, 6], [30, 6]]\n",
    "polynomial_differentiation(inf_poly_exp)"
   ]
  },
  {
   "cell_type": "markdown",
   "metadata": {},
   "source": [
    "#### Test 8: Negative infinity value for coefficient\n",
    "\n",
    "Polynomial: \n",
    "\n",
    "$$ y(x) = (-\\infty)x^{6} + 23x^45 - 40x^2 $$\n",
    "\n",
    "Differentiation:\n",
    "\n",
    "$$ \\frac{dy}{dx} = 6(-\\infty)x^{6-1} + 45(23)x^{45-1} - 2(40)x^{2-1} $$\n",
    "\n",
    "$$ \\frac{dy}{dx} =  (-\\infty)x^{5} + 1035x^{44} - 80x $$"
   ]
  },
  {
   "cell_type": "code",
   "execution_count": 56,
   "metadata": {},
   "outputs": [
    {
     "data": {
      "text/plain": [
       "[[-inf, 5], [1035, 44], [-80, 1]]"
      ]
     },
     "execution_count": 56,
     "metadata": {},
     "output_type": "execute_result"
    }
   ],
   "source": [
    "# Test 8\n",
    "neg_inf_poly_coef = [[-float('inf'), 6], [23, 45], [-40, 2]]\n",
    "polynomial_differentiation(neg_inf_poly_coef)"
   ]
  },
  {
   "cell_type": "markdown",
   "metadata": {},
   "source": [
    "#### Test 9: the vertical motion equation\n",
    "\n",
    "Polynomial: \n",
    "\n",
    "$$ h(t) = V_{iy}t - \\frac{1}{2}gt^2 $$\n",
    "\n",
    "Where:\n",
    "\n",
    "V_{iy} = 20 m/s\n",
    "g = 9.81 m/s^2\n",
    "\n",
    "$$ h(t) = 20t - 4.9t^2 $$\n",
    "\n",
    "Differentiation:\n",
    "\n",
    "$$ \\frac{\\delta h}{\\delta t} = 1(20)t^{1-1} - 2(4.9)t^{2-1} $$\n",
    "\n",
    "$$ \\frac{dy}{dx} = 20 - 9.81t $$"
   ]
  },
  {
   "cell_type": "code",
   "execution_count": 57,
   "metadata": {},
   "outputs": [
    {
     "data": {
      "text/plain": [
       "[[20, 0], [-9.8, 1]]"
      ]
     },
     "execution_count": 57,
     "metadata": {},
     "output_type": "execute_result"
    }
   ],
   "source": [
    "# Test 8\n",
    "vert_motion_poly = [[20, 1], [-4.9, 2]]\n",
    "polynomial_differentiation(vert_motion_poly)"
   ]
  },
  {
   "cell_type": "markdown",
   "metadata": {},
   "source": [
    "### Testing evaluation for a known variable for a polynomial\n",
    "\n",
    "#### Test 1\n",
    "\n",
    "Polynomial: \n",
    "\n",
    "$$ f(x) = 34x - 5x^2 + 23x^{14} $$\n",
    "\n",
    "Evaluation at $ x = 3 $:\n",
    "\n",
    "$$ f(3) = 34(3) - 5(3)^2 + 23(3)^{14} = 110,008,434 $$"
   ]
  },
  {
   "cell_type": "code",
   "execution_count": 58,
   "metadata": {},
   "outputs": [
    {
     "data": {
      "text/plain": [
       "110008434"
      ]
     },
     "execution_count": 58,
     "metadata": {},
     "output_type": "execute_result"
    }
   ],
   "source": [
    "poly_eval_1 = [[34, 1], [5, 2], [23, 14]]\n",
    "evaluate_polynomial(poly_eval_1, 3)"
   ]
  },
  {
   "cell_type": "markdown",
   "metadata": {},
   "source": [
    "#### Test 2\n",
    "\n",
    "Polynomial: \n",
    "\n",
    "$$ f(y) = y + 10y^{26} + 10y^{14} $$\n",
    "\n",
    "Evaluation at $ y = 6 $:\n",
    "\n",
    "$$ f(6) = 6 + 10(6)^{26} + 10(6)^{14} = 1,705,817,282,579,423,723,526 $$"
   ]
  },
  {
   "cell_type": "code",
   "execution_count": 59,
   "metadata": {},
   "outputs": [
    {
     "data": {
      "text/plain": [
       "1705817282579423723526"
      ]
     },
     "execution_count": 59,
     "metadata": {},
     "output_type": "execute_result"
    }
   ],
   "source": [
    "poly_eval_2 = [[0, 1], [10, 26], [10, 14]]\n",
    "evaluate_polynomial(poly_eval_2, 6)"
   ]
  },
  {
   "cell_type": "markdown",
   "metadata": {},
   "source": [
    "#### Test 3\n",
    "\n",
    "Earlier we evaluated the polynomial that represents the equation for vertical motion for a time of 2 seconds. It had an initial velocity of $ 20 m/s $ and acceleration due to gravity as $ 9.81 m/s^2 $. It was evaluated as $ 20.4 m $:\n",
    "\n",
    "$$ h(2) = 20(2) - (4.9)(2^2) = 20.4 m $$"
   ]
  },
  {
   "cell_type": "code",
   "execution_count": 60,
   "metadata": {},
   "outputs": [
    {
     "data": {
      "text/plain": [
       "20.4"
      ]
     },
     "execution_count": 60,
     "metadata": {},
     "output_type": "execute_result"
    }
   ],
   "source": [
    "vert_motion_poly_eval = [[20, 1], [-4.9, 2]]\n",
    "evaluate_polynomial(vert_motion_poly_eval, 2)"
   ]
  },
  {
   "cell_type": "markdown",
   "metadata": {},
   "source": [
    "<hr style=\"border:2px solid gray\"> </hr>"
   ]
  },
  {
   "cell_type": "markdown",
   "metadata": {},
   "source": [
    "## Reflection"
   ]
  },
  {
   "cell_type": "markdown",
   "metadata": {},
   "source": [
    "Write your reflection in below cell. With reference to the Rubric for E-tivity 1:\n",
    "### Provide an accurate description of your code with advantages and disadvantages of design choices.\n",
    "\n",
    "I first decided to read the task and the rubric and understand what was being asked of in the task. I saw a lot of discussion on the forum around using a string to represent an actual polynomial. I decided against this approach as (also mentioned in the discussions) the task asked for a symbolic input of a polynomial.\n",
    "\n",
    "The first choice was how to symbolically represent a polynomial. I knew that the hint in the task description, of using a list of only the coefficients and the position of that element as the power, would be fine for small order polynomials. However, as hint 2 suggested, it was impractical for higher orders. A possible answer came to me when reading Vaclav Krol post on using dictionaries. I knew I wanted to be able to have two terms with the same orders (as this is still a valid polynomial) and dictionaries didn't allow for this (sets also pose this same issue). However, I did like the idea of inputting both the coefficient and the power. The answer was then obvious to use either lists or tuples. Since processing these are the same in Python I decided to write my function to be able to handle either. It is only adding elements to either of these that sets them apart. This decision was cemented after reading posts and comments from Clarkes, Colemans, and Mitchs posts.\n",
    "\n",
    "I knew the output would be a list as a tuple is immutable but later I thought that you might want to return it as a tuple of tuples (as these are quicker to process). This is why I introduced the optional parameter return_tup_of_tups to my polynomial_differentiation function. It allows the user to decide what the output will be, although at the cost of taking longer to process. Below in the appendix I have done some time trials on the different inputs and edited my polynomial_differentiation function to handle dictionaries. Although dictionaries are faster (as expected because lookups are quicker for dictionaries) I decided for the flexibility of lists/tuples.\n",
    "\n",
    "In the body of my function I was first looping through each term and grabbing the coefficients and powers directly. After Mohammed AlJaaidi pointed out in my post that a constant could also be represented by a list with only one element I changed this. It now checks each term and add the power as zero if this is the case, making my code more robust, so thank you Mohammed.\n",
    "\n",
    "Once the values are available I then check to see if the power is greater then zero. As a polynomial does not have negative powers. After one of the Q&As with Pep where he said that None could be entered also I check for this here too. I decided to treat None as an error and not as zero because there are many reasons for None to appear in Python. I then check to see if the coefficient is None. Either of these ends the function because a valid polynomial was not entered. This was a personal choice based on these attributes however I know Peter O'Mahony evaluates it as zero which allows the function to succeed more as it is less strict.\n",
    "\n",
    "The last check is to see if either the coefficient or the power are zero. If this is the case it uses pass and moves on to the next term of the polynomial, as this will be treated as zero.\n",
    "\n",
    "All of these checks slow down the function (although arguably negligibly) but make the function more robust.\n",
    "\n",
    "Then I perform the power rule on the term and add it to the output list.\n",
    "\n",
    "After all elements of the input are looped through I return the differentiation.\n",
    "\n",
    "### Compare your approach to alternative (peer) approaches.\n",
    "\n",
    "As mentioned above many solutions use string parsing to end up with their symbolic polynomial before differentiating. Although it is an interesting approach, neither the task or the rubric asked for this so I decided against it.\n",
    "\n",
    "The main difference between solutions is the choice of input. This is all down to personal choice. Some like Phil Clarke, Deventhiran Ranganathan, Vaclav Krol, and Liam Mulcahy used dictionaries, opting for speed over flexibility. Some like Bartlomiej Mlynarkiewicz, Mitchell DeBruyn, Godfrey Jeremiah, and Aurelie Montfrond used a list to represent coefficients and the position of the element then would represent the power. This is great for small order polynomials but the higher order you go the more inefficient it gets. Pierce Currid, Julieta Rubis, and I used similar approaches with a combination of lists or tuples inside a list or tuples. I haven't fully gone through the others code enough to confirm but I suspect any combination of lists and tuples will work with their solution. Jason Coleman uses a combination of a set and tuples for space-efficiency although I don't know how these match up in comparison to dictionaries or just tuple of tuples.\n",
    "\n",
    "I chose flexibility over all else. The tests in the Appendix show there is not much in the difference for the speed and I didn't think space was a factor for this exercise.\n",
    "\n",
    "The second difference after input is how to evaluate the input for potential problems. I like many others have checked for less the zero values for the exponential. There is possibility to have the function work for negatives but I decided to be strict in my approach to only differentiate polynomials. At the time of writing this I have found no other solution that checks for None values in the symbolic polynomial, I added this (as stated earlier) after one of the Q&A sessions where Pep mentions it.\n",
    "\n",
    "### Clearly describe how you have used your peers' work/input and how this has affected your own understanding / insights.\n",
    "\n",
    "- Although I was describing the theory behind differentiation of a polynomial and using the power rule in my function I realised after looking through Jason Colemans and Mitchell DeBruyns notebooks that I had not described the power rule. Thanks to them there is not a connection to what is used in the function and the theory.\n",
    "\n",
    "- As mentioned earlier Vaclav Krol made me consider dictionaries as a choice of input. Along with posts/comments from Mitchell DeBruyn and Jason Coleman these helped me cement my decision of a list of lists or a tuple of tuples.\n",
    "\n",
    "- I though Phil Clarkes addition of references was a nice touch so I did the same.\n",
    "\n",
    "\n",
    "If you have not used peer input, you may state this, but your submission history in Gitlab should clearly show this is the case."
   ]
  },
  {
   "cell_type": "markdown",
   "metadata": {},
   "source": [
    "list/tuples were used because if the polynomial had more then 1 of the same power for a variable it would allow this. A dictionary or set would not allow this flexibility. Either you could not have the same coefficient or you could not have the same exponential. Because polynomials can come in any shape or size I have decided with lists/tuples. That being said if not taking this consideration dictionaries (at least for how I built my solution) are faster (See appendix for more)"
   ]
  },
  {
   "cell_type": "markdown",
   "metadata": {},
   "source": [
    "# References\n",
    "\n",
    "- Murphy, O. (1986). Fundamental Applied Mathematics.\n",
    "- 3 Blue 1 Brown on www.youtube.com. The paradox of the derivative | Chapter 2, Essence of calculus. [online](https://www.youtube.com/watch?v=9vKqVkMQHKk&list=PL0-GT3co4r2wlh6UHTUeQsrf3mlS2lk6x&index=2)\n",
    "- 3 Blue 1 Brown on www.youtube.com. Derivative formulas through geometry | Chapter 3, Essence of calculus. [online](https://www.youtube.com/watch?v=S0_qX4VJhMQ&list=PL0-GT3co4r2wlh6UHTUeQsrf3mlS2lk6x&index=3)"
   ]
  },
  {
   "cell_type": "markdown",
   "metadata": {},
   "source": [
    "## Appendix"
   ]
  },
  {
   "cell_type": "code",
   "execution_count": 61,
   "metadata": {},
   "outputs": [],
   "source": [
    "def dict_polynomial_differentiation(input_polynomial):\n",
    "\n",
    "    # Empty list that will contain the output polynomial\n",
    "    output_polynomial = {}\n",
    "\n",
    "    # for each term of the polynomial use the coefficient and the power of the variable\n",
    "    for coefficient, var_power in input_polynomial.items():\n",
    "        # Check to see if input is a valid polynomial\n",
    "        if var_power == None or var_power < 0:\n",
    "            print(\"Input polynomial contains negative or type None power for a variable. Input needs to be a valid polynomial.\")\n",
    "            return\n",
    "        # Check to see if the coefficient is None (not a valid input)\n",
    "        if coefficient == None:\n",
    "            print(\"Input polynomial contains type None for a coefficient. Input needs to be a valid polynomial.\")\n",
    "            return\n",
    "        # if either the coefficient or the power are zero the term is zero so pass\n",
    "        if coefficient == 0 or var_power == 0:\n",
    "            pass\n",
    "        # Apply the power rule to the term of the polynomial and add to output_polynomial list\n",
    "        else:\n",
    "            output_polynomial[coefficient * var_power] = var_power - 1\n",
    "\n",
    "    # Return the polynomial after differentiation\n",
    "    return(output_polynomial)\n",
    "\n",
    "# Maybe spread each step out so process is more clear\n",
    "x1 = ((1, 2), (3, 4), (7, 8))\n",
    "y1 = [[1, 2], [3, 4], [7, 8]]\n",
    "dict1 = {1:2,3:4,7:8}\n",
    "x2 = ((1, 2), (3, 4), (7, 8), (3, 1000))\n",
    "y2 = [[1, 2], [3, 4], [7, 8], [3, 1000]]\n",
    "dict2 = {1:2,3:4,7:8,3:1000}\n",
    "x3 = ((1, 2), (3, 4), (7, 8), (3, 1000), (45, 36000))\n",
    "y3 = [[1, 2], [3, 4], [7, 8], [3, 1000], [45, 36000]]\n",
    "dict3 = {1:2,3:4,7:8,3:1000,45:36000}\n",
    "x4 = ((1, 2), (3, 4), (7, 8), (3, 1000), (45, 36000), (234, 600000000))\n",
    "y4 = [[1, 2], [3, 4], [7, 8], [3, 1000], [45, 36000], [234, 600000000]]\n",
    "dict4 = {1:2,3:4,7:8,3:1000,45:36000,234:600000000}\n",
    "\n",
    "# Uncomment/Comment the below to turn on/off the time tests. I have turned them off because they take a considerable time to run in comparison to the rest of the notebook.\n",
    "# print(\"This is for first\")\n",
    "# %timeit polynomial_differentiation(x1)\n",
    "# %timeit polynomial_differentiation(y1)\n",
    "# %timeit dict_polynomial_differentiation(dict1)\n",
    "# print(\"This is for second\")\n",
    "# %timeit polynomial_differentiation(x2)\n",
    "# %timeit polynomial_differentiation(y2)\n",
    "# %timeit dict_polynomial_differentiation(dict2)\n",
    "# print(\"This is for third\")\n",
    "# %timeit polynomial_differentiation(x3)\n",
    "# %timeit polynomial_differentiation(y3)\n",
    "# %timeit dict_polynomial_differentiation(dict3)\n",
    "# print(\"This is for fourth\")\n",
    "# %timeit polynomial_differentiation(x4)\n",
    "# %timeit polynomial_differentiation(y4)\n",
    "# %timeit dict_polynomial_differentiation(dict4)"
   ]
  }
 ],
 "metadata": {
  "kernelspec": {
   "display_name": "Python 3 (ipykernel)",
   "language": "python",
   "name": "python3"
  },
  "language_info": {
   "codemirror_mode": {
    "name": "ipython",
    "version": 3
   },
   "file_extension": ".py",
   "mimetype": "text/x-python",
   "name": "python",
   "nbconvert_exporter": "python",
   "pygments_lexer": "ipython3",
   "version": "3.11.4"
  }
 },
 "nbformat": 4,
 "nbformat_minor": 2
}
