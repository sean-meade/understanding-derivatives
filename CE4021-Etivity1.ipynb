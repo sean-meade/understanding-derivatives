{
 "cells": [
  {
   "cell_type": "markdown",
   "metadata": {},
   "source": [
    "# Notebook E-tivity 1 CE4021"
   ]
  },
  {
   "cell_type": "markdown",
   "metadata": {},
   "source": [
    "Student name:Phil Clarke"
   ]
  },
  {
   "cell_type": "markdown",
   "metadata": {},
   "source": [
    "Student ID: 23291567"
   ]
  },
  {
   "cell_type": "markdown",
   "metadata": {},
   "source": [
    "<hr style=\"border:2px solid gray\"> </hr>"
   ]
  },
  {
   "cell_type": "markdown",
   "metadata": {},
   "source": [
    "## Task - DRAFT"
   ]
  },
  {
   "cell_type": "markdown",
   "metadata": {},
   "source": [
    "Write 2 Python functions:\n",
    "\n",
    "Function 1:\n",
    "The first one to symbolically calculate the derivative of a polynomial with one variable. The input should be a polynomial and the output should also be a polynomial.\n",
    "\n",
    "Function 2:\n",
    "The second one to evaluate (i.e. get the numerical value) of a polynomial for a given value of its variable. The input should be a polynomial and a value (point at which to evaluate the polynomial). The output should be a scalar.\n",
    "Test your code with a few salient polynomials (minimum of 3) for which you have calculated the derivative of these polynomials manually."
   ]
  },
  {
   "cell_type": "markdown",
   "metadata": {},
   "source": [
    "# Function 1"
   ]
  },
  {
   "cell_type": "code",
   "execution_count": null,
   "metadata": {
    "scrolled": true
   },
   "outputs": [],
   "source": [
    "#Function 1\n",
    "#The first task is to a) understand a polynomial in Python from an input and calculate its derivative.\n",
    "#Using dictionaries with parsing appears to be the best starting point.\n",
    "#The output should be in the same format as the input.\n",
    "\n",
    "#Creating an input for a polynomial\n",
    "polynomial = input(\"Please enter a polynomial in the format '1+x^2-3x^7+100x^9' - Note it will not work for negative powers however order does not matter:\") \n",
    "print(polynomial)\n",
    "#FOR LATER - Error checking on neagtive powers?\n"
   ]
  },
  {
   "cell_type": "code",
   "execution_count": null,
   "metadata": {},
   "outputs": [],
   "source": [
    "def polynomialparser(polynomial):\n",
    "    # create a blank list to store the individial terms of the polynomial\n",
    "    #set the initial term as \"\" for the purposes of iteration\n",
    "    terms = []\n",
    "    initial_term = \"\"\n",
    "\n",
    "    # Iterate through each character in the expression creating terms everything we see a - or + sign\n",
    "    for char in polynomial:\n",
    "        if char in \"+-\":\n",
    "            terms.append(initial_term)\n",
    "            initial_term = char\n",
    "        else:\n",
    "            # If it's not a '+' or '-' sign, add the character to the current term\n",
    "            initial_term += char\n",
    "\n",
    "    # Add the last term to the list (assuming the expression ends with a term)\n",
    "    terms.append(initial_term)\n",
    "\n",
    "    # Filter out any empty strings\n",
    "    #terms = [term for term in terms if term]\n",
    "\n",
    "    # Initialize a dictionary to store coefficients and powers of the polynominal\n",
    "    poly_dict = {}\n",
    "    \n",
    "    # Iterate through the terms\n",
    "    for term in terms:\n",
    "        coefficient = 1  # Default coefficient if none is specified for example \"x or x^2\"\n",
    "        power = 0       # Default power if none is specified  for example \"1 or 5 or n as a cooefficent\"\n",
    "\n",
    "        # Split the term into parts based on 'x', so therefore seperating out the coeff and the power parts\n",
    "        parts = term.split('x')\n",
    "\n",
    "        if parts[0]:  # Check if there's a coefficient part before 'x'\n",
    "            coefficient_str = parts[0]\n",
    "            if coefficient_str != '-':\n",
    "                coefficient = int(coefficient_str)\n",
    "\n",
    "        if len(parts) > 1:  # Check if there's a power part after 'x'\n",
    "            if '^' in parts[1]:\n",
    "                power = int(parts[1].split('^')[1])\n",
    "\n",
    "        poly_dict[power] = coefficient\n",
    "\n",
    "    return poly_dict\n",
    "\n",
    "#This part of the codes takes the current dictionary and essentially runs the power rule of differentiation on each value and key pair.\n",
    "#reducing the power by 1 and multiplying the value by the key.\n",
    "\n",
    "Old_dict = polynomialparser(polynomial)\n",
    "\n",
    "new_dict = {}\n",
    "\n",
    "for key, value in Old_dict.items():\n",
    "    new_key = key - 1\n",
    "    new_value = key * value\n",
    "    new_dict[new_key] = new_value\n",
    "\n",
    "# Here the dictionary is sorted by the keys to ensure it is displayed in ascending order of power, the input does not require that order.\n",
    "sorted_dict = dict(sorted(new_dict.items()))\n",
    "\n",
    "polynomial_terms = []\n",
    "\n",
    "for power, coefficient in sorted_dict.items():\n",
    "    if coefficient != 0:\n",
    "        term = f\"{coefficient}x^{power}\" if power > 1 else f\"{coefficient}x\" if power == 1 else str(coefficient)\n",
    "        polynomial_terms.append(term)\n",
    "\n",
    "#Here the terms are joined back together\n",
    "Dervitative_expression = \" + \".join(polynomial_terms)\n",
    "\n",
    "print(\"The Original polynomial expression:\", polynomial)\n",
    "print(\"The Derivative polynomial expression:\", Dervitative_expression)\n"
   ]
  },
  {
   "cell_type": "markdown",
   "metadata": {},
   "source": [
    "# Function 2\n"
   ]
  },
  {
   "cell_type": "markdown",
   "metadata": {},
   "source": [
    "Function 2: The second one to evaluate (i.e. get the numerical value) of a polynomial for a given value of its variable. The input should be a polynomial and a value (point at which to evaluate the polynomial). The output should be a scalar. Test your code with a few salient polynomials (minimum of 3) for which you have calculated the derivative of these polynomials manually.\n",
    "\n",
    "(note: I take it that the code above can be recycled, and that I should for completeness, evaulate the polynomial and the dirative.)\n"
   ]
  },
  {
   "cell_type": "markdown",
   "metadata": {},
   "source": [
    "In this first part I will make a continuation of the polynomial derivative tools above"
   ]
  },
  {
   "cell_type": "code",
   "execution_count": 75,
   "metadata": {},
   "outputs": [
    {
     "name": "stdout",
     "output_type": "stream",
     "text": [
      "{0: 2, 5: 1}\n",
      "{-1: 0, 4: 5}\n"
     ]
    }
   ],
   "source": [
    "print(Old_dict)\n",
    "print(new_dict)"
   ]
  },
  {
   "cell_type": "code",
   "execution_count": 92,
   "metadata": {},
   "outputs": [
    {
     "name": "stdout",
     "output_type": "stream",
     "text": [
      "x=  3\n",
      "The Value of Original polynomial expression at x=: 245\n",
      "The Derivative polynomial expressionat x=: 405.0\n"
     ]
    }
   ],
   "source": [
    "def evaluation(dict,x):\n",
    "        result = 0\n",
    "        for power, coefficent in dict.items():\n",
    "            result += coefficent * (x ** power)\n",
    "        return result\n",
    "x= 3\n",
    "value_orig=evaluation(Old_dict, x)\n",
    "value_derive=evaluation(new_dict, x)\n",
    "print(\"x= \",x)\n",
    "print(\"The Value of Original polynomial expression at x=:\", value_orig)\n",
    "print(\"The Derivative polynomial expressionat x=:\", value_derive)\n"
   ]
  },
  {
   "cell_type": "markdown",
   "metadata": {},
   "source": [
    "# Testing"
   ]
  },
  {
   "cell_type": "markdown",
   "metadata": {},
   "source": [
    "In this section, I have listed dictionary values of serval polynomials in the format {power: coefficent} pairs.  Each pair is multiplied by a value of z"
   ]
  },
  {
   "cell_type": "code",
   "execution_count": 101,
   "metadata": {},
   "outputs": [
    {
     "name": "stdout",
     "output_type": "stream",
     "text": [
      "713\n",
      "2998000006\n",
      "633\n",
      "83140229033284005\n",
      "284\n",
      "7\n",
      "9\n"
     ]
    }
   ],
   "source": [
    "polynomial_1={0: 2, 5: 1, 4:6, 2:-2}\n",
    "print(evaluation(polynomial_1, 3))\n",
    "polynomial_2={0: 6, 3: 1, 3:3, 2:-2}\n",
    "print(evaluation(polynomial_2, 1000))\n",
    "polynomial_3={0: 3, 2: 1, 4:8, 2:-2}\n",
    "print(evaluation(polynomial_3, 3))\n",
    "polynomial_4={0: 99, 7: 1, 8:9, 2:-2}\n",
    "print(evaluation(polynomial_4, 99))\n",
    "polynomial_5={0: 4, 8: 1, 4:2, 2:-2}\n",
    "print(evaluation(polynomial_5, 2))\n",
    "polynomial_6={0: 7, 7: 1, 6:1, 2:-2}\n",
    "print(evaluation(polynomial_6, 1))\n",
    "polynomial_7={0: 9, 6: 1, 4:2}\n",
    "print(evaluation(polynomial_7, 0))\n"
   ]
  },
  {
   "cell_type": "code",
   "execution_count": null,
   "metadata": {},
   "outputs": [],
   "source": []
  },
  {
   "cell_type": "markdown",
   "metadata": {},
   "source": [
    "<hr style=\"border:2px solid gray\"> </hr>"
   ]
  },
  {
   "cell_type": "markdown",
   "metadata": {},
   "source": [
    "## Reflection"
   ]
  },
  {
   "cell_type": "markdown",
   "metadata": {},
   "source": [
    "Write your reflection in below cell. With reference to the Rubric for E-tivity 1:\n",
    "- Provide an accurate description of your code with advantages and disadvantages of design choices.\n",
    "I went with a design choice based around dealing with the polynomial in the a dictionary and dealing with the different elements in terms of the power rule.  My first design (not here) was extermely manual and only worked with up to x^9, meaning as I manually entered what I wanted to happend depending on where the values were in the dictionary.  this version is more versitile as it ignores order and splits the value of the power and cooefficent.\n",
    "\n",
    "Definitely the hardest element was the parsing, using regex this would have been a lot easier however this was not the exercise.\n",
    "\n",
    "The derivation part, using the for loop on the key and value pairs, I think is an elegant solution to the problem as it does efficently does the differentation and keeps the value in a dictionary form.\n",
    "\n",
    "Parsing back into the new polynomial was equally tricky as the parsing in comparsion.\n",
    "\n",
    "The evaulation section of a polynomial, was again a for loop for a value of x summed, which worked well.  I have carried this out both connected to the main exercise (function 1) but also, left it to evulate from dictionary forms of polynomials for demonstration purposes.\n",
    "\n",
    "- Compare your approach to alternative (peer) approaches.\n",
    "\n",
    "\n",
    "- Clearly describe how you have used your peers' work/input and how this has affected your own understanding / insights.\n",
    "\n",
    "Originally I went down the import re route but thanks to the forum I had that explained.  looking at some of the other solution I defintely went back and looked at my original solution to the problem as it was not good enough.  \n",
    "\n",
    "\n",
    "If you have not used peer input, you may state this, but your submission history in Gitlab should clearly show this is the case."
   ]
  },
  {
   "cell_type": "code",
   "execution_count": null,
   "metadata": {},
   "outputs": [],
   "source": []
  }
 ],
 "metadata": {
  "kernelspec": {
   "display_name": "Python 3 (ipykernel)",
   "language": "python",
   "name": "python3"
  },
  "language_info": {
   "codemirror_mode": {
    "name": "ipython",
    "version": 3
   },
   "file_extension": ".py",
   "mimetype": "text/x-python",
   "name": "python",
   "nbconvert_exporter": "python",
   "pygments_lexer": "ipython3",
   "version": "3.10.9"
  }
 },
 "nbformat": 4,
 "nbformat_minor": 2
}
