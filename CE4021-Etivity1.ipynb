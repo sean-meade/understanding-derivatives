{
 "cells": [
  {
   "cell_type": "markdown",
   "metadata": {},
   "source": [
    "# Notebook E-tivity 1 CE4021"
   ]
  },
  {
   "cell_type": "markdown",
   "metadata": {},
   "source": [
    "Student name: Peter O'Mahony"
   ]
  },
  {
   "cell_type": "markdown",
   "metadata": {},
   "source": [
    "Student ID: 8361967"
   ]
  },
  {
   "cell_type": "markdown",
   "metadata": {},
   "source": [
    "<hr style=\"border:2px solid gray\"> </hr>"
   ]
  },
  {
   "cell_type": "markdown",
   "metadata": {},
   "source": [
    "## Imports"
   ]
  },
  {
   "cell_type": "code",
   "execution_count": 1,
   "metadata": {},
   "outputs": [],
   "source": [
    "#None"
   ]
  },
  {
   "cell_type": "markdown",
   "metadata": {},
   "source": [
    "<hr style=\"border:2px solid gray\"> </hr>"
   ]
  },
  {
   "cell_type": "markdown",
   "metadata": {},
   "source": [
    "## Task"
   ]
  },
  {
   "cell_type": "markdown",
   "metadata": {},
   "source": [
    "# Option 1: Symbolic calculation of the derivative\n",
    "## Write 2 Python functions:\n",
    "\n",
    "*The first one to symbolically calculate the derivative of a polynomial with one variable. The input should be a polynomial and the output should also be a polynomial.*\n",
    "\n",
    "*The second one to evaluate (i.e. get the numerical value) of a polynomial for a given value of its variable. The input should be a polynomial and a value (point at which to evaluate the polynomial). The output should be a scalar.*\n",
    "\n",
    "*Test your code with a few salient polynomials (minimum of 3) for which you have calculated the derivative of these polynomials manually.*\n",
    "\n",
    "### Initial thoughts:\n",
    "Split it into subtasks\n",
    "1. handle input of equation\n",
    "2. differentiate the input\n",
    "3. display the resulting prettified input and output\n",
    "4. handle input of variable value\n",
    "5. calculate the result\n",
    "6. display resulting scalar\n",
    "7. display a set of test results\n",
    "\n",
    "Data structures I am considering are lists and tuples.\n",
    "I want to maximise the flexibility of the solution so I will ask the user to specify the powers rather than determine them impicitly from the order of the coefficients.\n",
    "\n",
    "I'd like to use tuples because the data are static after entered and tuples are more efficient than lists and I don't need to do much manipulation of the structures.\n",
    "\n",
    "I'll try to use UTF8 characters to prettify the results (thereby avoiding any libraries). Note Jason's idea to sort the results by descending power as is conventional.\n",
    "\n",
    "## Final Assumptions\n",
    "We expect the coefficients and powers to be positive or negative floating point numbers."
   ]
  },
  {
   "cell_type": "markdown",
   "metadata": {},
   "source": [
    "# Get coding"
   ]
  },
  {
   "cell_type": "code",
   "execution_count": 2,
   "metadata": {},
   "outputs": [],
   "source": [
    "def pick_a_sample_equation() -> list:\n",
    "    \"\"\"\n",
    "    Picks a scientifically random entry from a vast list of creative and surprising polynomials. \n",
    "    Sometimes. Well... *** whispers *** It picks the same one every time \n",
    "    \"\"\"\n",
    "    # TODO: hmm looks tricky to find a random number with just native python functions so think harder and \n",
    "    # just return this one for now\n",
    "    return [(8,4),(-3,3),(6,2),(2,1),(11,0)]"
   ]
  },
  {
   "cell_type": "code",
   "execution_count": 3,
   "metadata": {},
   "outputs": [
    {
     "name": "stdout",
     "output_type": "stream",
     "text": [
      "------------------------------------------------------------------------\n",
      "This program requests that you enter a representation of a polynomial \n",
      "and then it will differentiate it and display the result. It includes \n",
      "some built-in tests to validate its functionality.\n",
      "\n",
      "Enter a pair of real numbers a,b such that \n",
      "a is the coefficient and \n",
      "b is the power\n",
      "Enter in the format: a,b (or leave blank to finish) >\n",
      "You may be a little tired. Allow me to help.  We'll pretend you entered this and say nothing.\n",
      "You entered: [(8, 4), (-3, 3), (6, 2), (2, 1), (11, 0)]\n"
     ]
    }
   ],
   "source": [
    "print(72*'-') # output a line for clearer user input\n",
    "print('This program requests that you enter a representation of a polynomial \\n'\n",
    "      'and then it will differentiate it and display the result. It includes \\n'\n",
    "      'some built-in tests to validate its functionality.\\n\\n'\n",
    "      'Enter a pair of real numbers a,b such that \\n'\n",
    "      'a is the coefficient and \\n'\n",
    "      'b is the power')\n",
    "\n",
    "equation = [] # store the tuples entered by the user\n",
    "\n",
    "# get a pair until the user indicates that they are finished by pressing return twice\n",
    "while True:\n",
    "    term = input(\"Enter in the format: a,b (or leave blank to finish) >\")\n",
    "    if term:\n",
    "        # split the input string at the comma and convert to a tuple of floats\n",
    "        # (sounds like the kind of thing overheard late in pub)\n",
    "        term_as_tuple = tuple( float(part) for part in term.split(',')) \n",
    "        # TODO: perhaps add some error checking here e.g. only 2 numeric parts\n",
    "        equation.append(term_as_tuple)\n",
    "    else:\n",
    "        break\n",
    "\n",
    "if len(equation) == 0:\n",
    "        # user entered nothing so let's show what we prepared earlier\n",
    "        equation = pick_a_sample_equation()\n",
    "        print(\"You may be a little tired. Allow me to help.  We'll pretend you entered this and say nothing.\")\n",
    "\n",
    "# show the user what we understood from their entries in a format similar to that which they used\n",
    "print('You entered:', equation) "
   ]
  },
  {
   "cell_type": "markdown",
   "metadata": {},
   "source": [
    "We will be showing the user some equations but, as libraries are prohibited, we roll our own prettifier to reassure the user that we are interpreting their entries correctly."
   ]
  },
  {
   "cell_type": "code",
   "execution_count": 4,
   "metadata": {},
   "outputs": [],
   "source": [
    "def pom_superscript(power: int) -> str:\n",
    "    # creating translation table using https://symbl.cc/en/unicode/blocks/latin-1-supplement/\n",
    "    # this function is free to all in exchange for a life hack🙂\n",
    "    # e.g. wrap iceberg lettuce in tinfoil and store in your fridge to add weeks to its lifespan!\n",
    "    \"\"\"\n",
    "    Returns a UTF8 string of superscript characters for display in a Jupyter Notebook based on the \n",
    "    power value supplied as a parameter.\n",
    "    \"\"\"\n",
    "    translate_table = str.maketrans(\"0123456789-.\", \n",
    "                                    \"\\u2070\\u00B9\\u00B2\\u00B3\\u2074\\u2075\\u2076\\u2077\\u2078\\u2079\\u207B\\u00B7\")\n",
    "    return str(power).translate(translate_table)"
   ]
  },
  {
   "cell_type": "markdown",
   "metadata": {},
   "source": [
    "Let's do some testing"
   ]
  },
  {
   "cell_type": "code",
   "execution_count": 20,
   "metadata": {},
   "outputs": [
    {
     "name": "stdout",
     "output_type": "stream",
     "text": [
      "y = x⁴ + x⁻⁸·²⁵\n"
     ]
    }
   ],
   "source": [
    "print(f'y = x{pom_superscript(4)} + x{pom_superscript(-8.25)}')"
   ]
  },
  {
   "cell_type": "markdown",
   "metadata": {},
   "source": [
    "OK enough distractions, get on with it now.\n",
    "We'll use the above function in our main prettifier that displays the polynomial"
   ]
  },
  {
   "cell_type": "code",
   "execution_count": 21,
   "metadata": {},
   "outputs": [],
   "source": [
    "# show the input in a prettier way\n",
    "def pretty_equation(equation: list, sort: bool=False, rhs_var: str='x', lhs_var: str='y') -> None:\n",
    "    \"\"\"\n",
    "    This returns a user accessible string which tidies our equation and omits zero value tuples\n",
    "    sort sorts the result in order of descending power of terms\n",
    "    var1 changes the default (x) variable name and\n",
    "    var2 changes the default (y) variable name on the left hand side of the equation\n",
    "    \"\"\"\n",
    "    if sort:\n",
    "        # identify the key we want to use for sorting\n",
    "        sort_by_power = lambda the_power : the_power[1]\n",
    "        # sort in order of descending power\n",
    "        equation.sort(key=sort_by_power, reverse=True)\n",
    "    \n",
    "    result = f' {lhs_var} ='\n",
    "    for (idx,(coeff,power)) in enumerate(equation):\n",
    "        if power == None or coeff == 0: # omit tuple if it has a zero value\n",
    "            continue\n",
    "            \n",
    "        if coeff < 0:\n",
    "            sign =  ' - '\n",
    "        else:\n",
    "            if idx > 0:\n",
    "                sign =  ' + '\n",
    "            else:\n",
    "                sign =  ' '\n",
    "            \n",
    "        if coeff == 1 and power != 0:\n",
    "            coeff = ''; # a coefficient of 1 is conventionally omitted if it is a multiplier\n",
    "        else:\n",
    "            coeff = abs(coeff) # we don't need a negative sign displayed because we are handling it explicitly\n",
    "            if int(coeff) == coeff: # convert to int to drop decimals unless they are relevant\n",
    "                coeff = int(coeff)\n",
    "\n",
    "        if power == 0:\n",
    "            result += f'{sign}{coeff}'\n",
    "        elif power == 1:\n",
    "            result += f'{sign}{coeff}{rhs_var}'\n",
    "        else:\n",
    "            result += f'{sign}{coeff}{rhs_var}{pom_superscript(power)}'\n",
    "    return result"
   ]
  },
  {
   "cell_type": "markdown",
   "metadata": {},
   "source": [
    "Here comes the real work of the program"
   ]
  },
  {
   "cell_type": "code",
   "execution_count": 22,
   "metadata": {},
   "outputs": [],
   "source": [
    "# differentiate a tuple by multiplying power by coeff and decrementing power\n",
    "def differentiate_tuple(coeff: int, power: int) -> tuple:\n",
    "    \"\"\"\n",
    "    Differentiates a tuple by multiplying power by coeff and decrementing power and returns a new tuple\n",
    "    \"\"\"\n",
    "    return (coeff*power, power-1) # all this work for this little tiny bit of code? My goodness me"
   ]
  },
  {
   "cell_type": "markdown",
   "metadata": {},
   "source": [
    "Now we apply our functions to the data we gathered earlier and show off"
   ]
  },
  {
   "cell_type": "code",
   "execution_count": 14,
   "metadata": {},
   "outputs": [],
   "source": [
    "def differentiate_poly(equation: list) -> list:\n",
    "    differentiated_result = []\n",
    "    for (coeff, power) in equation:\n",
    "        new_coeff, new_power = differentiate_tuple(coeff, power)\n",
    "        if new_coeff != 0:\n",
    "            differentiated_result.append((new_coeff, new_power))\n",
    "    return differentiated_result\n"
   ]
  },
  {
   "cell_type": "code",
   "execution_count": 24,
   "metadata": {},
   "outputs": [
    {
     "name": "stdout",
     "output_type": "stream",
     "text": [
      "You entered\n",
      "  y = 8x⁴ - 3x³ + 6x² + 2x + 11\n",
      "and when differentiated this becomes\n",
      "  y = 32x³ - 9x² + 12x + 2\n",
      "or as a list of tuples:\n",
      "[(32, 3), (-9, 2), (12, 1), (2, 0)]\n"
     ]
    }
   ],
   "source": [
    "print(\"You entered\\n\",pretty_equation(equation));\n",
    "\n",
    "differentiated_result = differentiate_poly(equation)\n",
    "    \n",
    "print(\"and when differentiated this becomes\\n\", pretty_equation(differentiated_result, sort=True))\n",
    "\n",
    "print(\"or as a list of tuples:\")\n",
    "print(differentiated_result)"
   ]
  },
  {
   "cell_type": "markdown",
   "metadata": {},
   "source": [
    "Now we will run our own tests. Don't make a big deal of it if our tests are more sophisticated than the polynomial the user entered. Just act normal."
   ]
  },
  {
   "cell_type": "code",
   "execution_count": 30,
   "metadata": {},
   "outputs": [
    {
     "name": "stdout",
     "output_type": "stream",
     "text": [
      "------------------------------------------------------------------------ \n",
      "SAMPLES TESTS OF DIFFERENTIATION\n",
      " ------------------------------------------------------------------------\n",
      "\tTest   0:  y = 6x³ - 9x + 4\n",
      "\tResult 0:  y = 18x² - 9\n",
      "\n",
      "\tTest   1:  y = 3x³ + 2x² + x\n",
      "\tResult 1:  y = 9x² + 4x + 1\n",
      "\n",
      "\tTest   2:  y = 4x⁷ - 3x⁻⁷ + 9x\n",
      "\tResult 2:  y = 28x⁶ + 9 + 21x⁻⁸\n",
      "\n",
      "\tTest   3:  y = x⁻⁴ - 9x⁻³ + 8x⁻² + 12\n",
      "\tResult 3:  y = - 16x⁻³ + 27x⁻⁴ - 4x⁻⁵\n",
      "\n",
      "\tTest   4:  y =\n",
      "\tResult 4:  y =\n",
      "\n",
      "\tTest   5:  y = 5x + 3x⁻³ - 5x\n",
      "\tResult 5:  y = 5 - 5 - 9x⁻⁴\n",
      "\n",
      "\tTest   6:  y = 3x⁰·²⁵\n",
      "\tResult 6:  y = 0.75x⁻⁰·⁷⁵\n",
      "\n",
      "\tTest   7:  y = 17 + 7x² + 2x¹⁰⁰⁰ + 9x⁶¹\n",
      "\tResult 7:  y = 2000x⁹⁹⁹ + 549x⁶⁰ + 14x\n",
      "\n",
      "\tTest   8:  y = 7x⁻⁴ + 3x⁴·⁵ + 4x⁻³·²⁵ + 1.5x²\n",
      "\tResult 8:  y = 13.5x³·⁵ + 3x - 13x⁻⁴·²⁵ - 28x⁻⁵\n",
      "\n"
     ]
    }
   ],
   "source": [
    "test_set = (\n",
    "            [(6,3),(-9,1),(4,0)],\n",
    "            [(3,3),(2,2),(1,1),(0,0)],\n",
    "            [(4,7),(-3,-7),(9,1)],\n",
    "            [(1,-4),(-9,-3),(8,-2),(12,0)],\n",
    "            [],\n",
    "            [(5,1),(3,-3),(-5,1)],\n",
    "            [(3,0.25)],\n",
    "            [(17,0),(7,2),(2,1000),(9,61)],\n",
    "            [(7,-4),(3,4.5),(4,-3.25),(1.5,2)]\n",
    "            )\n",
    "    \n",
    "print(72*'-','\\nSAMPLE TESTS OF DIFFERENTIATION\\n',72*'-') # TODO: why does the third line have a leading space?\n",
    "\n",
    "for test_id, test_poly in enumerate(test_set):\n",
    "    print(f\"\\tTest   {test_id}: {pretty_equation(test_poly)}\" )\n",
    "    print(f\"\\tResult {test_id}: {pretty_equation(differentiate_poly(test_poly), sort=True)}\\n\")\n"
   ]
  },
  {
   "cell_type": "markdown",
   "metadata": {},
   "source": [
    "Now, part 2 (I can hardly wait) we'll use our equations and apply some values to see the magic happen."
   ]
  },
  {
   "cell_type": "code",
   "execution_count": 16,
   "metadata": {},
   "outputs": [],
   "source": [
    "def evaluate_polynomial(equation: list, sample_x: int) -> int:\n",
    "    \"\"\"\n",
    "    Interprets the list of tuples in the equation and applies the value in sample_x\n",
    "    \"\"\"\n",
    "    result = 0\n",
    "    for (coeff, power) in equation:\n",
    "        if sample_x == 0 or coeff == 0: \n",
    "            continue\n",
    "        result += coeff * (sample_x**power) if power>= 0 else coeff * ((1/sample_x)**abs(power))\n",
    "    return result"
   ]
  },
  {
   "cell_type": "code",
   "execution_count": 41,
   "metadata": {},
   "outputs": [
    {
     "name": "stdout",
     "output_type": "stream",
     "text": [
      "------------------------------------------------------------------------ \n",
      "SAMPLE TESTS PART 2 (to 2 nearest decimal places)\n",
      " ------------------------------------------------------------------------\n",
      "Test 0 using value -2\n",
      "\t polynomial result:           183.00\n",
      "\t differentiated result:      -314.00\n",
      "Test 1 using value 0\n",
      "\t polynomial result:             0.00\n",
      "\t differentiated result:         0.00\n",
      "Test 2 using value 1\n",
      "\t polynomial result:            24.00\n",
      "\t differentiated result:        37.00\n",
      "Test 3 using value 3\n",
      "\t polynomial result:           638.00\n",
      "\t differentiated result:       821.00\n",
      "Test 4 using value 10\n",
      "\t polynomial result:         77631.00\n",
      "\t differentiated result:     31222.00\n",
      "Test 5 using value 0.5\n",
      "\t polynomial result:            13.62\n",
      "\t differentiated result:         9.75\n"
     ]
    }
   ],
   "source": [
    "test_set = (-2,0,1,3,10,0.5)\n",
    "\n",
    "print(72*'-','\\nSAMPLE TESTS PART 2 (to 2 nearest decimal places)\\n',72*'-') # TODO: why does the third line have a leading space?\n",
    "\n",
    "for test_id, test_value in enumerate(test_set):\n",
    "    print(f\"Test {test_id} using value {test_value}\")\n",
    "    print(f\"\\t polynomial result:     {evaluate_polynomial(equation, test_value):12.2f}\")\n",
    "    print(f\"\\t differentiated result: {evaluate_polynomial(differentiated_result, test_value):12.2f}\")"
   ]
  },
  {
   "cell_type": "markdown",
   "metadata": {},
   "source": [
    "<hr style=\"border:2px solid gray\"> </hr>"
   ]
  },
  {
   "cell_type": "markdown",
   "metadata": {},
   "source": [
    "## Reflection"
   ]
  },
  {
   "cell_type": "markdown",
   "metadata": {},
   "source": [
    "*Write your reflection in below cell. With reference to the Rubric for E-tivity 1:*\n",
    "- *Provide an accurate description of your code with advantages and disadvantages of design choices.*\n",
    "- *Compare your approach to alternative (peer) approaches.*\n",
    "- *Clearly describe how you have used your peers' work/input and how this has affected your own understanding / insights.*\n",
    "\n",
    "*If you have not used peer input, you may state this, but your submission history in Gitlab should clearly show this is the case.*"
   ]
  },
  {
   "cell_type": "markdown",
   "metadata": {},
   "source": [
    "## TBD"
   ]
  },
  {
   "cell_type": "code",
   "execution_count": null,
   "metadata": {},
   "outputs": [],
   "source": []
  }
 ],
 "metadata": {
  "kernelspec": {
   "display_name": "Python 3 (ipykernel)",
   "language": "python",
   "name": "python3"
  },
  "language_info": {
   "codemirror_mode": {
    "name": "ipython",
    "version": 3
   },
   "file_extension": ".py",
   "mimetype": "text/x-python",
   "name": "python",
   "nbconvert_exporter": "python",
   "pygments_lexer": "ipython3",
   "version": "3.11.4"
  }
 },
 "nbformat": 4,
 "nbformat_minor": 2
}
