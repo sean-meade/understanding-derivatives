{
 "cells": [
  {
   "cell_type": "markdown",
   "metadata": {},
   "source": [
    "# Notebook E-tivity 1 CE4021"
   ]
  },
  {
   "cell_type": "markdown",
   "metadata": {},
   "source": [
    "Student name: Liam Mulcahy"
   ]
  },
  {
   "cell_type": "markdown",
   "metadata": {},
   "source": [
    "Student ID: 23310731"
   ]
  },
  {
   "cell_type": "markdown",
   "metadata": {},
   "source": [
    "<hr style=\"border:2px solid gray\"> </hr>"
   ]
  },
  {
   "cell_type": "markdown",
   "metadata": {},
   "source": [
    "## Imports"
   ]
  },
  {
   "cell_type": "code",
   "execution_count": 1,
   "metadata": {},
   "outputs": [],
   "source": [
    "#None"
   ]
  },
  {
   "cell_type": "markdown",
   "metadata": {},
   "source": [
    "If you believe required imports are missing, please contact your moderator."
   ]
  },
  {
   "cell_type": "markdown",
   "metadata": {},
   "source": [
    "<hr style=\"border:2px solid gray\"> </hr>"
   ]
  },
  {
   "cell_type": "markdown",
   "metadata": {},
   "source": [
    "## Task"
   ]
  },
  {
   "cell_type": "markdown",
   "metadata": {},
   "source": [
    "You may add as many cells as you require to complete this task. Refer to the Rubric for E-tivity 1 to see how you will be assessed."
   ]
  },
  {
   "cell_type": "code",
   "execution_count": 19,
   "metadata": {},
   "outputs": [
    {
     "name": "stdout",
     "output_type": "stream",
     "text": [
      "The derivative of polynomial  {1000: 3}  is:  {999: 3000}\n",
      "The numeric value for polynomial  {1000: 3}  when x =  0.8  is  3.6906957664835564e-97\n",
      "The derivative of polynomial  {0: 9, 2: 3, 5: 4}  is:  {1: 6, 4: 20}\n",
      "The numeric value for polynomial  {0: 9, 2: 3, 5: 4}  when x =  3.0  is  1008.0\n"
     ]
    }
   ],
   "source": [
    "# Purpose: to calculate derivate of a polynomial (single variable) using the power law\n",
    "# Input: polynomial in format of a dictionary where the key is the exponent, and the value the coefficient\n",
    "# Output: format same as input\n",
    "# Comments: by using a dictionary rather than a list efficiency is improved by avoiding need to iterate through zero values for large exponents\n",
    "def derive_symbolic(poly_coeffs):\n",
    "    der_coeffs = {} #empty dictionary for deriative coefficients\n",
    "    \n",
    "    # iterate through the dictionary\n",
    "    for i, coef in poly_coeffs.items(): \n",
    "        # skip the constant coefficient as its derivative is zero\n",
    "        if i != 0:\n",
    "            # use the power rule to obtain the derivatives and save them in the corresponding place in the new dictionary\n",
    "            der_coeffs[i - 1] = i * coef\n",
    "    print(\"The derivative of polynomial \", poly_coeffs, \" is: \", der_coeffs)   \n",
    "    return der_coeffs\n",
    "\n",
    "\n",
    "# Purpose: to calculate the numerical result for a given polynomial (single variable)\n",
    "# Input: polynomial in format of a dictionary where the key is the exponent, and the value the coefficient\n",
    "# Output: float\n",
    "# Comments: by using a dictionary rather than a list efficiency is improved by avoiding need to iterate through zero values for large exponents\n",
    "def poly_numerical(poly_coeffs, x):\n",
    "    #instead of an empty dictionary, start with an empty scalar (float)\n",
    "    result = 0.0\n",
    "    # iterate through the input dictionary\n",
    "    for i, coef in poly_coeffs.items():\n",
    "        # calculate the numeric value for each co-efficient and add to the result\n",
    "        result += coef * (x ** i)\n",
    "        \n",
    "    print(\"The numeric value for polynomial \", poly_coeffs, \" when x = \", x, \" is \", result)\n",
    "    return result  \n",
    "\n",
    "### Tests\n",
    "\n",
    "## Test 01: 3x^1000 (large exponent)\n",
    "\n",
    "# create an input dictionary \n",
    "test_01 = {1000: 3}\n",
    "\n",
    "# run function and print\n",
    "test_symbolic_01 = derive_symbolic(test_01)\n",
    "\n",
    "# 3x^1000 when x is 0.8\n",
    "# run functions and print\n",
    "test_x_01 = 0.8\n",
    "test_numeric_01 = poly_numerical(test_01, test_x_01)\n",
    "\n",
    "## Test 02: 9 + 3x^2 + 4x^5 (multiple coefficients, including empty coefficients)\n",
    "\n",
    "# create an input dictionary \n",
    "test_02 = {0: 9, 2: 3, 5: 4}\n",
    "\n",
    "# run function and print\n",
    "test_symbolic_02 = derive_symbolic(test_02)\n",
    "\n",
    "# trial a numerical value 3\n",
    "# run functions and print\n",
    "test_x_02 = 3.0\n",
    "test_numeric_02 = poly_numerical(test_02, test_x_02)"
   ]
  },
  {
   "cell_type": "markdown",
   "metadata": {},
   "source": [
    "<hr style=\"border:2px solid gray\"> </hr>"
   ]
  },
  {
   "cell_type": "markdown",
   "metadata": {},
   "source": [
    "## Reflection"
   ]
  },
  {
   "cell_type": "markdown",
   "metadata": {},
   "source": [
    "Write your reflection in below cell. With reference to the Rubric for E-tivity 1:\n",
    "- Provide an accurate description of your code with advantages and disadvantages of design choices.\n",
    "- Compare your approach to alternative (peer) approaches.\n",
    "- Clearly describe how you have used your peers' work/input and how this has affected your own understanding / insights.\n",
    "\n",
    "If you have not used peer input, you may state this, but your submission history in Gitlab should clearly show this is the case."
   ]
  },
  {
   "cell_type": "code",
   "execution_count": null,
   "metadata": {},
   "outputs": [],
   "source": []
  }
 ],
 "metadata": {
  "kernelspec": {
   "display_name": "Python 3 (ipykernel)",
   "language": "python",
   "name": "python3"
  },
  "language_info": {
   "codemirror_mode": {
    "name": "ipython",
    "version": 3
   },
   "file_extension": ".py",
   "mimetype": "text/x-python",
   "name": "python",
   "nbconvert_exporter": "python",
   "pygments_lexer": "ipython3",
   "version": "3.11.4"
  }
 },
 "nbformat": 4,
 "nbformat_minor": 2
}
