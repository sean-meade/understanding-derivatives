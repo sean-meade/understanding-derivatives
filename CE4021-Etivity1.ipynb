{
 "cells": [
  {
   "cell_type": "markdown",
   "metadata": {},
   "source": [
    "# Notebook E-tivity 1 CE4021"
   ]
  },
  {
   "cell_type": "markdown",
   "metadata": {},
   "source": [
    "Student name: Jason Coleman"
   ]
  },
  {
   "cell_type": "markdown",
   "metadata": {},
   "source": [
    "Student ID: 9539719"
   ]
  },
  {
   "cell_type": "markdown",
   "metadata": {},
   "source": [
    "## Imports"
   ]
  },
  {
   "cell_type": "code",
   "execution_count": 12,
   "metadata": {},
   "outputs": [],
   "source": [
    "#None"
   ]
  },
  {
   "cell_type": "markdown",
   "metadata": {},
   "source": [
    "If you believe required imports are missing, please contact your moderator."
   ]
  },
  {
   "cell_type": "markdown",
   "metadata": {},
   "source": [
    "<hr style=\"border:2px solid gray\"> </hr>"
   ]
  },
  {
   "cell_type": "markdown",
   "metadata": {},
   "source": [
    "## Task - Option 1: Symbolic calculation of the derivative\n",
    "Write 2 Python functions:\n",
    "\n",
    "* The first one to *symbolically calculate the derivative of a polynomial with one variable*. The input should be a polynomial and the output should also be a polynomial.\n",
    "* The second one to *evaluate (i.e. get the numerical value) of a polynomial for a given value of its variable*. The input should be a polynomial and a value (point at which to evaluate the polynomial). The output should be a scalar.\n",
    "* Test your code with a few salient polynomials (minimum of 3) for which you have calculated the derivative of these polynomials manually."
   ]
  },
  {
   "cell_type": "markdown",
   "metadata": {},
   "source": [
    "You may add as many cells as you require to complete this task. Refer to the Rubric for E-tivity 1 to see how you will be assessed."
   ]
  },
  {
   "cell_type": "markdown",
   "metadata": {},
   "source": [
    "## Polynomial in one Variable\n",
    "A polynomial is an expression that consists of a sum of a finite set of terms where each term consists of a coefficient multiplied by a variable $x$ raised to a non-negative number (negative exponents take us into the realm of rational functions, away from polynomials). \n",
    "\n",
    "The standard, canonical form is:\n",
    "\n",
    "$$P(x) = a_n x^n + a_{n-1} x^{n-1} + \\ldots + a_2 x^2 + a_1 x + a_0$$\n",
    "\n",
    "## Polynomial Evaluation\n",
    "\n",
    "We can evaluate a polynomial in terms of x by simply evaluating each element of the set of tuples and summing the result. So, for $p=2$ we would have\n",
    "\n",
    "$$P(2) = a_n \\cdot 2^n + a_{n-1} \\cdot 2^{n-1} + \\ldots + a_2 \\cdot 2^2 + a_1 \\cdot 2 + a_0$$"
   ]
  },
  {
   "cell_type": "code",
   "execution_count": 13,
   "metadata": {},
   "outputs": [],
   "source": [
    "def evaluate_polynomial(elements: set[tuple[int, int]], value: int) -> int:\n",
    "    \"\"\"\n",
    "    Evaluate a polynomial in x, represented by a set of coefficient-power tuples at x.\n",
    "    :param elements: set of coefficients-power tuples\n",
    "    :param value: value to evaluate the polynomial at\n",
    "    :return: value of the polynomial at x\n",
    "    \"\"\"\n",
    "    evaluated_sum = 0\n",
    "    for coefficient, power in elements:\n",
    "        evaluated_sum += coefficient * value ** power\n",
    "\n",
    "    return evaluated_sum"
   ]
  },
  {
   "cell_type": "markdown",
   "metadata": {},
   "source": [
    "## Differentiation\n",
    "The python code executes the Power rule on each term/element of the polynomial (represented as a set of tuples). \n",
    "\n",
    "$$\\frac{d}{dx}(coefficient \\cdot x^{power}) = coefficient \\cdot power \\cdot x^{(power-1)}$$\n",
    "\n",
    "And returns the set of the derivatives that make up the output polynomial."
   ]
  },
  {
   "cell_type": "code",
   "execution_count": 14,
   "metadata": {},
   "outputs": [],
   "source": [
    "def differentiate(elements: set[tuple[int, int]]) -> set[tuple[int, int]]:\n",
    "    \"\"\"\n",
    "    Differentiate a polynomial in x, with respect to x using the power rule.\n",
    "    Where the polynomial is represented by a set of coefficients-power tuples.\n",
    "    Currently, it uses a more loop-based approach for ease-of-reading.\n",
    "\n",
    "    This function has been modified so it does not support variables\n",
    "    raised to non-negative powers. It will raise a ValueError exception.\n",
    "\n",
    "    :param elements: set of coefficients-power tuples of the polynomial\n",
    "    :return: coefficients of the differentiated polynomial\n",
    "    \"\"\"\n",
    "    output_polynomial = set()\n",
    "    for coefficient, power in elements:\n",
    "        if power < 0:\n",
    "            raise ValueError(f\"differentiate: Power should not be negative (check polynomial {elements}).\")\n",
    "        elif power != 0:\n",
    "            output_polynomial.add((coefficient * power, power - 1))\n",
    "        else:\n",
    "            output_polynomial.add((0, 0))\n",
    "    return output_polynomial"
   ]
  },
  {
   "cell_type": "markdown",
   "metadata": {},
   "source": [
    "## Utility methods: Pretty Print and Testing\n",
    "The following is a utility function to make the polynomials more human-readable."
   ]
  },
  {
   "cell_type": "code",
   "execution_count": 15,
   "metadata": {},
   "outputs": [],
   "source": [
    "def to_str(coefficients_: set[tuple[int, int]]) -> str:\n",
    "    \"\"\"\n",
    "    A simple utility function. Converts a set of coefficient-power tuples\n",
    "    to a string representation of a polynomial.  Print coefficients\n",
    "    as a string (e.g. \"5x^3 + 7x^2 + 3x + 6\")\n",
    "\n",
    "    This function does support the printing of non-negative powers. \n",
    "\n",
    "    :param coefficients_: a set of coefficient-power tuples of the polynomial\n",
    "    :return: str representation of the polynomial\n",
    "    \"\"\"\n",
    "    polynomial_str = \"\"\n",
    "\n",
    "    # Sort coefficients by power in descending order - abs(power) in case of negative powers\n",
    "    # This will make the final string easier to read - or closer to conventional,\n",
    "    # canonical notation\n",
    "    coefficients_ = sorted(coefficients_, key=lambda x_: abs(x_[1]), reverse=True)\n",
    "\n",
    "    if coefficients_ == [(0, 0)]:\n",
    "        return \"0\"\n",
    "\n",
    "    for coefficient, power in coefficients_:\n",
    "        if coefficient == 1:\n",
    "            sign = ''\n",
    "        elif coefficient == -1:\n",
    "            sign = '-'\n",
    "        else:\n",
    "            sign = f'{coefficient}'\n",
    "\n",
    "        if power > 1 or power < 0: \n",
    "            polynomial_str += f\"{sign}x^{power} + \"\n",
    "        elif power == 1:\n",
    "            polynomial_str += f\"{sign}x + \"\n",
    "        else:  # power == 0\n",
    "            if coefficient != 0:\n",
    "                polynomial_str += f\"{coefficient} + \"\n",
    "\n",
    "    # Remove the trailing \"+ \" at the end\n",
    "    polynomial_str = polynomial_str.rstrip(\"+ \")\n",
    "\n",
    "    # handle the case where coefficient is negative - for ease of reading\n",
    "    return polynomial_str.replace(\"+ -\", \"- \")\n",
    "\n",
    "\n",
    "def test_polynomial_outputs(polynomial: set[tuple[int, int]], x: int) -> None:\n",
    "    \"\"\"\n",
    "    Helper function to exercise the polynomial functions (using the previous \n",
    "    differentiate and evaluate functions for a given value of x).\n",
    "    :param polynomial: a set of coefficient-power tuples\n",
    "    :param x: value to evaluate the polynomial at\n",
    "    :return: None\n",
    "    \"\"\"\n",
    "\n",
    "    try:\n",
    "        print(f\"f(x): {to_str(polynomial)}\")\n",
    "\n",
    "        f_x = evaluate_polynomial(polynomial, x)\n",
    "        print(f\"f({x}): {f_x}\")\n",
    "\n",
    "        f_prime = differentiate(polynomial)\n",
    "        print(f\"f'(x): {to_str(f_prime)}\")\n",
    "\n",
    "        f_prime_x = evaluate_polynomial(f_prime, x)\n",
    "        print(f\"f'({x}): {f_prime_x}\")\n",
    "    except ValueError as e:\n",
    "        print(f\"Error: {e}\")"
   ]
  },
  {
   "cell_type": "markdown",
   "metadata": {},
   "source": [
    "Note that this is the most complex part of this assignment; where most things can go wrong."
   ]
  },
  {
   "cell_type": "markdown",
   "metadata": {},
   "source": [
    "## Examples of use\n",
    "Here we show the use of the derivative and evaluation functions (as well as the utility to_str)."
   ]
  },
  {
   "cell_type": "markdown",
   "metadata": {},
   "source": [
    "#### Example 1"
   ]
  },
  {
   "cell_type": "code",
   "execution_count": 16,
   "metadata": {},
   "outputs": [
    {
     "name": "stdout",
     "output_type": "stream",
     "text": [
      "f(x): 5x^3 + 7x^2 + 3x + 6\n",
      "f(2): 80\n",
      "f'(x): 15x^2 + 14x + 3\n",
      "f'(2): 91\n"
     ]
    }
   ],
   "source": [
    "input_polynomial = {(5, 3), (7, 2), (3, 1), (6, 0)}\n",
    "test_polynomial_outputs(input_polynomial, 2)"
   ]
  },
  {
   "cell_type": "markdown",
   "metadata": {},
   "source": [
    "#### Example 2"
   ]
  },
  {
   "cell_type": "code",
   "execution_count": 17,
   "metadata": {},
   "outputs": [
    {
     "name": "stdout",
     "output_type": "stream",
     "text": [
      "f(x): 2x^1000\n",
      "f(2): 21430172143725346418968500981200036211228096234110672148875007767407021022498722449863967576313917162551893458351062936503742905713846280871969155149397149607869135549648461970842149210124742283755908364306092949967163882534797535118331087892154125829142392955373084335320859663305248773674411336138752\n",
      "f'(x): 2000x^999\n",
      "f'(2): 10715086071862673209484250490600018105614048117055336074437503883703510511249361224931983788156958581275946729175531468251871452856923140435984577574698574803934567774824230985421074605062371141877954182153046474983581941267398767559165543946077062914571196477686542167660429831652624386837205668069376000\n"
     ]
    }
   ],
   "source": [
    "input_polynomial =  {(2, 1000)}\n",
    "test_polynomial_outputs(input_polynomial, 2)"
   ]
  },
  {
   "cell_type": "markdown",
   "metadata": {},
   "source": [
    "#### Example 3"
   ]
  },
  {
   "cell_type": "code",
   "execution_count": 18,
   "metadata": {},
   "outputs": [
    {
     "name": "stdout",
     "output_type": "stream",
     "text": [
      "f(x): 3x^2 - 4x + 2\n",
      "f(2): 6\n",
      "f'(x): 6x - 4\n",
      "f'(2): 8\n"
     ]
    }
   ],
   "source": [
    "input_polynomial =   {(3, 2), (-4, 1), (2, 0)}\n",
    "test_polynomial_outputs(input_polynomial, 2)"
   ]
  },
  {
   "cell_type": "markdown",
   "metadata": {},
   "source": [
    "#### Example 4"
   ]
  },
  {
   "cell_type": "code",
   "execution_count": 19,
   "metadata": {},
   "outputs": [
    {
     "name": "stdout",
     "output_type": "stream",
     "text": [
      "f(x): x^5 + 2x^3 - x^2\n",
      "f(2): 44\n",
      "f'(x): 5x^4 + 6x^2 - 2x\n",
      "f'(2): 100\n"
     ]
    }
   ],
   "source": [
    "input_polynomial =  {(1, 5), (2, 3), (-1, 2)}\n",
    "test_polynomial_outputs(input_polynomial, 2)"
   ]
  },
  {
   "cell_type": "markdown",
   "metadata": {},
   "source": [
    "#### Example 5"
   ]
  },
  {
   "cell_type": "code",
   "execution_count": 20,
   "metadata": {},
   "outputs": [
    {
     "name": "stdout",
     "output_type": "stream",
     "text": [
      "f(x): 7\n",
      "f(2): 7\n",
      "f'(x): 0\n",
      "f'(2): 0\n"
     ]
    }
   ],
   "source": [
    "input_polynomial =  {(7, 0)}\n",
    "test_polynomial_outputs(input_polynomial, 2)"
   ]
  },
  {
   "cell_type": "markdown",
   "metadata": {},
   "source": [
    " #### Example 6"
   ]
  },
  {
   "cell_type": "code",
   "execution_count": 21,
   "metadata": {},
   "outputs": [
    {
     "name": "stdout",
     "output_type": "stream",
     "text": [
      "f(x): x\n",
      "f(2): 2\n",
      "f'(x): 1\n",
      "f'(2): 1\n"
     ]
    }
   ],
   "source": [
    "input_polynomial =  {(1, 1)}\n",
    "test_polynomial_outputs(input_polynomial, 2)"
   ]
  },
  {
   "cell_type": "markdown",
   "metadata": {},
   "source": [
    "#### Example 7 - Rational function"
   ]
  },
  {
   "cell_type": "code",
   "execution_count": 22,
   "metadata": {},
   "outputs": [
    {
     "name": "stdout",
     "output_type": "stream",
     "text": [
      "f(x): x^-2\n",
      "f(2): 0.25\n",
      "Error: differentiate: Power should not be negative (check polynomial {(1, -2)}).\n"
     ]
    }
   ],
   "source": [
    "input_polynomial =  {(1, -2)}\n",
    "test_polynomial_outputs(input_polynomial, 2)"
   ]
  },
  {
   "cell_type": "markdown",
   "metadata": {},
   "source": [
    "## Reflection"
   ]
  },
  {
   "cell_type": "markdown",
   "metadata": {},
   "source": [
    "Write your reflection in below cell. With reference to the Rubric for E-tivity 1:\n",
    "- Provide an accurate description of your code with advantages and disadvantages of design choices.\n",
    "- Compare your approach to alternative (peer) approaches.\n",
    "- Clearly describe how you have used your peers' work/input and how this has affected your own understanding / insights.\n",
    "\n",
    "If you have not used peer input, you may state this, but your submission history in Gitlab should clearly show this is the case."
   ]
  },
  {
   "cell_type": "markdown",
   "metadata": {},
   "source": [
    "### Description\n",
    "\n",
    "#### Data Representations\n",
    "First I will explain my chosen data representation. \n",
    "\n",
    "* I could have used a list where the index in the list prepresents the power however this becomes very inefficient (in terms of memeory and time) as you start to process higher order polynomials. \n",
    "\n",
    "E.g. consider \n",
    "\n",
    "$$2^{1000}$$\n",
    "\n",
    "In this case, where you have higher order polynomials, you would have a list with 1000 elements, 999 of which are zero). \n",
    "\n",
    "* So, I have chosen to represent the polynomial as a set of tuples, where each tuple represents a unique element of the polynomial set. The first element of the tuple is the coefficient and the second element is the power of the corresponding term.  \n",
    "\n",
    "* Using tuples has many benefits including space efficiency and ease-of-use (i.e. I don't have to write out lots of zeros which may be error-prone). This slightly more complex approach is ideal when you have sparse data sets (i.e. lots of zeros).\n",
    "\n",
    "So, in my case I can represent: \n",
    "\n",
    "$$5x^3 + 7x^2 + 3x + 6$$\n",
    "\n",
    "as:\n",
    "\n",
    "$${\\{(5, 3), (7, 2), (3, 1), (6, 0)\\}}$$\n",
    "\n",
    "#### Implementation\n",
    "\n",
    "\n",
    "##### Evaluating a polynomial\n",
    "We can evaluate a polynomial in terms of x by simply evaluating each element of the set of tuples and summing the result. So, for $p=2$ we would have\n",
    "$$P(2) = a_n \\cdot 2^n + a_{n-1} \\cdot 2^{n-1} + \\ldots + a_2 \\cdot 2^2 + a_1 \\cdot 2 + a_0$$\n",
    "\n",
    "In Python,\n",
    "\n",
    "* The function takes, as input, a set of tuples representing the polynomial and the value to evaluate at. \n",
    "* Each tuple in the set contains two elements: the coefficient and the power of a term.\n",
    "* I initialise a variable ```evaluated_sum``` to zero to act as a counter that will hold the cumulative sum of each evaluated term of the polynomial (i.e. coefficient time value raised to the power).\n",
    "* I then iterate through the set of tuples. In each iteration, I calculate the value of the term at a specific point by raising the input value to the power specified in the tuple, and multiplying the result by the coefficient from the tuple. This calculated value is then added to ```evaluated_sum```.\n",
    "* After going through all the terms in the set, the function returns ```evaluated_sum```, a scalar value that represents the value of the polynomial evaluated at the specified input value.\n",
    "\n",
    "##### Differentition\n",
    "I implemented the Power rule method for differentiating a polynomial, where the input to the function is a set of tuples (see above) and the output is a set of tuples representing the differentiated polynomial. Currently, it uses a more loop-based approach for ease-of-reading.\n",
    "\n",
    "In python,\n",
    "\n",
    "* The function takes, as input, a set of tuples representing the polynomial. Each tuple in the set contains two elements: the coefficient and the power of a term.\n",
    "* I initialise a set to contain the output polynomial (a set of tuples representing the terms of the polynomial).  \n",
    "* I iterate through the input set of tuples representing the terms of the polynomial. \n",
    "* In each iteration, I execute the power rule, adding the result to the output set. Note, I will throw a value error if the Polynomial contains a non-negative power)\n",
    "* The function then returns the differentiated output set.\n",
    "\n",
    "#### Advantages/Disadvantages\n",
    "* using tuples, while efficient does require more knowledge of python data structures. \n",
    "* using lists can lead to real inefficiencies as the order and sparseness of the data increases.\n",
    "\n",
    "### Comparison\n",
    "The heart of the solutions are quite similar. Some solutinos used a list-based approach which, while effective, is not efficient for high order polynomials. \n",
    "\n",
    "### Peer Assessment\n",
    "\n",
    "* The list is a nice idea. Simple to understand and very effective for low-rder polynomials. Great for starting and learning how to map mathematics to code.\n",
    "* Use of recursion is also very elegent. It does have issues as the order or the polynomials increases. For example, you would never use such on low-power moobile devices for things like cryptographic curve evaluation. \n",
    "* Mitchell DeBruyn reminded me about the importance of testing more corner cases.\n",
    "* Mitchell DeBruyn also gave some good feedback regarding duplicate code (on the testing side) \n",
    "* Peter OMahoney had some good insights around my use of sets vs. lists. Sets guarantee that each element of the set is unique; there is a risk that a user may submit a set of polynomials with duplicate tuples.\n"
   ]
  }
 ],
 "metadata": {
  "kernelspec": {
   "display_name": "Python 3 (ipykernel)",
   "language": "python",
   "name": "python3"
  },
  "language_info": {
   "codemirror_mode": {
    "name": "ipython",
    "version": 3
   },
   "file_extension": ".py",
   "mimetype": "text/x-python",
   "name": "python",
   "nbconvert_exporter": "python",
   "pygments_lexer": "ipython3",
   "version": "3.10.9"
  }
 },
 "nbformat": 4,
 "nbformat_minor": 2
}
