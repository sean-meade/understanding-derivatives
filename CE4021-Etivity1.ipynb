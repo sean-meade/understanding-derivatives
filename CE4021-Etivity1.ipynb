{
 "cells": [
  {
   "cell_type": "markdown",
   "metadata": {},
   "source": [
    "# Notebook E-tivity 1 CE4021"
   ]
  },
  {
   "cell_type": "markdown",
   "metadata": {},
   "source": [
    "Student name: Pierce Currid"
   ]
  },
  {
   "cell_type": "markdown",
   "metadata": {},
   "source": [
    "Student ID: 23260092"
   ]
  },
  {
   "cell_type": "markdown",
   "metadata": {},
   "source": [
    "<hr style=\"border:2px solid gray\"> </hr>"
   ]
  },
  {
   "cell_type": "markdown",
   "metadata": {},
   "source": [
    "## Imports"
   ]
  },
  {
   "cell_type": "code",
   "execution_count": 1,
   "metadata": {},
   "outputs": [],
   "source": [
    "#None"
   ]
  },
  {
   "cell_type": "markdown",
   "metadata": {},
   "source": [
    "If you believe required imports are missing, please contact your moderator."
   ]
  },
  {
   "cell_type": "markdown",
   "metadata": {},
   "source": [
    "<hr style=\"border:2px solid gray\"> </hr>"
   ]
  },
  {
   "cell_type": "markdown",
   "metadata": {},
   "source": [
    "## Task"
   ]
  },
  {
   "cell_type": "markdown",
   "metadata": {},
   "source": [
    "You may add as many cells as you require to complete this task. Refer to the Rubric for E-tivity 1 to see how you will be assessed.\n"
   ]
  },
  {
   "cell_type": "markdown",
   "metadata": {},
   "source": [
    "Option 1: Symbolic calculation of the derivative\n",
    "\n",
    "Proposed Steps to differentiate the polynomial:\n",
    "1. validate the input. I think the main thing here is just negative integers.\n",
    "2. Divide and conquer, for each term we want to:\n",
    "    1. derive the term whereby X**n changes to nX**n-1\n",
    "    2. add the derived term to an 'results' data structure\n",
    "3. return the results data structure\n",
    "4. Display it in some meaningful manner.\n",
    "5. Test\n",
    "\n",
    "Proposed steps to then evaluate a polynomial based on a specified value for its variable:\n",
    "1. validate the input. I think the main thing here first checking its an integer, and a positive one at that.\n",
    "2. Calculate the result based on the value\n",
    "3. Show the output as a scalar.\n",
    "4. Test"
   ]
  },
  {
   "cell_type": "markdown",
   "metadata": {},
   "source": [
    "Data Structures\n",
    "I like the idea of Dictionaries, as they can be changed and are ordered....\n",
    "in theory we could do an in-place update of the inputted values with the derived values, which would be a big memory saving.\n",
    "but....Dictionaries can't have duplicate values, if there were dup terms in the inputted polynomial, computer would say no.\n",
    "One option here would be to do a get on the value before submitting, which I think is constant in terms of Big O, given its just finding a key. Then you do append the duplicate values, and replace into the valid key in the Dictionary.\n",
    "A Set gives us the same issue with input.\n",
    "\n",
    "I think pragmatism might get in the way here though, as I'm a newbie python developer/time constraints, so potentially creating a new data structure for the result is the way forward. Given the result will have no need to be changeable, Tuple is probably the best bet for each Term within the Poly. However, the overall structure holding the terms, this would need to be updatable, so I'll side with a List"
   ]
  },
  {
   "cell_type": "code",
   "execution_count": 15,
   "metadata": {
    "scrolled": true
   },
   "outputs": [
    {
     "data": {
      "text/plain": [
       "3800"
      ]
     },
     "execution_count": 15,
     "metadata": {},
     "output_type": "execute_result"
    }
   ],
   "source": [
    "#Part 1 - Calculate the derivative of a polynomial\n",
    "\n",
    "#input is a tuple of tuples, as we don't need to change the values, and a tuple will save space vs a list\n",
    "#the terms in this input list don't contain a variable, as we don't require that for this exercise\n",
    "polynomial_input_list = ((7, 4),(2,0),(4,3)) \n",
    "\n",
    "def calc_derivative_polynomial(single_var_poly):\n",
    "        \n",
    "        #new result list to add derived terms too. Tuples are immutable, so we can't use this for output\n",
    "        output = [];\n",
    "        \n",
    "        \"\"\"going to extract the term tuples using unpacking\"\"\" \n",
    "        for coefficient, exponent in single_var_poly:\n",
    "            \n",
    "            \"\"\"if the exponent is 0, its basically a constant, so lets ignore it\"\"\"\n",
    "            if (exponent>0):\n",
    "                \"\"\"here we are appending the individual derived terms to our results list\"\"\"\n",
    "                output.append(calc_derivative_for_term(coefficient, exponent))\n",
    "       \n",
    "        return output\n",
    "\n",
    "#First iteration of the function that will derive each term and return it to the calling function.\n",
    "def calc_derivative_for_term(coefficient, exponent):\n",
    "        \n",
    "        \"\"\"Steps to differentiate\n",
    "            Power - X**n is derived by nX**n-1 \n",
    "        \"\"\"\n",
    "        derived_term = (coefficient*exponent, exponent-1)\n",
    "        return (derived_term)\n",
    "\n",
    "\n",
    "#PART 2 - Evaluate polynomial for a given value for the variable\n",
    "def evaluate_polynomial(single_var_poly, value):\n",
    "    #going to iterate through the polynomial list inputted\n",
    "    \n",
    "    \"\"\" this for loop statement has some duplicate code also seen in the funciton: calc_derivative_polynomial\n",
    "        make a note to potentially create a re-usable function for both cases, or look into it at least.\n",
    "        Also TODO- I think we need to cater for constants, that we removed in the original differentiation. Hmmm\n",
    "    \"\"\"\n",
    "    result = 0\n",
    "    for coefficient, exponent in single_var_poly:\n",
    "        result+= coefficient*(value**exponent)\n",
    "\n",
    "    return result\n",
    "    \n",
    "evaluate_polynomial(calc_derivative_polynomial(polynomial_input_list), 5)\n",
    "\n"
   ]
  },
  {
   "cell_type": "code",
   "execution_count": 14,
   "metadata": {},
   "outputs": [
    {
     "name": "stdout",
     "output_type": "stream",
     "text": [
      "[(28, 3), (2, 0), (300, 299)]\n",
      "[(3, 0), (18, 8), (16, 3)]\n",
      "[(18, 2), (4, 3), (72, 7)]\n"
     ]
    }
   ],
   "source": [
    "#--------------TESTING------------------\n",
    "#TODO: will add more complexity here\n",
    "\n",
    "#polynominal 1: 7X**4 + -2X**1 + 1X**300\n",
    "test_polynomial_1 = ((7, 4),(2, 1),(1,300)) \n",
    "\n",
    "#polynominal 2: 3X**1 + 2X**9 + 4X**4 \n",
    "test_polynomial_2 = ((3, 1),(2, 9),(4,4)) \n",
    "\n",
    "#polynominal 3: 6X**3 + 1X**4 + 9X**18 \n",
    "test_polynomial_3 = ((6, 3),(1,4),(9,8)) \n",
    "\n",
    "print(calc_derivative_polynomial(test_polynomial_1))\n",
    "print(calc_derivative_polynomial(test_polynomial_2))\n",
    "print(calc_derivative_polynomial(test_polynomial_3))"
   ]
  },
  {
   "cell_type": "markdown",
   "metadata": {},
   "source": [
    "## Reflection"
   ]
  },
  {
   "cell_type": "markdown",
   "metadata": {},
   "source": [
    "Write your reflection in below cell. With reference to the Rubric for E-tivity 1:\n",
    "- Provide an accurate description of your code with advantages and disadvantages of design choices.\n",
    "- Compare your approach to alternative (peer) approaches.\n",
    "- Clearly describe how you have used your peers' work/input and how this has affected your own understanding / insights.\n",
    "\n",
    "If you have not used peer input, you may state this, but your submission history in Gitlab should clearly show this is the case."
   ]
  },
  {
   "cell_type": "code",
   "execution_count": null,
   "metadata": {},
   "outputs": [],
   "source": []
  },
  {
   "cell_type": "code",
   "execution_count": null,
   "metadata": {},
   "outputs": [],
   "source": []
  }
 ],
 "metadata": {
  "kernelspec": {
   "display_name": "Python 3 (ipykernel)",
   "language": "python",
   "name": "python3"
  },
  "language_info": {
   "codemirror_mode": {
    "name": "ipython",
    "version": 3
   },
   "file_extension": ".py",
   "mimetype": "text/x-python",
   "name": "python",
   "nbconvert_exporter": "python",
   "pygments_lexer": "ipython3",
   "version": "3.11.4"
  }
 },
 "nbformat": 4,
 "nbformat_minor": 2
}
