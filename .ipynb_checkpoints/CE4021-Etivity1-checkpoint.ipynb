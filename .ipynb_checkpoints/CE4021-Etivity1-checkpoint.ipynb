{
 "cells": [
  {
   "cell_type": "markdown",
   "metadata": {},
   "source": [
    "# Notebook E-tivity 1 CE4021"
   ]
  },
  {
   "cell_type": "markdown",
   "metadata": {},
   "source": [
    "Student name: Pierce Currid"
   ]
  },
  {
   "cell_type": "markdown",
   "metadata": {},
   "source": [
    "Student ID: 23260092"
   ]
  },
  {
   "cell_type": "markdown",
   "metadata": {},
   "source": [
    "<hr style=\"border:2px solid gray\"> </hr>"
   ]
  },
  {
   "cell_type": "markdown",
   "metadata": {},
   "source": [
    "## Imports"
   ]
  },
  {
   "cell_type": "code",
   "execution_count": 1,
   "metadata": {},
   "outputs": [],
   "source": [
    "#None"
   ]
  },
  {
   "cell_type": "markdown",
   "metadata": {},
   "source": [
    "If you believe required imports are missing, please contact your moderator."
   ]
  },
  {
   "cell_type": "markdown",
   "metadata": {},
   "source": [
    "<hr style=\"border:2px solid gray\"> </hr>"
   ]
  },
  {
   "cell_type": "markdown",
   "metadata": {},
   "source": [
    "## Task"
   ]
  },
  {
   "cell_type": "markdown",
   "metadata": {},
   "source": [
    "You may add as many cells as you require to complete this task. Refer to the Rubric for E-tivity 1 to see how you will be assessed.\n"
   ]
  },
  {
   "cell_type": "markdown",
   "metadata": {},
   "source": [
    "Proposed Steps to differentiate the polynomial:\n",
    "1. validate the input. I think the main thing here is negative integers. Hmmm\n",
    "2. Divide and conquer, for each term we want to:\n",
    "    1. derive the term whereby X**n changes to nX**n-1\n",
    "    2. add the derived term to an 'results' data structure\n",
    "3. return the results data structure\n",
    "4. Display it in some meaningful manner.\n",
    "5. Test\n",
    "\n",
    "Proposed steps to then evaluate a polynomial based on a specified value for its variable:\n",
    "1. validate the input. I think the main thing here first checking its an integer, and a positive one at that. Hmmm\n",
    "2. Calculate the result based on the value\n",
    "3. Show the output as a scalar.\n",
    "4. Test"
   ]
  },
  {
   "cell_type": "markdown",
   "metadata": {},
   "source": [
    "Data Structures\n",
    "I like the idea of Dictionaries, as they can be changed and are ordered....\n",
    "in theory we could do an in-place update of the inputted values with the derived values, which would be a big memory saving.\n",
    "but....Dictionaries can't have duplicate values, if there were dup terms in the inputted polynomial, computer would say no.\n",
    "A Set gives us the same issue with input.\n",
    "\n",
    "Revisiting the idea of an in-place update, a Tuple is immutable, so that would leave a List.\n",
    "I think pragmatism might get in the way here though, as I'm a newbie python developer/time constraints, so potentially creating a new data structure for the result is the way forward. Given the result will have no need to be changeable, Tuple is probably the best bet for each Term within the Poly. However, the overall structure holding the terms, could this also then be a Tuple? A Tuple of Tuples\n"
   ]
  },
  {
   "cell_type": "code",
   "execution_count": 13,
   "metadata": {
    "scrolled": true
   },
   "outputs": [],
   "source": [
    "#creating the high level functions, minus the arguments (still need to figure out types)\n",
    "\n",
    "#First iteration of the calc derivative polynomial...minus valid argument, return types, validation, etc...basically minus everything\n",
    "def calc_derivative_polynomial(single_var_poly):\n",
    "        \"\"\"let's validate the input poly before we do anything, to confirm there's just one variable\"\"\"\n",
    "        \"\"\"Steps to differentiate\n",
    "        1. Constants - derivative of any constant is 0(eg. 7 > 0)\n",
    "        2. Power - X**n is derived by nX**n-1\n",
    "        \"\"\"\n",
    "        output = single_var_poly\n",
    "        return output\n",
    "\n",
    "\n",
    "\n",
    "        "
   ]
  },
  {
   "cell_type": "code",
   "execution_count": null,
   "metadata": {},
   "outputs": [],
   "source": [
    "#First iteration of the evaluate polynomial...minus valid arguments, return types, validation, etc...basically minus everything\n",
    "def evaluate_polynomial(poly, v):\n",
    "        \"\"\"let's validate the input before we do anything\"\"\"\n",
    "        scalar_output = \"\"\n",
    "        return scalar_output\n",
    "        "
   ]
  },
  {
   "cell_type": "markdown",
   "metadata": {},
   "source": [
    "## Reflection"
   ]
  },
  {
   "cell_type": "markdown",
   "metadata": {},
   "source": [
    "Write your reflection in below cell. With reference to the Rubric for E-tivity 1:\n",
    "- Provide an accurate description of your code with advantages and disadvantages of design choices.\n",
    "- Compare your approach to alternative (peer) approaches.\n",
    "- Clearly describe how you have used your peers' work/input and how this has affected your own understanding / insights.\n",
    "\n",
    "If you have not used peer input, you may state this, but your submission history in Gitlab should clearly show this is the case."
   ]
  },
  {
   "cell_type": "code",
   "execution_count": null,
   "metadata": {},
   "outputs": [],
   "source": []
  }
 ],
 "metadata": {
  "kernelspec": {
   "display_name": "Python 3 (ipykernel)",
   "language": "python",
   "name": "python3"
  },
  "language_info": {
   "codemirror_mode": {
    "name": "ipython",
    "version": 3
   },
   "file_extension": ".py",
   "mimetype": "text/x-python",
   "name": "python",
   "nbconvert_exporter": "python",
   "pygments_lexer": "ipython3",
   "version": "3.11.4"
  }
 },
 "nbformat": 4,
 "nbformat_minor": 2
}
