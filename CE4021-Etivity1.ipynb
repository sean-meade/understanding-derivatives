{
 "cells": [
  {
   "cell_type": "markdown",
   "metadata": {},
   "source": [
    "# Notebook E-tivity 1 CE4021"
   ]
  },
  {
   "cell_type": "markdown",
   "metadata": {},
   "source": [
    "Student name: Peter O'Mahony"
   ]
  },
  {
   "cell_type": "markdown",
   "metadata": {},
   "source": [
    "Student ID: 8361967"
   ]
  },
  {
   "cell_type": "markdown",
   "metadata": {},
   "source": [
    "<hr style=\"border:2px solid gray\"> </hr>"
   ]
  },
  {
   "cell_type": "markdown",
   "metadata": {},
   "source": [
    "## Imports"
   ]
  },
  {
   "cell_type": "code",
   "execution_count": 1,
   "metadata": {},
   "outputs": [],
   "source": [
    "#None"
   ]
  },
  {
   "cell_type": "markdown",
   "metadata": {},
   "source": [
    "<hr style=\"border:2px solid gray\"> </hr>"
   ]
  },
  {
   "cell_type": "markdown",
   "metadata": {},
   "source": [
    "## Task"
   ]
  },
  {
   "cell_type": "markdown",
   "metadata": {},
   "source": [
    "# Option 1: Symbolic calculation of the derivative\n",
    "## Write 2 Python functions:\n",
    "\n",
    "*The first one to symbolically calculate the derivative of a polynomial with one variable. The input should be a polynomial and the output should also be a polynomial.*\n",
    "\n",
    "*The second one to evaluate (i.e. get the numerical value) of a polynomial for a given value of its variable. The input should be a polynomial and a value (point at which to evaluate the polynomial). The output should be a scalar.*\n",
    "\n",
    "*Test your code with a few salient polynomials (minimum of 3) for which you have calculated the derivative of these polynomials manually.*\n",
    "\n",
    "### Initial thoughts:\n",
    "Split it into subtasks\n",
    "1. handle input of equation\n",
    "2. differentiate the input\n",
    "3. display the resulting prettified input and output\n",
    "4. handle input of variable value\n",
    "5. calculate the result\n",
    "6. display resulting scalar\n",
    "7. display a set of test results\n",
    "\n",
    "Data structures I am considering are lists and tuples.\n",
    "I want to maximise the flexibility of the solution so I will ask the user to specify the powers rather than determine them impicitly from the order of the coefficients and assume descending powers\n",
    "\n",
    "I'd like to use tuples because the data are static after entered and tuples are more efficient than lists and I don't need to do much manipulation of the structures.\n",
    "\n",
    "I'll try to use UTF8 characters to prettify the results (thereby avoiding any libraries). Note Jason's idea to sort the results by descending power as is conventional.\n",
    "\n",
    "## Assumptions\n",
    "We expect the coefficients and powers to be integers."
   ]
  },
  {
   "cell_type": "markdown",
   "metadata": {},
   "source": [
    "# Get coding"
   ]
  },
  {
   "cell_type": "code",
   "execution_count": 2,
   "metadata": {},
   "outputs": [],
   "source": [
    "def pick_a_sample_equation() -> list:\n",
    "    \"\"\"\n",
    "    Picks a random entry from a vast list of creative and surprising polynomials.\n",
    "    \"\"\"\n",
    "    # TODO: hmm looks tricky to find a random number with just native python functions so think harder and \n",
    "    # just return this one for now\n",
    "    return [(8,4),(-3,3),(6,2),(2,1),(11,0)]"
   ]
  },
  {
   "cell_type": "code",
   "execution_count": 3,
   "metadata": {},
   "outputs": [
    {
     "name": "stdout",
     "output_type": "stream",
     "text": [
      "--------------------------------------------------------------------------------\n",
      "This program requests that you enter a representation of a polynomial and then it will differentiate it and display the result. It includes some built-in tests to validate its functionality.\n",
      "Enter a pair of integers a,b such that a is the coefficient and b is the power (leave blank to finish) >\n",
      "You may be a little tired. Allow me to help.  We'll pretend you entered this and say nothing.\n",
      "You entered: [(8, 4), (-3, 3), (6, 2), (2, 1), (11, 0)]\n"
     ]
    }
   ],
   "source": [
    "print(80*'-') # output a line for clearer user input\n",
    "print('This program requests that you enter a representation of a polynomial and then it will '\n",
    "      'differentiate it and display the result. It includes some built-in tests to validate its functionality.')\n",
    "\n",
    "equation = [] # store the tuples entered by the user\n",
    "\n",
    "# get a pair until the user indicates that they are finished by pressing return twice\n",
    "while True:\n",
    "    inp = input(\"Enter a pair of integers a,b such that a is the coefficient and b is the power (leave blank to finish) >\")\n",
    "    if inp:\n",
    "        inp_as_tuple = tuple( int(part) for part in inp.split(',')) # split the input string at the comma and convert to tuple\n",
    "        # TODO: perhaps add some error checking here e.g. only 2 integer parts\n",
    "        equation.append(inp_as_tuple)\n",
    "    else:\n",
    "        break\n",
    "\n",
    "if len(equation) == 0:\n",
    "        # user entered nothing so let's show what we prepared earlier\n",
    "        equation = pick_a_sample_equation()\n",
    "        print(\"You may be a little tired. Allow me to help.  We'll pretend you entered this and say nothing.\")\n",
    "\n",
    "# show the user what we understood from their entries in a format similar to that which they used\n",
    "print('You entered:', equation) "
   ]
  },
  {
   "cell_type": "markdown",
   "metadata": {},
   "source": [
    "We will be showing the user some equations but, as libraries are prohibited, we roll our own prettifier to reassure the user that we are interpreting their entries correctly."
   ]
  },
  {
   "cell_type": "code",
   "execution_count": 4,
   "metadata": {},
   "outputs": [],
   "source": [
    "def pom_superscript(power:int) -> str:\n",
    "    # creating translation table using https://symbl.cc/en/unicode/blocks/latin-1-supplement/\n",
    "    # this function is free to all in exchange for a life hack🙂\n",
    "    # e.g. wrap iceberg lettuce in tinfoil and store in your fridge to add weeks to its lifespan!\n",
    "    \"\"\"\n",
    "    Usage: pom_superscript(number) returns a UTF8 string with the number a superscript\n",
    "           representation of the number\n",
    "    \"\"\"\n",
    "    translate_table = str.maketrans(\"0123456789-\", \"\\u2070\\u00B9\\u00B2\\u00B3\\u2074\\u2075\\u2076\\u2077\\u2078\\u2079\\u207B\")\n",
    "    return str(power).translate(translate_table)"
   ]
  },
  {
   "cell_type": "markdown",
   "metadata": {},
   "source": [
    "Let's do some testing"
   ]
  },
  {
   "cell_type": "code",
   "execution_count": 5,
   "metadata": {},
   "outputs": [
    {
     "name": "stdout",
     "output_type": "stream",
     "text": [
      "x³\n"
     ]
    }
   ],
   "source": [
    "print(f'x{pom_superscript(3)}')"
   ]
  },
  {
   "cell_type": "code",
   "execution_count": 6,
   "metadata": {},
   "outputs": [
    {
     "name": "stdout",
     "output_type": "stream",
     "text": [
      "x⁻⁴⁵\n"
     ]
    }
   ],
   "source": [
    "print(f'x{pom_superscript(-45)}')"
   ]
  },
  {
   "cell_type": "markdown",
   "metadata": {},
   "source": [
    "OK enough distractions, get on with it now.\n",
    "We'll use the above function in our main prettifier that displays the polynomial"
   ]
  },
  {
   "cell_type": "code",
   "execution_count": 7,
   "metadata": {},
   "outputs": [],
   "source": [
    "# show the input in a prettier way\n",
    "def pretty_equation(equation:list, var1:str='x', var2:str='y') -> None:\n",
    "    \"\"\"\n",
    "    This returns a user accessible string which tidies our equation and omits zero value tuples\n",
    "    var1 changes the default (x) variable name and\n",
    "    var2 changes the default (y) variable name on the left hand side of the equation\n",
    "    \"\"\"\n",
    "    print(f' {var2} = ', end=' ') # do not use a carriage return after printing\n",
    "    for (idx,(coeff,power)) in enumerate(equation):\n",
    "        if power == None or coeff == 0: # omit tuple if it has a zero value\n",
    "            continue\n",
    "        sign = '+' if coeff > 0  and idx!=0 else '' # force display of plus where appropriate (no leading + tho)\n",
    "        if coeff == 1:\n",
    "            coeff = ''; # a coefficient of 1 is conventionally omitted\n",
    "        # TODO: NEED TO HANDLE coeff = -1 so we retain the sign\n",
    "        if power == 0:\n",
    "            print(f'{sign}{coeff}', end=' ')\n",
    "        elif power == 1:\n",
    "            print(f'{sign}{coeff}{var1}', end=' ')\n",
    "        else:\n",
    "            pretty_power = pom_superscript(power)\n",
    "            print(f'{sign}{coeff}{var1}{pretty_power}', end=' ')"
   ]
  },
  {
   "cell_type": "markdown",
   "metadata": {},
   "source": [
    "Here comes the real work of the program"
   ]
  },
  {
   "cell_type": "code",
   "execution_count": 8,
   "metadata": {},
   "outputs": [],
   "source": [
    "# differentiate a tuple by multiplying power by coeff and decrementing power\n",
    "def differentiate_tuple(coeff:int, power:int) -> tuple:\n",
    "    \"\"\"\n",
    "    Differentiates a tuple by multiplying power by coeff and decrementing power and returns a new tuple\n",
    "    \"\"\"\n",
    "    return (coeff*power,power - 1) # all this work for this little tiny bit of code? My goodness me"
   ]
  },
  {
   "cell_type": "markdown",
   "metadata": {},
   "source": [
    "Now we apply our functions to the data we gathered earlier and show off"
   ]
  },
  {
   "cell_type": "code",
   "execution_count": 9,
   "metadata": {},
   "outputs": [
    {
     "name": "stdout",
     "output_type": "stream",
     "text": [
      "You entered\n",
      " y =  8x⁴ -3x³ +6x² +2x +11 and, when differentiated, this becomes\n",
      " y =  32x³ -9x² +12x +2 or as tuples:\n",
      "[(32, 3), (-9, 2), (12, 1), (2, 0), (0, -1)]\n"
     ]
    }
   ],
   "source": [
    "differentiated_result = []\n",
    "for (coeff,power) in equation:\n",
    "    differentiated_result.append(differentiate_tuple(coeff,power))\n",
    "    \n",
    "print(\"You entered\");\n",
    "pretty_equation(equation)\n",
    "print(\"and, when differentiated, this becomes\")\n",
    "pretty_equation(differentiated_result)\n",
    "print(\"or as tuples:\")\n",
    "print(differentiated_result)"
   ]
  },
  {
   "cell_type": "markdown",
   "metadata": {},
   "source": [
    "Now, part 2 (I can hardly wait) we'll use our equations and apply some values to see the magic happen."
   ]
  },
  {
   "cell_type": "code",
   "execution_count": 10,
   "metadata": {},
   "outputs": [],
   "source": [
    "def evaluate_polynomial(equation:list, var:int) -> int:\n",
    "    \"\"\"\n",
    "    Interprets the list of tuples in the equation and applies the value in var\n",
    "    \"\"\"\n",
    "    result = 0\n",
    "    for (coeff,power) in equation:\n",
    "        if var == 0 or coeff == 0: \n",
    "            continue\n",
    "        result += coeff * (var**power) if power>= 0 else coeff * (( 1/var)**abs(power))\n",
    "    return result"
   ]
  },
  {
   "cell_type": "code",
   "execution_count": 11,
   "metadata": {},
   "outputs": [
    {
     "name": "stdout",
     "output_type": "stream",
     "text": [
      "applying variable -2\n",
      "\toriginal result: 183\n",
      "\tdifferentiated : -314\n",
      "applying variable 0\n",
      "\toriginal result: 0\n",
      "\tdifferentiated : 0\n",
      "applying variable 1\n",
      "\toriginal result: 24\n",
      "\tdifferentiated : 37\n",
      "applying variable 3\n",
      "\toriginal result: 638\n",
      "\tdifferentiated : 821\n",
      "applying variable 10\n",
      "\toriginal result: 77631\n",
      "\tdifferentiated : 31222\n"
     ]
    }
   ],
   "source": [
    "test_set = (-2,0,1,3,10)\n",
    "\n",
    "for var_val in test_set:\n",
    "    print(f\"applying variable {var_val}\")\n",
    "    print(\"\\toriginal result:\",evaluate_polynomial(equation, var_val)) # TODO: find out the proper mathematical names to use\n",
    "    print(\"\\tdifferentiated :\",evaluate_polynomial(differentiated_result, var_val))"
   ]
  },
  {
   "cell_type": "markdown",
   "metadata": {},
   "source": [
    "<hr style=\"border:2px solid gray\"> </hr>"
   ]
  },
  {
   "cell_type": "markdown",
   "metadata": {},
   "source": [
    "## Reflection"
   ]
  },
  {
   "cell_type": "markdown",
   "metadata": {},
   "source": [
    "*Write your reflection in below cell. With reference to the Rubric for E-tivity 1:*\n",
    "- *Provide an accurate description of your code with advantages and disadvantages of design choices.*\n",
    "- *Compare your approach to alternative (peer) approaches.*\n",
    "- *Clearly describe how you have used your peers' work/input and how this has affected your own understanding / insights.*\n",
    "\n",
    "*If you have not used peer input, you may state this, but your submission history in Gitlab should clearly show this is the case.*"
   ]
  },
  {
   "cell_type": "markdown",
   "metadata": {},
   "source": [
    "## TBD"
   ]
  },
  {
   "cell_type": "code",
   "execution_count": null,
   "metadata": {},
   "outputs": [],
   "source": []
  }
 ],
 "metadata": {
  "kernelspec": {
   "display_name": "Python 3 (ipykernel)",
   "language": "python",
   "name": "python3"
  },
  "language_info": {
   "codemirror_mode": {
    "name": "ipython",
    "version": 3
   },
   "file_extension": ".py",
   "mimetype": "text/x-python",
   "name": "python",
   "nbconvert_exporter": "python",
   "pygments_lexer": "ipython3",
   "version": "3.11.4"
  }
 },
 "nbformat": 4,
 "nbformat_minor": 2
}
