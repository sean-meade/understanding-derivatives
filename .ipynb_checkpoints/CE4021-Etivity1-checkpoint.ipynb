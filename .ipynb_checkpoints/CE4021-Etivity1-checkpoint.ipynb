{
 "cells": [
  {
   "cell_type": "markdown",
   "metadata": {},
   "source": [
    "# Notebook E-tivity 1 CE4021"
   ]
  },
  {
   "cell_type": "markdown",
   "metadata": {},
   "source": [
    "Student name: Godfrey Jeremiah"
   ]
  },
  {
   "cell_type": "markdown",
   "metadata": {},
   "source": [
    "Student ID: 23310758"
   ]
  },
  {
   "cell_type": "markdown",
   "metadata": {},
   "source": [
    "<hr style=\"border:2px solid gray\"> </hr>"
   ]
  },
  {
   "cell_type": "markdown",
   "metadata": {},
   "source": [
    "## Imports"
   ]
  },
  {
   "cell_type": "code",
   "execution_count": 1,
   "metadata": {},
   "outputs": [],
   "source": [
    "#None"
   ]
  },
  {
   "cell_type": "markdown",
   "metadata": {},
   "source": [
    "If you believe required imports are missing, please contact your moderator."
   ]
  },
  {
   "cell_type": "markdown",
   "metadata": {},
   "source": [
    "<hr style=\"border:2px solid gray\"> </hr>"
   ]
  },
  {
   "cell_type": "markdown",
   "metadata": {},
   "source": [
    "## Task"
   ]
  },
  {
   "cell_type": "markdown",
   "metadata": {},
   "source": [
    "You may add as many cells as you require to complete this task. Refer to the Rubric for E-tivity 1 to see how you will be assessed."
   ]
  },
  {
   "cell_type": "markdown",
   "metadata": {},
   "source": [
    "### Option 1:"
   ]
  },
  {
   "cell_type": "markdown",
   "metadata": {},
   "source": [
    "Keynotes & Breakdown\n",
    "\n",
    "    As instructed:\n",
    "        1. I need to create polynomial with one variable\n",
    "        2. Calculate the derivative of the polynomial\n",
    "        3. Ensure both input and output are in polynomial\n",
    "\n",
    "The above 3 pointers simplify the task "
   ]
  },
  {
   "cell_type": "markdown",
   "metadata": {},
   "source": [
    "#### Example 1: 3a^3 + 5a^2 -7"
   ]
  },
  {
   "cell_type": "markdown",
   "metadata": {},
   "source": [
    "The derivative would be written as:\n",
    "    d/dx[3a^3 + 5a^2 -7]"
   ]
  },
  {
   "cell_type": "code",
   "execution_count": null,
   "metadata": {},
   "outputs": [],
   "source": [
    "In hand written form, the result would be:\n",
    "    9a^2 + 10a \n",
    "    \n",
    "How?\n",
    "\n",
    "First, segement the polynomial expression into 3 different parts as:\n",
    " ... 3a^3 ==> 3*3*a^3-1 ==> 9a^2\n",
    " ... 5a^2 ==> 2*5*a^2-1 ==> 10a\n",
    " ... 7 ==> is a constant\n"
   ]
  },
  {
   "cell_type": "markdown",
   "metadata": {},
   "source": [
    "Using python to determine this result now become easy as we've gotten the clear picture - it nonetheles easier to do most arithmetic in Python."
   ]
  },
  {
   "cell_type": "code",
   "execution_count": 185,
   "metadata": {},
   "outputs": [
    {
     "name": "stdout",
     "output_type": "stream",
     "text": [
      "derivavtive in polynomial at  a = 4 will produce 184a^2 + 111a + 0\n",
      "numeric of polynomial at  a = 4 will produce 184\n"
     ]
    }
   ],
   "source": [
    "# create a funtion for the derivatives\n",
    "def derivative_polynomial(a):\n",
    "    \"\"\"Returns the derivative of the polynomial in numeric format only\"\"\"\n",
    "\n",
    "# the segmentations of the polynomial expression\n",
    "    segment1 = 3 * 3 * a**(3 - 1) # derivavtive of 3a^3\n",
    "    segment2 = 5 * 2 * a**(2 - 1)  # derivative of 5a^2\n",
    "    segment3 = 0\n",
    "    \n",
    "    # the derivative would be the sum of all segments\n",
    "    der_of_segments = segment1 + segment2 + segment3\n",
    "    \n",
    "    return der_of_segments\n",
    "\n",
    "# To present output in polynnomial - continue on this...\n",
    "# Create a funtion to express the derivative output as a polynomial\n",
    "def der_as_poly(a):\n",
    "    \"\"\"Returns the derivative of the polynomial in its output\"\"\"\n",
    "    \n",
    "    return f'{derivative_polynomial(a)}a^2 + {derivative_polynomial(a - 1)}a + 0'\n",
    "\n",
    "# unfortunately the above solution may not be be generic as it applies to just this expression\n",
    "# I will test this code on a few salient polynomials\n",
    "\n",
    "##### BOTH SYMBOLIC AND NUMERICAL OF THE POLYNOMIAL ########\n",
    "# To Evaluate the numerical of the polynomial\n",
    "\n",
    "# Let's test the derivative for different value of 'a'\n",
    "a_val = 4 \n",
    "result = der_as_poly(a_val)\n",
    "answer = derivative_polynomial(a_val)\n",
    "\n",
    "# print the result for value of a\n",
    "print(f'derivavtive in polynomial at  a = {a_val} will produce {result}')\n",
    "print(f'numeric of polynomial at  a = {a_val} will produce {answer}')\n",
    "\n",
    "# next I will create a list of numbers and loop over them to test several values\n",
    "# here it is\n",
    "\n",
    "\n",
    "# I would develop this draft further"
   ]
  },
  {
   "cell_type": "code",
   "execution_count": null,
   "metadata": {},
   "outputs": [],
   "source": []
  },
  {
   "cell_type": "markdown",
   "metadata": {},
   "source": [
    "#### Example 2: 2y^5 + 5y^3 -1"
   ]
  },
  {
   "cell_type": "markdown",
   "metadata": {},
   "source": [
    "In this exmaple, the solution is presented in a single line using the power rule for any given value of y"
   ]
  },
  {
   "cell_type": "code",
   "execution_count": 280,
   "metadata": {},
   "outputs": [
    {
     "name": "stdout",
     "output_type": "stream",
     "text": [
      "25\n",
      "220\n",
      "945\n",
      "test1. 5y^3\n",
      "test2. 3y^3+3y^2+2\n",
      "test3. 2y^3+5y^2+3y\n",
      "derivative of [3y^3+2y^2+5y] = 9y^2+4y+5\n",
      "derivative of [2y^3+5y^2+1] = 6y^2+10y\n",
      "derivative of [5y^3] = 15y^2\n",
      "derivative of [5y^3+2y] = 15y^2+2\n"
     ]
    }
   ],
   "source": [
    "def derivative_of_polynomial(y):\n",
    "    \"\"\"Returns the derivative of the polynomial for 'y' with respect to the power rule: n*y**(n-1)\"\"\"\n",
    "    return 5*2*y**(5-1) + 3*5*y**(3-1)  # derivative of 1 in the expression is a constant which is 0\n",
    "\n",
    "# Prints the numeric evaluation of the value of y\n",
    "print(derivative_of_polynomial(1))\n",
    "print(derivative_of_polynomial(2)) \n",
    "print(derivative_of_polynomial(3))\n",
    "\n",
    "\n",
    "# To present both the input and output in polynomial, I'll define a function\n",
    "# ...that would input a parameter item and the function will return an item\n",
    "\n",
    "def der_poly(p: list) -> str:\n",
    "    \"\"\" Returns the parameter 'p' as a list of values and pass it as a string \"\"\"\n",
    "    result =\"\"\n",
    "    \n",
    "    for power, var in enumerate(p):\n",
    "        if var == 0:\n",
    "            continue\n",
    "        \n",
    "        elif result and result[0] != '-':\n",
    "            result = \"+\" + result\n",
    "            \n",
    "        \n",
    "        elif power == 0:\n",
    "            result =f'{var}' + result\n",
    "            continue\n",
    "        \n",
    "        if power == 1:\n",
    "            if var == 1:\n",
    "                result = f\"y\" + result\n",
    "                \n",
    "            else:    \n",
    "                result = f\"{var}y\" + result\n",
    "                \n",
    "        elif var == 1:\n",
    "            result = f'y^{power}' + result\n",
    "        else:\n",
    "                result = f\"{var}y^{power}\" + result\n",
    "    \n",
    "    if not result:\n",
    "        result = \"0\"\n",
    "        \n",
    "    return result\n",
    "            \n",
    "\n",
    "def derivative(p: list) -> list:\n",
    "    \"\"\"Returns an analytical or symbolic derivative of polynomial\n",
    "    ...represented by item\"\"\"\n",
    "    \n",
    "    result = [0] * len(p)\n",
    "    \n",
    "    # I need to loop over the item (which is the coefficient) with the power\n",
    "    # If the power of the item is equal to one then we get a constant and drop it,\n",
    "    \n",
    "    for power, var in enumerate(p):\n",
    "        if power != 0:\n",
    "            result[power - 1] = var * power\n",
    "    return result\n",
    "\n",
    "    \n",
    "print(f\"test1. {der_poly([0, 0, 0, 5])}\") \n",
    "print(f\"test2. {der_poly([2, 0, 3, 3])}\")\n",
    "print(f\"test3. {der_poly([0, 3, 5, 2])}\")\n",
    "\n",
    "# This would print the innput and output as polynomial\n",
    "print(f\"derivative of [{der_poly([0, 5, 2, 3])}] = {der_poly(derivative([0, 5, 2, 3]))}\")\n",
    "print(f\"derivative of [{der_poly([1, 0, 5, 2])}] = {der_poly(derivative([1, 0, 5, 2]))}\")\n",
    "print(f\"derivative of [{der_poly([0, 0, 0, 5])}] = {der_poly(derivative([0, 0, 0, 5]))}\")\n",
    "print(f\"derivative of [{der_poly([0, 2, 0, 5])}] = {der_poly(derivative([0, 2, 0, 5]))}\")\n"
   ]
  },
  {
   "cell_type": "code",
   "execution_count": null,
   "metadata": {},
   "outputs": [],
   "source": []
  },
  {
   "cell_type": "code",
   "execution_count": null,
   "metadata": {},
   "outputs": [],
   "source": [
    "\n"
   ]
  },
  {
   "cell_type": "code",
   "execution_count": null,
   "metadata": {},
   "outputs": [],
   "source": []
  },
  {
   "cell_type": "code",
   "execution_count": null,
   "metadata": {},
   "outputs": [],
   "source": []
  },
  {
   "cell_type": "code",
   "execution_count": null,
   "metadata": {},
   "outputs": [],
   "source": []
  },
  {
   "cell_type": "code",
   "execution_count": null,
   "metadata": {},
   "outputs": [],
   "source": []
  },
  {
   "cell_type": "code",
   "execution_count": null,
   "metadata": {},
   "outputs": [],
   "source": []
  },
  {
   "cell_type": "markdown",
   "metadata": {},
   "source": [
    "<hr style=\"border:2px solid gray\"> </hr>"
   ]
  },
  {
   "cell_type": "markdown",
   "metadata": {},
   "source": [
    "## Reflection"
   ]
  },
  {
   "cell_type": "markdown",
   "metadata": {},
   "source": [
    "Write your reflection in below cell. With reference to the Rubric for E-tivity 1:\n",
    "- Provide an accurate description of your code with advantages and disadvantages of design choices.\n",
    "- Compare your approach to alternative (peer) approaches.\n",
    "- Clearly describe how you have used your peers' work/input and how this has affected your own understanding / insights.\n",
    "\n",
    "If you have not used peer input, you may state this, but your submission history in Gitlab should clearly show this is the case."
   ]
  },
  {
   "cell_type": "code",
   "execution_count": null,
   "metadata": {},
   "outputs": [],
   "source": []
  }
 ],
 "metadata": {
  "kernelspec": {
   "display_name": "Python 3 (ipykernel)",
   "language": "python",
   "name": "python3"
  },
  "language_info": {
   "codemirror_mode": {
    "name": "ipython",
    "version": 3
   },
   "file_extension": ".py",
   "mimetype": "text/x-python",
   "name": "python",
   "nbconvert_exporter": "python",
   "pygments_lexer": "ipython3",
   "version": "3.11.4"
  }
 },
 "nbformat": 4,
 "nbformat_minor": 2
}
