{
 "cells": [
  {
   "cell_type": "code",
   "execution_count": 3,
   "id": "54486388",
   "metadata": {},
   "outputs": [
    {
     "name": "stdout",
     "output_type": "stream",
     "text": [
      "[2, 2]\n"
     ]
    }
   ],
   "source": [
    "def derivative(coefficients):\n",
    "    \"\"\"\n",
    "    Calculate the derivative of a polynomial.\n",
    "\n",
    "    Args:\n",
    "    - coefficients (list of int/float): list of coefficients of the polynomial, where index represents the power of x.\n",
    "\n",
    "    Returns:\n",
    "    - list of int/float: coefficients of the derivative.\n",
    "    \"\"\"\n",
    "    n = len(coefficients) - 1  # highest power of x\n",
    "    derivative_coeffs = []\n",
    "\n",
    "    for i in range(n, 0, -1):\n",
    "        derivative_coeffs.append(i * coefficients[n-i])\n",
    "\n",
    "    return derivative_coeffs\n",
    "\n",
    "# Example usage\n",
    "polynomial = [1, 2, 3]  # Represents 3x^2 + 2x + 1\n",
    "print(derivative(polynomial))  # Output: [2, 6], which represents 6x + 2\n"
   ]
  },
  {
   "cell_type": "code",
   "execution_count": null,
   "id": "71673a40",
   "metadata": {},
   "outputs": [],
   "source": []
  },
  {
   "cell_type": "code",
   "execution_count": 4,
   "id": "e6498d3e",
   "metadata": {},
   "outputs": [
    {
     "name": "stdout",
     "output_type": "stream",
     "text": [
      "17\n"
     ]
    }
   ],
   "source": [
    "def evaluate_polynomial(coefficients, x):\n",
    "    \"\"\"\n",
    "    Evaluate the polynomial at a given point using Horner's method.\n",
    "\n",
    "    Args:\n",
    "    - coefficients (list of int/float): list of coefficients of the polynomial, where index represents the power of x.\n",
    "    - x (int/float): point at which to evaluate the polynomial.\n",
    "\n",
    "    Returns:\n",
    "    - int/float: value of the polynomial at x.\n",
    "    \"\"\"\n",
    "    result = 0\n",
    "    for coef in coefficients[::-1]:  # We reverse the list to start with the highest power of x.\n",
    "        result = result * x + coef\n",
    "    return result\n",
    "\n",
    "# Example usage\n",
    "polynomial = [1, 2, 3]  # Represents 3x^2 + 2x + 1\n",
    "x_value = 2\n",
    "print(evaluate_polynomial(polynomial, x_value))  # Output: 17 (because 3*2^2 + 2*2 + 1 = 12 + 4 + 1 = 17)\n"
   ]
  },
  {
   "cell_type": "code",
   "execution_count": 5,
   "id": "331d6966",
   "metadata": {},
   "outputs": [
    {
     "name": "stdout",
     "output_type": "stream",
     "text": [
      "f(2) = 49, f'(2) = 23\n",
      "g(2) = -15, g'(2) = 28\n",
      "h(2) = 240, h'(2) = 86\n"
     ]
    }
   ],
   "source": [
    "def derivative(coefficients):\n",
    "    n = len(coefficients) - 1\n",
    "    derivative_coeffs = []\n",
    "    for i in range(n, 0, -1):\n",
    "        derivative_coeffs.append(i * coefficients[n-i])\n",
    "    return derivative_coeffs\n",
    "\n",
    "def evaluate_polynomial(coefficients, x):\n",
    "    result = 0\n",
    "    for coef in coefficients[::-1]:\n",
    "        result = result * x + coef\n",
    "    return result\n",
    "\n",
    "# Polynomials\n",
    "f = [1, 2, 3, 4]\n",
    "g = [-3, 0, 5, 0, -2]\n",
    "h = [6, 9, 0, -1, 0, 7]\n",
    "\n",
    "# Calculating derivatives\n",
    "f_prime = derivative(f)\n",
    "g_prime = derivative(g)\n",
    "h_prime = derivative(h)\n",
    "\n",
    "# Evaluating polynomials and their derivatives at x=2\n",
    "x_value = 2\n",
    "print(f\"f(2) = {evaluate_polynomial(f, x_value)}, f'(2) = {evaluate_polynomial(f_prime, x_value)}\")\n",
    "print(f\"g(2) = {evaluate_polynomial(g, x_value)}, g'(2) = {evaluate_polynomial(g_prime, x_value)}\")\n",
    "print(f\"h(2) = {evaluate_polynomial(h, x_value)}, h'(2) = {evaluate_polynomial(h_prime, x_value)}\")\n"
   ]
  },
  {
   "cell_type": "code",
   "execution_count": null,
   "id": "5bf21cc9",
   "metadata": {},
   "outputs": [],
   "source": []
  }
 ],
 "metadata": {
  "kernelspec": {
   "display_name": "Python 3 (ipykernel)",
   "language": "python",
   "name": "python3"
  },
  "language_info": {
   "codemirror_mode": {
    "name": "ipython",
    "version": 3
   },
   "file_extension": ".py",
   "mimetype": "text/x-python",
   "name": "python",
   "nbconvert_exporter": "python",
   "pygments_lexer": "ipython3",
   "version": "3.9.12"
  }
 },
 "nbformat": 4,
 "nbformat_minor": 5
}
