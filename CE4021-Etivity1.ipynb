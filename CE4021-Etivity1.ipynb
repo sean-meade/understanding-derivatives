{
 "cells": [
  {
   "cell_type": "markdown",
   "metadata": {},
   "source": [
    "# Notebook E-tivity 1 CE4021"
   ]
  },
  {
   "cell_type": "markdown",
   "metadata": {},
   "source": [
    "Student name: Mohammed Abdullah Al-Jaaidi"
   ]
  },
  {
   "cell_type": "markdown",
   "metadata": {},
   "source": [
    "Student ID: 23326727"
   ]
  },
  {
   "cell_type": "markdown",
   "metadata": {},
   "source": [
    "<hr style=\"border:2px solid gray\"> </hr>"
   ]
  },
  {
   "cell_type": "markdown",
   "metadata": {},
   "source": [
    "## Imports"
   ]
  },
  {
   "cell_type": "code",
   "execution_count": 1,
   "metadata": {},
   "outputs": [],
   "source": [
    "#None"
   ]
  },
  {
   "cell_type": "markdown",
   "metadata": {},
   "source": [
    "If you believe required imports are missing, please contact your moderator."
   ]
  },
  {
   "cell_type": "markdown",
   "metadata": {},
   "source": [
    "<hr style=\"border:2px solid gray\"> </hr>"
   ]
  },
  {
   "cell_type": "markdown",
   "metadata": {},
   "source": [
    "## Task"
   ]
  },
  {
   "cell_type": "markdown",
   "metadata": {},
   "source": [
    "### Option 1: Symbolic calculation of the derivative\n",
    "\n",
    "#### Requirement 1:\n",
    "Write a python function to symbolically calculate the derivative of a polynomial with one variable. The input should be a polynomial and the output should also be a polynomial.\n",
    "\n",
    "#### Overall suggested solution steps:\n",
    "1- Accept the symbolic polynomial as a string argument to the function.\n",
    "2- devide the polynomial to its individual terms and store the terms as items in a python list (We can split the terms using split method and  “+” or “-” signs as separators)\n",
    "3- Loop through the list and calculate then save the derivative of each term in three steps:\n",
    "    1- Split the term into coefficient and exponent parts.\n",
    "    2- Apply the power rule to compute the derivative term.\n",
    "    3- Append the derivative term to a python list.\n",
    "4- Join the derivative terms to form the derivative polynomial.\n",
    "5- Return the result.\n",
    "\n",
    "#### Initial solution code:"
   ]
  },
  {
   "cell_type": "code",
   "execution_count": null,
   "metadata": {},
   "outputs": [],
   "source": [
    "def derivative_of_polynomial(polynomial):\n",
    "    # Split the polynomial into its individual terms\n",
    "    # TODO: add spliting on '-'\n",
    "    terms = polynomial.split('+')\n",
    "    # Initialize an empty list to store the derivative terms\n",
    "    derivative_terms = []\n",
    "    # Loop through each term and compute its derivative\n",
    "    for term in terms:\n",
    "        # Split the term into coefficient and exponent\n",
    "        parts = term.split('x^')\n",
    "        if len(parts) == 2:\n",
    "            coefficient = int(parts[0]) if parts[0] else 1\n",
    "            exponent = int(parts[1])\n",
    "            # Apply the power rule to compute the derivative term\n",
    "            derivative_coefficient = coefficient * exponent\n",
    "            if exponent > 1:\n",
    "                derivative_exponent = exponent - 1\n",
    "                derivative_term = f\"{derivative_coefficient}x^{derivative_exponent}\"\n",
    "            else:\n",
    "                derivative_term = str(derivative_coefficient)\n",
    "            derivative_terms.append(derivative_term)\n",
    "    # Join the terms to form the derivative polynomial\n",
    "    derivative_polynomial = '+'.join(derivative_terms)    \n",
    "    return derivative_polynomial"
   ]
  },
  {
   "cell_type": "markdown",
   "metadata": {},
   "source": [
    "#### Requirement 2:\n",
    "Write a python function to evaluate (i.e. get the numerical value) of a polynomial for a given value of its variable. The input should be a polynomial and a value (point at which to evaluate the polynomial). The output should be a scalar.\n",
    "\n",
    "#### Overall suggested solution steps:\n",
    "1- Accept the symbolic polynomial and the given value as a string argument to the function.\n",
    "2- devide the polynomial to its individual terms and store the terms as items in a python list (We can split the terms using split method and  “+” or “-” signs as separators)\n",
    "3- Loop through each term and evaluate it for the given value\n",
    "\n",
    "#### Initial solution code:"
   ]
  },
  {
   "cell_type": "markdown",
   "metadata": {},
   "source": [
    "<hr style=\"border:2px solid gray\"> </hr>"
   ]
  },
  {
   "cell_type": "markdown",
   "metadata": {},
   "source": [
    "## Reflection"
   ]
  },
  {
   "cell_type": "markdown",
   "metadata": {},
   "source": [
    "Write your reflection in below cell. With reference to the Rubric for E-tivity 1:\n",
    "- Provide an accurate description of your code with advantages and disadvantages of design choices.\n",
    "- Compare your approach to alternative (peer) approaches.\n",
    "- Clearly describe how you have used your peers' work/input and how this has affected your own understanding / insights.\n",
    "\n",
    "If you have not used peer input, you may state this, but your submission history in Gitlab should clearly show this is the case."
   ]
  },
  {
   "cell_type": "code",
   "execution_count": null,
   "metadata": {},
   "outputs": [],
   "source": []
  }
 ],
 "metadata": {
  "kernelspec": {
   "display_name": "Python 3 (ipykernel)",
   "language": "python",
   "name": "python3"
  },
  "language_info": {
   "codemirror_mode": {
    "name": "ipython",
    "version": 3
   },
   "file_extension": ".py",
   "mimetype": "text/x-python",
   "name": "python",
   "nbconvert_exporter": "python",
   "pygments_lexer": "ipython3",
   "version": "3.11.4"
  }
 },
 "nbformat": 4,
 "nbformat_minor": 2
}
