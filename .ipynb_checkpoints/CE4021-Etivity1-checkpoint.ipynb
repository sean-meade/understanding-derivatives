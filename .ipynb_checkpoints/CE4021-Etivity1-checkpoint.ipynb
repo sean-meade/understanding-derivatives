{
 "cells": [
  {
   "cell_type": "markdown",
   "metadata": {},
   "source": [
    "# Notebook E-tivity 1 CE4021"
   ]
  },
  {
   "cell_type": "markdown",
   "metadata": {},
   "source": [
    "Student name: Vaclav Krol"
   ]
  },
  {
   "cell_type": "markdown",
   "metadata": {},
   "source": [
    "Student ID: 23307102"
   ]
  },
  {
   "cell_type": "markdown",
   "metadata": {},
   "source": [
    "<hr style=\"border:2px solid gray\"> </hr>"
   ]
  },
  {
   "cell_type": "markdown",
   "metadata": {},
   "source": [
    "## Imports"
   ]
  },
  {
   "cell_type": "code",
   "execution_count": 17,
   "metadata": {},
   "outputs": [],
   "source": [
    "#None"
   ]
  },
  {
   "cell_type": "markdown",
   "metadata": {},
   "source": [
    "If you believe required imports are missing, please contact your moderator."
   ]
  },
  {
   "cell_type": "markdown",
   "metadata": {},
   "source": [
    "<hr style=\"border:2px solid gray\"> </hr>"
   ]
  },
  {
   "cell_type": "markdown",
   "metadata": {},
   "source": [
    "## Task"
   ]
  },
  {
   "cell_type": "markdown",
   "metadata": {},
   "source": [
    "You may add as many cells as you require to complete this task. Refer to the Rubric for E-tivity 1 to see how you will be assessed."
   ]
  },
  {
   "cell_type": "markdown",
   "metadata": {},
   "source": [
    "<hr style=\"border:2px solid gray\"> </hr>"
   ]
  },
  {
   "cell_type": "markdown",
   "metadata": {},
   "source": [
    "### Description\n",
    "\n",
    "Input polynomial is expected in a \"human\" form, such as \"3+4x+5x^2\".\n",
    "The resulting polynomial is displayed in the same format.\n",
    "\n",
    "I am using dictionaries because they seem to be convenient for this task:\n",
    " - they are used to store data values in key:value pairs\n",
    " - my key/value pairs are power/coefficient parts of the polynomial\n",
    " - assuming powers are not duplicated in the polynomial because dictionaries don't allow duplicates\n",
    " - Please note that as of Python version 3.7, dictionaries are ordered. In Python 3.6 and earlier, dictionaries are unordered."
   ]
  },
  {
   "cell_type": "code",
   "execution_count": 16,
   "metadata": {},
   "outputs": [],
   "source": [
    "#######################################################\n",
    "def differentiate_polynomial(input_polynomial_str: str) -> dict:\n",
    "    \"\"\"\n",
    "    Calculates the derivative of a polynomial with one variable.\n",
    "    The input is a polynomial in a human form, such as 1+3x^2+7x^4 \n",
    "    The output is a calculated derivative of the input in a form of a dictionary of pairs (power, coefficient).\n",
    "    An example of input and output for the following polynomial:   \n",
    "    input_polynomial = 1+3x^2+7x^4\n",
    "    output_dict = {1: 6, 3: 28} # 6x+28x^3\n",
    "    Dictionaries can't have duplicates hence I chose the \"power\" as the key  \n",
    "    \"\"\"\n",
    "    # creating a dictionary from the input polynomial\n",
    "    input_polynomial_dict = parse_polynomial_str(input_polynomial_str)\n",
    "    \n",
    "    # deleting the \"0\" power first if present - derivative of a constant is zero\n",
    "    if 0 in input_polynomial_dict:\n",
    "        del input_polynomial_dict[0]\n",
    "    \n",
    "    output_dict = dict();\n",
    "\n",
    "    # Calculating the output pair of key/value (which equals power/coeff)\n",
    "    # and adding the new pair to the output dictionary\n",
    "    for power, coeff in input_polynomial_dict.items():\n",
    "        output_dict[power-1] = coeff*power\n",
    "    \n",
    "    return output_dict\n",
    "\n",
    "\n",
    "#######################################################\n",
    "def evaluate_polynomial(input_polynomial_str: str, var_value: int) -> int:\n",
    "    \"\"\"\n",
    "    Evaluates (gets the numerical value) of a polynomial for a given value of its variable\n",
    "    The input is a dictionary of pairs of the polynomial in the form of (power, coefficient)\n",
    "    The output is a number\n",
    "    An example:\n",
    "    input polynomial = 1+3x^2+7x^4\n",
    "    var_value = 5\n",
    "    result = 4451\n",
    "    \"\"\"\n",
    "    # creating a dictionary from the input polynomial\n",
    "    input_polynomial_dict = parse_polynomial_str(input_polynomial_str)\n",
    "    \n",
    "    result = 0\n",
    "    # Calculating the output pair of key/value (power/coeff)\n",
    "    # and adding the new pair to the output dictionary\n",
    "    for power, coeff in input_polynomial_dict.items():\n",
    "        result += ( (coeff * (var_value ** power)) if power>0 else coeff);\n",
    "    \n",
    "    return result\n",
    "\n",
    "\n",
    "#######################################################\n",
    "def parse_polynomial_str(in_polynomial: str) -> dict:\n",
    "    \"\"\"\n",
    "    Parses the input polynomial in the human form of 3+5x+7x^2-8x^3+2x^20\n",
    "    Returns a dictionary of pairs in the form of (power,coeff) for each part of the polynomial\n",
    "    An example output for the above polynomial is {0: 3, 1: 5, 2: 7, 3: -8, 20: 2}\n",
    "    \"power\" in the input polynomial can't be duplicated because the keys in the dictionary have to be unique\n",
    "    It probably would be easier to do using regular expressions\n",
    "    \"\"\"\n",
    "    # Splitting the polynomial to parts delimited by the set of delimiters [+,-]\n",
    "    poly_delimiters = [\"+\", \"-\"]\n",
    "    \n",
    "    out_polynomial = in_polynomial\n",
    "    for poly_delimiter in poly_delimiters:\n",
    "        out_polynomial = \" \".join(out_polynomial.split(poly_delimiter))\n",
    "\n",
    "    parsed_dict = dict()\n",
    "    for poly_part in out_polynomial.split():\n",
    "\n",
    "        # Finding the power\n",
    "        if poly_part.find('x') == -1:\n",
    "            power = 0\n",
    "        else: \n",
    "            power = 1 if poly_part.find('^') == -1 else poly_part.partition('^')[2]\n",
    "\n",
    "        # Finding the coefficient\n",
    "        poly_part_idx = in_polynomial.index(poly_part)\n",
    "        coeff_x = poly_part.partition('x')[0]\n",
    "        coeff = int( str('+' if (poly_part_idx == 0) else in_polynomial[poly_part_idx - 1]) + str(1 if coeff_x==\"\" else coeff_x))\n",
    "        \n",
    "        # Adding the new power:coeff pair to the output dictionary\n",
    "        parsed_dict[int(power)] = int(coeff)\n",
    "            \n",
    "    return parsed_dict\n",
    "\n",
    "\n",
    "#######################################################\n",
    "def beautify_polynomial_dict (in_dict: dict) -> str:\n",
    "    \"\"\"\n",
    "    Takes input dictionary of pairs in the form of (power, coefficient)\n",
    "    and returns a polynomial in the human form 5+14x-24x^2+40x^19\n",
    "    Example input : {0: 5, 1: 14, 2: -24, 19: 40}\n",
    "    Example output: 5+14x-24x^2+40x^19\n",
    "    \"\"\"\n",
    "    out_polynomial_str = \"\"\n",
    "    for power, coeff in in_dict.items():\n",
    "        coeff_sign_str = ('+' if (coeff >= 0 and out_polynomial_str !=\"\") else \"\")\n",
    "        coeff_str = str(coeff if (coeff != 0) else \"\")\n",
    "        x_str = ('x' if power>0 else \"\")\n",
    "        power_str = (f\"^{power}\" if power>1 else \"\")\n",
    "        out_polynomial_str += coeff_sign_str + coeff_str + x_str + power_str\n",
    "        \n",
    "    return out_polynomial_str\n"
   ]
  },
  {
   "cell_type": "code",
   "execution_count": null,
   "metadata": {},
   "outputs": [],
   "source": [
    "############################ MAIN #########################\n",
    "#######################  INTERACTIVE ######################\n",
    "###########################################################\n",
    "input_polynomial_str = input(\"Enter the input polynomial (example: 3+5x+7x^2-8x^3) \\n\")\n",
    "\n",
    "print ('\\n------------------ input polynomial -----------------')\n",
    "print (f'{input_polynomial_str}\\n')\n",
    "\n",
    "derivative_polynomial_dict = differentiate_polynomial(input_polynomial_str);\n",
    "\n",
    "# sort the dictionary by power (key)\n",
    "derivative_polynomial_str = beautify_polynomial_dict(dict(sorted(derivative_polynomial_dict.items(), key=lambda item: item[0])) )\n",
    "\n",
    "print ('-------- Derivative of the input polynomial ----------')\n",
    "print (f'{derivative_polynomial_str}\\n')\n",
    "\n",
    "var_value = input(\"Enter the variable value for evaluation of the input polynomial: \")\n",
    "print (f'\\n--- Evaluation of the input polynomial --- Variable value = {var_value} ---')\n",
    "print (f'RESULT = {evaluate_polynomial(input_polynomial_str, int(var_value))}\\n')\n"
   ]
  },
  {
   "cell_type": "code",
   "execution_count": 19,
   "metadata": {},
   "outputs": [
    {
     "name": "stdout",
     "output_type": "stream",
     "text": [
      "\n",
      "*** DIFFERENTIATION TEST ***\n",
      "\n",
      "--------------------------------------------------------------------------------\n",
      "Input polynomial: 5x^6+3x^4-8x^2+1\n",
      "\n",
      "Derivative of the polynomial: 30x^5+12x^3-16x\n",
      "\n",
      "--------------------------------------------------------------------------------\n",
      "Input polynomial: -2+7x-4x^2+5x^3+x^4\n",
      "\n",
      "Derivative of the polynomial: 7-8x+15x^2+4x^3\n",
      "\n",
      "--------------------------------------------------------------------------------\n",
      "Input polynomial: 3x^500+15x^100\n",
      "\n",
      "Derivative of the polynomial: 1500x^499+1500x^99\n",
      "\n",
      "--------------------------------------------------------------------------------\n",
      "\n",
      "\n",
      "*** EVALUATION TEST ***\n",
      "\n",
      "--------------------------------------------------------------------------------\n",
      "Input polynomial: 5x^6+3x^4-8x^2+1\n",
      "\n",
      "Variable value = 5\n",
      "RESULT = 79801\n",
      "\n",
      "--------------------------------------------------------------------------------\n",
      "Input polynomial: -2+7x-4x^2+5x^3+x^4\n",
      "\n",
      "Variable value = -8\n",
      "RESULT = 1222\n",
      "\n",
      "--------------------------------------------------------------------------------\n",
      "Input polynomial: 3x^500+15x^100\n",
      "\n",
      "Variable value = 10\n",
      "RESULT = 300000000000000000000000000000000000000000000000000000000000000000000000000000000000000000000000000000000000000000000000000000000000000000000000000000000000000000000000000000000000000000000000000000000000000000000000000000000000000000000000000000000000000000000000000000000000000000000000000000000000000000000000000000000000000000000000000000000000000000000000000000000000000000000000000000000000000150000000000000000000000000000000000000000000000000000000000000000000000000000000000000000000000000000\n",
      "\n",
      "--------------------------------------------------------------------------------\n"
     ]
    }
   ],
   "source": [
    "###################################################################\n",
    "####################### NON-INTERACTIVE TEST ######################\n",
    "###################################################################\n",
    "input_test_polynomials = (\"5x^6+3x^4-8x^2+1\", \"-2+7x-4x^2+5x^3+x^4\", \"3x^500+15x^100\")\n",
    "input_test_variables = (5, -8, 10)\n",
    "\n",
    "print(\"\\n*** DIFFERENTIATION TEST ***\\n\")\n",
    "print(80*'-')\n",
    "for input_polynomial in input_test_polynomials:\n",
    "    print(f'Input polynomial: {input_polynomial}\\n')\n",
    "    derivative_polynomial_dict = differentiate_polynomial(input_polynomial)\n",
    "    # If sorting by power is needed, the following might come handy\n",
    "    # derivative_polynomial_str = beautify_polynomial_dict(dict(sorted(derivative_polynomial_dict.items(), key=lambda item: item[0])) )\n",
    "    derivative_polynomial_str = beautify_polynomial_dict(derivative_polynomial_dict)\n",
    "    print(f'Derivative of the polynomial: {derivative_polynomial_str}\\n')\n",
    "    print(80*'-')\n",
    "    \n",
    "print(\"\\n\\n*** EVALUATION TEST ***\\n\")\n",
    "print(80*'-')\n",
    "for idx, input_polynomial in enumerate(input_test_polynomials):\n",
    "    print(f'Input polynomial: {input_polynomial}\\n')\n",
    "    var_value = input_test_variables[idx]\n",
    "    print (f'Variable value = {var_value}')\n",
    "    print (f'RESULT = {evaluate_polynomial(input_polynomial, int(var_value))}\\n')\n",
    "    print(80*'-')\n",
    "\n"
   ]
  },
  {
   "cell_type": "markdown",
   "metadata": {},
   "source": [
    "## Reflection"
   ]
  },
  {
   "cell_type": "markdown",
   "metadata": {},
   "source": [
    "Write your reflection in below cell. With reference to the Rubric for E-tivity 1:\n",
    "- Provide an accurate description of your code with advantages and disadvantages of design choices.\n",
    "- Compare your approach to alternative (peer) approaches.\n",
    "- Clearly describe how you have used your peers' work/input and how this has affected your own understanding / insights.\n",
    "\n",
    "If you have not used peer input, you may state this, but your submission history in Gitlab should clearly show this is the case."
   ]
  },
  {
   "cell_type": "markdown",
   "metadata": {},
   "source": [
    "\n"
   ]
  }
 ],
 "metadata": {
  "kernelspec": {
   "display_name": "Python 3 (ipykernel)",
   "language": "python",
   "name": "python3"
  },
  "language_info": {
   "codemirror_mode": {
    "name": "ipython",
    "version": 3
   },
   "file_extension": ".py",
   "mimetype": "text/x-python",
   "name": "python",
   "nbconvert_exporter": "python",
   "pygments_lexer": "ipython3",
   "version": "3.11.4"
  }
 },
 "nbformat": 4,
 "nbformat_minor": 2
}
