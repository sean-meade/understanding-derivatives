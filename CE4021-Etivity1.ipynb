{
 "cells": [
  {
   "cell_type": "markdown",
   "metadata": {},
   "source": [
    "# Notebook E-tivity 1 CE4021"
   ]
  },
  {
   "cell_type": "markdown",
   "metadata": {},
   "source": [
    "Student name: Bartlomiej Mlynarkiewicz"
   ]
  },
  {
   "cell_type": "markdown",
   "metadata": {},
   "source": [
    "Student ID: 17241782"
   ]
  },
  {
   "cell_type": "markdown",
   "metadata": {},
   "source": [
    "<hr style=\"border:2px solid gray\"> </hr>"
   ]
  },
  {
   "cell_type": "markdown",
   "metadata": {},
   "source": [
    "## Imports"
   ]
  },
  {
   "cell_type": "markdown",
   "metadata": {},
   "source": [
    "If you believe required imports are missing, please contact your moderator."
   ]
  },
  {
   "cell_type": "markdown",
   "metadata": {},
   "source": [
    "<hr style=\"border:2px solid gray\"> </hr>"
   ]
  },
  {
   "cell_type": "markdown",
   "metadata": {},
   "source": [
    "## Task"
   ]
  },
  {
   "cell_type": "markdown",
   "metadata": {},
   "source": [
    "You may add as many cells as you require to complete this task. Refer to the Rubric for E-tivity 1 to see how you will be assessed."
   ]
  },
  {
   "cell_type": "markdown",
   "metadata": {},
   "source": [
    "# Option 1: Symbolic calculation of the derivative"
   ]
  },
  {
   "cell_type": "markdown",
   "metadata": {},
   "source": [
    "Write 2 Python functions:\n",
    "\n",
    "1. *The first one to symbolically calculate the derivative of a polynomial with one variable. The input should be a* *polynomial and the output should also be a polynomial.*\n",
    "\n",
    "2. *The second one to evaluate (i.e. get the numerical value) of a polynomial for a given value of its variable. The* *input should be a polynomial and a value (point at which to evaluate the polynomial). The output should be a scalar.*\n",
    "\n",
    "*Test your code with a few salient polynomials (minimum of 3) for which you have calculated the derivative of these* *polynomials manually.*"
   ]
  },
  {
   "cell_type": "markdown",
   "metadata": {},
   "source": [
    "### Symbolic calculation of the derivative"
   ]
  },
  {
   "cell_type": "markdown",
   "metadata": {},
   "source": [
    "To perform a symbolic differentiation of a single varaible, the basic rule will be used:\n",
    "\n",
    "$$\n",
    "\\frac{d}{dx} ax^n = n\\times ax^{n-1}\n",
    "$$\n",
    "\n",
    "A polynomial is a list of terms which must satisfy the basic rules to be a polynomial.\n",
    "\n",
    "Polynomials can be represnted as a list in reverse exponential order such that the list values are the coefficients and the index positions are the powers.\n",
    "\n",
    "In this way the following polynomial can be written as:\n",
    "\n",
    "$$\n",
    "4x3+3x2-2x+4 \\to [4,2,3,4]\n",
    "$$\n",
    "\n",
    "### Assumptions\n",
    "1. All equations are fully expanded and simplified.\n",
    "2. All exponents are positive integers."
   ]
  },
  {
   "cell_type": "markdown",
   "metadata": {},
   "source": [
    "I've decided to store the polynomial as a list of coefficeints rather than storing coefficients as a list of tuples or a map by having the power as the key and the coefficeints as its values as suggested in the etivity forum. \n",
    "\n",
    "I think using a int list is just as a simple as all the afforementioned approaches as they all still require to be itterated over to be evaluated to a single value."
   ]
  },
  {
   "cell_type": "code",
   "execution_count": 506,
   "metadata": {},
   "outputs": [],
   "source": [
    "def derive_polynomial(polynomial:list[int]) -> list[int]:\n",
    "    \"\"\"Returns a list of coefficients of the derived polynomail.\n",
    "\n",
    "        Parameters\n",
    "        ----------\n",
    "        polynomial : list[int]\n",
    "            A list of coefficients of a polynomial.\n",
    "            \n",
    "        Returns\n",
    "        -------\n",
    "        list\n",
    "            Returns a list of coefficients of the derived polynomail.\n",
    "    \"\"\" \n",
    "    derived_cofficients:list[int] = [0] * len(polynomial)\n",
    "    for exponent, cofficient in enumerate(polynomial):\n",
    "        derived_exponent = exponent-1\n",
    "        derived_cofficient = cofficient*exponent\n",
    "        if exponent != 0 and cofficient != 0: \n",
    "            derived_cofficients[derived_exponent] = derived_cofficient\n",
    "    return derived_cofficients"
   ]
  },
  {
   "cell_type": "code",
   "execution_count": 507,
   "metadata": {},
   "outputs": [],
   "source": [
    "def evalute_polynomial(polynomial:list[int], val_of_x:int) -> int:\n",
    "    \"\"\"Evaluates a polynomail using a list of its coefficients.\n",
    "\n",
    "        Parameters\n",
    "        ----------\n",
    "        polynomial : list[int]\n",
    "            A list of coefficients of a polynomial.\n",
    "            \n",
    "        val_of_x : int\n",
    "            Value which is substituted for x to evaluate a polynomial to result in a scalar value.\n",
    "            \n",
    "        Returns\n",
    "        -------\n",
    "        int\n",
    "            Resulting scalar after evaluating the polynomial expression.\n",
    "    \"\"\" \n",
    "    scalar:int = 0\n",
    "    for exponent, cofficient in enumerate(polynomial):\n",
    "        scalar += cofficient * pow(val_of_x, exponent)\n",
    "    return scalar"
   ]
  },
  {
   "cell_type": "markdown",
   "metadata": {},
   "source": [
    "## Differentiate polynomail using a list of coefficients"
   ]
  },
  {
   "cell_type": "code",
   "execution_count": 508,
   "metadata": {},
   "outputs": [],
   "source": [
    "def derive_polynomial_using_list(polynomial:list[int], val_of_x:int, derrivative:int = 1) -> list:\n",
    "    \"\"\"Returns a prettified derived polynomail and its evaluated value\n",
    "\n",
    "        Parameters\n",
    "        ----------\n",
    "        polynomial : list[int]\n",
    "            A polynomial in the form of list of coefficients\n",
    "            \n",
    "        val_of_x : int\n",
    "            The value for which the derived polynomail is to be evaluated for\n",
    "        \n",
    "        derrivative : int, optional\n",
    "            The derrivative number of the polynomail\n",
    "            \n",
    "        Returns\n",
    "        -------\n",
    "        list\n",
    "            Returns a pretified polynomail with its evaluated value along with a derived list of coefficients\n",
    "\n",
    "        Raises\n",
    "        ------\n",
    "        InvalidPolynomial\n",
    "            If the polynomail is empty\n",
    "    \"\"\"\n",
    "    \n",
    "    if not len(polynomial):\n",
    "        raise InvalidPolynomial(\"Invalid polynomial has been passed in.\")\n",
    "        \n",
    "    derived_cofficients:list[int] = [0] * len(polynomial)\n",
    "    derived_polynomial:list[str] = []\n",
    "        \n",
    "    derived_polynomial:list[int] = derive_polynomial(polynomial)\n",
    "    evaluated_polynomial:int = evalute_polynomial(derived_polynomial, val_of_x)\n",
    "            \n",
    "    prettified_polynomail = prettify_polynomail(derived_polynomial, derrivative, reverse_polynomial=True)\n",
    "    inital_prettified_polynomail = prettify_polynomail(polynomial, reverse_polynomial=True)\n",
    "\n",
    "    return f\"{derrivative}. {inital_prettified_polynomail[0]} -> f{prettified_polynomail[1]}(x) = {prettified_polynomail[0]} -> f{prettified_polynomail[1]}({val_of_x}) = {evaluated_polynomial}\", derived_polynomial"
   ]
  },
  {
   "cell_type": "markdown",
   "metadata": {},
   "source": [
    "The `find_highest_power` is a helper function of `derive_polynomial_using_string` used to find the largest exponent in the polynomial to create a list of the size of the largest exponent to store the coefficients of the polynomail"
   ]
  },
  {
   "cell_type": "code",
   "execution_count": 509,
   "metadata": {},
   "outputs": [],
   "source": [
    "def find_highest_power(polynomial:str) -> int:\n",
    "    \"\"\"Returns the greatest expoent parsed from the polynomial\n",
    "\n",
    "        Parameters\n",
    "        ----------\n",
    "        polynomial : str\n",
    "            A polynomial in its string representation.\n",
    "            \n",
    "        Returns\n",
    "        -------\n",
    "        int\n",
    "            Returns the greatest expoent parsed from the polynomial\n",
    "    \"\"\"\n",
    "    power = 0\n",
    "    for term in polynomial:\n",
    "        term = term.split('x')\n",
    "        exponent = 0 if len(term) == 1 else 1 if term[1] == '' else int(term[1])\n",
    "        if exponent > power:\n",
    "            power = exponent \n",
    "    return power"
   ]
  },
  {
   "cell_type": "markdown",
   "metadata": {},
   "source": [
    "I've decided to add this function to parse the polynomial in its string format. From a UX perspective, allowing the user to pass in the polynomial in its string format is least confusing. \n",
    "\n",
    "For the purposes of this task, I'm not implementing any string validation and assuming the polynomial is passed in its expected form."
   ]
  },
  {
   "cell_type": "markdown",
   "metadata": {},
   "source": [
    "## Differentiate polynomail using its string format"
   ]
  },
  {
   "cell_type": "code",
   "execution_count": 510,
   "metadata": {},
   "outputs": [],
   "source": [
    "def derive_polynomial_using_string(polynomial:str, val_of_x:int, derrivative:int = 1) -> list:\n",
    "    \"\"\"Returns a prettified derived polynomail and its evaluated value\n",
    "\n",
    "        Parameters\n",
    "        ----------\n",
    "        polynomial : list[int]\n",
    "            A polynomial in the form of list of coefficients\n",
    "            \n",
    "        val_of_x : int\n",
    "            The value for which the derived polynomail is to be evaluated for\n",
    "        \n",
    "        derrivative : int, optional\n",
    "            The derrivative number of the polynomail\n",
    "            \n",
    "        Returns\n",
    "        -------\n",
    "        list\n",
    "            Returns a pretified polynomail with its evaluated value along with a derived list of coefficients\n",
    "\n",
    "        Raises\n",
    "        ------\n",
    "        InvalidPolynomial\n",
    "            If the polynomail is empty\n",
    "    \"\"\"\n",
    "    \n",
    "    if not len(polynomial):\n",
    "        raise InvalidPolynomial(\"Invalid polynomial has been passed in.\")\n",
    "        \n",
    "    polynomial:list[str] = polynomial.replace(\"^\",\"\").replace(\" - \", \"+-\").replace(\" \",\"\").split(\"+\")\n",
    "    \n",
    "    power = find_highest_power(polynomial)\n",
    "    polynomial_list:list[int] = [0] * (power + 1)\n",
    "\n",
    "    derived_polynomial:list[int] = []\n",
    "    scalar:int = 0\n",
    "\n",
    "    for term in polynomial:\n",
    "        term = term.split('x')\n",
    "        cofficient = 1 if term[0] == '' else int(term[0])\n",
    "        exponent = 0 if len(term) == 1 else 1 if term[1] == '' else int(term[1])\n",
    "        polynomial_list[exponent] = cofficient\n",
    "        \n",
    "    derived_polynomial:list[int] = derive_polynomial(polynomial_list)\n",
    "    evaluated_polynomial:int = evalute_polynomial(derived_polynomial, val_of_x)\n",
    "                    \n",
    "    prettified_polynomail = prettify_polynomail(derived_polynomial, derrivative, reverse_polynomial=True)\n",
    "    inital_prettified_polynomail = prettify_polynomail(polynomial_list, reverse_polynomial=True)\n",
    "    \n",
    "    return f\"{derrivative}. {inital_prettified_polynomail[0]} -> f{prettified_polynomail[1]}(x) = {prettified_polynomail[0]} -> f{prettified_polynomail[1]}({val_of_x}) = {evaluated_polynomial}\", derived_polynomial"
   ]
  },
  {
   "cell_type": "markdown",
   "metadata": {},
   "source": [
    "# Prettify Polynomail"
   ]
  },
  {
   "cell_type": "markdown",
   "metadata": {},
   "source": [
    "A prettify function to represent to derived polynomail in its nth derivative.\n",
    "\n",
    "It reverses the polynomail if polynomail was passed in as a list of coefficients."
   ]
  },
  {
   "cell_type": "code",
   "execution_count": 511,
   "metadata": {},
   "outputs": [],
   "source": [
    "def prettify_polynomail(polynomial:list, derivative:int = 1, reverse_polynomial:bool = False) -> list:\n",
    "    \"\"\"Returns a pretified derived polynomail\n",
    "\n",
    "        Parameters\n",
    "        ----------\n",
    "        polynomial : list[str]\n",
    "            The derived polynomail is passed in.\n",
    "            \n",
    "        derivative_no : int, optional\n",
    "            The value for which the derived polynomail is to be evaluated for\n",
    "        \n",
    "        reverse_polynomial : bool, optional\n",
    "            A boolean flag if to reverse the polynomail, is reversed when polynomial was constructed from a list of its coefficients\n",
    "            \n",
    "        Returns\n",
    "        -------\n",
    "        list\n",
    "            Returns a pretified polynomail with its evaluated value along with a derived list of coefficients\n",
    "    \"\"\"      \n",
    "    pretified_polynomial:list[str] = []\n",
    "    derivative_no:str = derivative * \"'\"\n",
    "            \n",
    "    for exponent, cofficient in enumerate(polynomial):\n",
    "        if cofficient != 0:\n",
    "            cofficient = str(cofficient)\n",
    "            pretified_polynomial.append((cofficient + (f\"x^{exponent}\" if (exponent) > 1 else (\"x\" if (exponent) == 1 else \"\"))).replace(\"-1x\",\"-x\").replace(\"1x\",\"x\"))\n",
    "            \n",
    "    if reverse_polynomial:\n",
    "        pretified_polynomial.reverse()\n",
    "        \n",
    "    prettified_polynomial = \" + \".join(pretified_polynomial).replace(\" + -\",\" - \")\n",
    "    prettified_polynomial = 0 if not len(prettified_polynomial) else prettified_polynomial\n",
    "    \n",
    "    return prettified_polynomial, derivative_no"
   ]
  },
  {
   "cell_type": "markdown",
   "metadata": {},
   "source": [
    "# Tests"
   ]
  },
  {
   "cell_type": "markdown",
   "metadata": {},
   "source": [
    "Verify that prettify_polynomail returns the polynomail in the required as expected"
   ]
  },
  {
   "cell_type": "code",
   "execution_count": 512,
   "metadata": {},
   "outputs": [
    {
     "name": "stdout",
     "output_type": "stream",
     "text": [
      "1. -x + 2x^3 - 4x^4 + x^5\n",
      "2. -x\n",
      "3. 0\n"
     ]
    }
   ],
   "source": [
    "print(f\"1. {prettify_polynomail([0, -1, 0, 2, -4, 1])[0]}\")\n",
    "print(f\"2. {prettify_polynomail([0, -1])[0]}\")\n",
    "print(f\"3. {prettify_polynomail([0])[0]}\")"
   ]
  },
  {
   "cell_type": "code",
   "execution_count": 513,
   "metadata": {},
   "outputs": [
    {
     "name": "stdout",
     "output_type": "stream",
     "text": [
      "1. [0, -1, 0, 2, -4, 1] -> [-1, 0, 6, -16, 5, 0]\n",
      "2. [0, -1] -> [-1, 0]\n",
      "3. [0] -> [0]\n"
     ]
    }
   ],
   "source": [
    "print(f\"1. [0, -1, 0, 2, -4, 1] -> {derive_polynomial([0, -1, 0, 2, -4, 1])}\")\n",
    "print(f\"2. [0, -1] -> {derive_polynomial([0, -1])}\")\n",
    "print(f\"3. [0] -> {derive_polynomial([0])}\")"
   ]
  },
  {
   "cell_type": "markdown",
   "metadata": {},
   "source": [
    "## Tests of derive_polynomial_using_list"
   ]
  },
  {
   "cell_type": "code",
   "execution_count": 514,
   "metadata": {},
   "outputs": [
    {
     "name": "stdout",
     "output_type": "stream",
     "text": [
      "1. 2x^7 + x^6 + x^5 + 100x^4 - 44x^3 -> f'(x) = 14x^6 + 6x^5 + 5x^4 + 400x^3 - 132x^2 -> f'(2) = 3840\n"
     ]
    }
   ],
   "source": [
    "derived_polynomial = derive_polynomial_using_list([0,0,0,-44,100,1,1,2], 2)\n",
    "print(derived_polynomial[0])"
   ]
  },
  {
   "cell_type": "markdown",
   "metadata": {},
   "source": [
    "Import `random` to generate a random array in the range -100 - 100 only for test purposes."
   ]
  },
  {
   "cell_type": "code",
   "execution_count": 515,
   "metadata": {},
   "outputs": [
    {
     "name": "stdout",
     "output_type": "stream",
     "text": [
      "Generate array: [1, -21, 40, -64, -40, 11, -53, -33, 63, 11, 35, 93, 39, -32, -86, 8, 48, 67, 22, -5, 84, 71, 38, 33, 96, -86, 17, 98, 54, 42, 60, 61, -73, -21, -70, -97, -54, 90, 88, 58, -1, -80, 32, 7, -31, -21, 69, 33, -50, 17, 40, 73, -44, -73, -82, 46, -35, -31, 75, 82, 9, -100, -72, 37, -46, 8, 8, -46, 19, -92, -56, -53, -94, -60, 30, 100, -64, -25, -10, 63, 14, -51, -47, -15, 90, -22, 80, 4, 86, 42, -52, -16, 60, -6, -13, 38, -61, -67, -76, 35]\n"
     ]
    }
   ],
   "source": [
    "import random \n",
    "\n",
    "random_int_array = []\n",
    "for i in range(100):\n",
    "    random_int_array.append(random.randint(-100, 100))\n",
    "    \n",
    "print(f\"Generate array: {random_int_array}\")"
   ]
  },
  {
   "cell_type": "code",
   "execution_count": 516,
   "metadata": {},
   "outputs": [
    {
     "name": "stdout",
     "output_type": "stream",
     "text": [
      "1. 35x^99 - 76x^98 - 67x^97 - 6x^96 + 38x^95 - 13x^94 - 6x^93 + 60x^92 - 16x^91 - 52x^90 + 42x^89 + 86x^88 + 4x^87 + 80x^86 - 22x^85 + 90x^84 - 15x^83 - 47x^82 - 5x^81 + 14x^80 + 63x^79 - 10x^78 - 25x^77 - 64x^76 + 100x^75 + 30x^74 - 60x^73 - 94x^72 - 53x^71 - 56x^70 - 92x^69 + 19x^68 - 46x^67 + 8x^66 + 8x^65 - 46x^64 + 37x^63 - 72x^62 - 100x^61 + 9x^60 + 82x^59 + 75x^58 - 3x^57 - 35x^56 + 46x^55 - 82x^54 - 73x^53 - 44x^52 + 73x^51 + 40x^50 + 17x^49 - 50x^48 + 33x^47 + 69x^46 - 2x^45 - 3x^44 + 7x^43 + 32x^42 - 80x^41 - x^40 + 58x^39 + 88x^38 + 90x^37 - 54x^36 - 97x^35 - 70x^34 - 2x^33 - 73x^32 + 6x^31 + 60x^30 + 42x^29 + 54x^28 + 98x^27 + 17x^26 - 86x^25 + 96x^24 + 33x^23 + 38x^22 + 7x^21 + 84x^20 - 5x^19 + 22x^18 + 67x^17 + 48x^16 + 8x^15 - 86x^14 - 32x^13 + 39x^12 + 93x^11 + 35x^10 + 1x^9 + 63x^8 - 33x^7 - 53x^6 + 1x^5 - 40x^4 - 64x^3 + 40x^2 - 2x + 1 -> f'(x) = 3465x^98 - 7448x^97 - 6499x^96 - 5856x^95 + 3610x^94 - 1222x^93 - 558x^92 + 5520x^91 - 1456x^90 - 4680x^89 + 3738x^88 + 7568x^87 + 348x^86 + 6880x^85 - 1870x^84 + 7560x^83 - 1245x^82 - 3854x^81 - 413x^80 + 1120x^79 + 4977x^78 - 780x^77 - 1925x^76 - 4864x^75 + 7500x^74 + 2220x^73 - 4380x^72 - 6768x^71 - 3763x^70 - 3920x^69 - 6348x^68 + 1292x^67 - 3082x^66 + 528x^65 + 520x^64 - 2944x^63 + 233x^62 - 4464x^61 - 6100x^60 + 540x^59 + 4838x^58 + 4350x^57 - 1767x^56 - 1960x^55 + 2530x^54 - 4428x^53 - 3869x^52 - 2288x^51 + 3723x^50 + 2000x^49 + 833x^48 - 2400x^47 + 155x^46 + 3174x^45 - 945x^44 - 1364x^43 + 30x^42 + 1344x^41 - 3280x^40 - 40x^39 + 2262x^38 + 3344x^37 + 3330x^36 - 1944x^35 - 3395x^34 - 2380x^33 - 693x^32 - 2336x^31 + 189x^30 + 1800x^29 + 1218x^28 + 1512x^27 + 2646x^26 + 442x^25 - 2150x^24 + 2304x^23 + 759x^22 + 836x^21 + 149x^20 + 1680x^19 - 95x^18 + 396x^17 + 1139x^16 + 768x^15 + 120x^14 - 1204x^13 - 416x^12 + 468x^11 + 1023x^10 + 350x^9 + 99x^8 + 504x^7 - 23x^6 - 318x^5 + 55x^4 - 160x^3 - 192x^2 + 80x - 21 -> f'(2) = -760718902233942018655386732670597\n"
     ]
    }
   ],
   "source": [
    "derived_polynomial = derive_polynomial_using_list(random_int_array, 2)\n",
    "print(derived_polynomial[0])"
   ]
  },
  {
   "cell_type": "code",
   "execution_count": 517,
   "metadata": {},
   "outputs": [
    {
     "name": "stdout",
     "output_type": "stream",
     "text": [
      "1. x^9 - 45x^5 - 3x^3 + 2x + 1 -> f'(x) = 9x^8 - 225x^4 - 9x^2 + 2 -> f'(2) = -1330\n",
      "2. 9x^8 - 225x^4 - 9x^2 + 2 -> f''(x) = 72x^7 - 900x^3 - 18x -> f''(2) = 1980\n",
      "3. 72x^7 - 900x^3 - 18x -> f'''(x) = 504x^6 - 2700x^2 - 18 -> f'''(2) = 21438\n",
      "4. 504x^6 - 2700x^2 - 18 -> f''''(x) = 3024x^5 - 5400x -> f''''(2) = 85968\n",
      "5. 3024x^5 - 5400x -> f'''''(x) = 15120x^4 - 5400 -> f'''''(2) = 236520\n",
      "6. 15120x^4 - 5400 -> f''''''(x) = 60480x^3 -> f''''''(2) = 483840\n",
      "7. 60480x^3 -> f'''''''(x) = 181440x^2 -> f'''''''(2) = 725760\n",
      "8. 181440x^2 -> f''''''''(x) = 362880x -> f''''''''(2) = 725760\n",
      "9. 362880x -> f'''''''''(x) = 362880 -> f'''''''''(2) = 362880\n",
      "10. 362880 -> f''''''''''(x) = 0 -> f''''''''''(2) = 0\n"
     ]
    }
   ],
   "source": [
    "derived_polynomial = derive_polynomial_using_list([1, 2, 0, -3,0,-45,0,0,0,1], 2)\n",
    "print(derived_polynomial[0])\n",
    "for i in range(1,10):\n",
    "    derived_polynomial = derive_polynomial_using_list(derived_polynomial[1], 2, i+1)\n",
    "    print(derived_polynomial[0])"
   ]
  },
  {
   "cell_type": "markdown",
   "metadata": {},
   "source": [
    "## Tests of derive_polynomial_using_string"
   ]
  },
  {
   "cell_type": "code",
   "execution_count": 518,
   "metadata": {},
   "outputs": [
    {
     "ename": "NameError",
     "evalue": "name 'InvalidPolynomial' is not defined",
     "output_type": "error",
     "traceback": [
      "\u001b[0;31m---------------------------------------------------------------------------\u001b[0m",
      "\u001b[0;31mNameError\u001b[0m                                 Traceback (most recent call last)",
      "Cell \u001b[0;32mIn[518], line 1\u001b[0m\n\u001b[0;32m----> 1\u001b[0m derived_polynomial \u001b[38;5;241m=\u001b[39m derive_polynomial_using_string(\u001b[38;5;124m\"\u001b[39m\u001b[38;5;124m\"\u001b[39m, \u001b[38;5;241m2\u001b[39m)\n\u001b[1;32m      2\u001b[0m \u001b[38;5;28mprint\u001b[39m(derived_polynomial[\u001b[38;5;241m0\u001b[39m])\n",
      "Cell \u001b[0;32mIn[510], line 27\u001b[0m, in \u001b[0;36mderive_polynomial_using_string\u001b[0;34m(polynomial, val_of_x, derrivative)\u001b[0m\n\u001b[1;32m      2\u001b[0m \u001b[38;5;250m\u001b[39m\u001b[38;5;124;03m\"\"\"Returns a prettified derived polynomail and its evaluated value\u001b[39;00m\n\u001b[1;32m      3\u001b[0m \n\u001b[1;32m      4\u001b[0m \u001b[38;5;124;03m    Parameters\u001b[39;00m\n\u001b[0;32m   (...)\u001b[0m\n\u001b[1;32m     23\u001b[0m \u001b[38;5;124;03m        If the polynomail is empty\u001b[39;00m\n\u001b[1;32m     24\u001b[0m \u001b[38;5;124;03m\"\"\"\u001b[39;00m\n\u001b[1;32m     26\u001b[0m \u001b[38;5;28;01mif\u001b[39;00m \u001b[38;5;129;01mnot\u001b[39;00m \u001b[38;5;28mlen\u001b[39m(polynomial):\n\u001b[0;32m---> 27\u001b[0m     \u001b[38;5;28;01mraise\u001b[39;00m InvalidPolynomial(\u001b[38;5;124m\"\u001b[39m\u001b[38;5;124mInvalid polynomial has been passed in.\u001b[39m\u001b[38;5;124m\"\u001b[39m)\n\u001b[1;32m     29\u001b[0m polynomial:\u001b[38;5;28mlist\u001b[39m[\u001b[38;5;28mstr\u001b[39m] \u001b[38;5;241m=\u001b[39m polynomial\u001b[38;5;241m.\u001b[39mreplace(\u001b[38;5;124m\"\u001b[39m\u001b[38;5;124m^\u001b[39m\u001b[38;5;124m\"\u001b[39m,\u001b[38;5;124m\"\u001b[39m\u001b[38;5;124m\"\u001b[39m)\u001b[38;5;241m.\u001b[39mreplace(\u001b[38;5;124m\"\u001b[39m\u001b[38;5;124m - \u001b[39m\u001b[38;5;124m\"\u001b[39m, \u001b[38;5;124m\"\u001b[39m\u001b[38;5;124m+-\u001b[39m\u001b[38;5;124m\"\u001b[39m)\u001b[38;5;241m.\u001b[39mreplace(\u001b[38;5;124m\"\u001b[39m\u001b[38;5;124m \u001b[39m\u001b[38;5;124m\"\u001b[39m,\u001b[38;5;124m\"\u001b[39m\u001b[38;5;124m\"\u001b[39m)\u001b[38;5;241m.\u001b[39msplit(\u001b[38;5;124m\"\u001b[39m\u001b[38;5;124m+\u001b[39m\u001b[38;5;124m\"\u001b[39m)\n\u001b[1;32m     31\u001b[0m power \u001b[38;5;241m=\u001b[39m find_highest_power(polynomial)\n",
      "\u001b[0;31mNameError\u001b[0m: name 'InvalidPolynomial' is not defined"
     ]
    }
   ],
   "source": [
    "derived_polynomial = derive_polynomial_using_string(\"\", 2)\n",
    "print(derived_polynomial[0])"
   ]
  },
  {
   "cell_type": "code",
   "execution_count": 519,
   "metadata": {},
   "outputs": [
    {
     "name": "stdout",
     "output_type": "stream",
     "text": [
      "1. -3x^16 + 3x^3 - 2x^2 + x + 1 -> f'(x) = -48x^15 + 9x^2 - 4x + 1 -> f'(2) = -1572835\n"
     ]
    }
   ],
   "source": [
    "derived_polynomial = derive_polynomial_using_string(\"3x^3 - 2x^2 + x - 3x^16 + 1\", 2)\n",
    "print(derived_polynomial[0])"
   ]
  },
  {
   "cell_type": "code",
   "execution_count": 520,
   "metadata": {},
   "outputs": [
    {
     "name": "stdout",
     "output_type": "stream",
     "text": [
      "1. 3x + 1 -> f'(x) = 3 -> f'(5) = 3\n"
     ]
    }
   ],
   "source": [
    "derived_polynomial = derive_polynomial_using_string(\"3x + 1\", 5)\n",
    "print(derived_polynomial[0])"
   ]
  },
  {
   "cell_type": "code",
   "execution_count": 521,
   "metadata": {},
   "outputs": [
    {
     "name": "stdout",
     "output_type": "stream",
     "text": [
      "1. 3 -> f'(x) = 0 -> f'(0) = 0\n"
     ]
    }
   ],
   "source": [
    "derived_polynomial = derive_polynomial_using_string(\"3\", 0)\n",
    "print(derived_polynomial[0])"
   ]
  },
  {
   "cell_type": "code",
   "execution_count": 522,
   "metadata": {},
   "outputs": [
    {
     "name": "stdout",
     "output_type": "stream",
     "text": [
      "1. 2x^1000 -> f'(x) = 2000x^999 -> f'(2) = 10715086071862673209484250490600018105614048117055336074437503883703510511249361224931983788156958581275946729175531468251871452856923140435984577574698574803934567774824230985421074605062371141877954182153046474983581941267398767559165543946077062914571196477686542167660429831652624386837205668069376000\n"
     ]
    }
   ],
   "source": [
    "derived_polynomial = derive_polynomial_using_string(\"2x^1000\", 2)\n",
    "print(derived_polynomial[0])"
   ]
  },
  {
   "cell_type": "code",
   "execution_count": 523,
   "metadata": {},
   "outputs": [
    {
     "name": "stdout",
     "output_type": "stream",
     "text": [
      "1. 9x^8 - 225x^4 - 9x^2 + 2 -> f'(x) = 72x^7 - 900x^3 - 18x -> f'(2) = 1980\n",
      "2. 72x^7 - 900x^3 - 18x -> f''(x) = 504x^6 - 2700x^2 - 18 -> f''(2) = 21438\n",
      "3. 504x^6 - 2700x^2 - 18 -> f'''(x) = 3024x^5 - 5400x -> f'''(2) = 85968\n",
      "4. 3024x^5 - 5400x -> f''''(x) = 15120x^4 - 5400 -> f''''(2) = 236520\n",
      "5. 15120x^4 - 5400 -> f'''''(x) = 60480x^3 -> f'''''(2) = 483840\n",
      "6. 60480x^3 -> f''''''(x) = 181440x^2 -> f''''''(2) = 725760\n",
      "7. 181440x^2 -> f'''''''(x) = 362880x -> f'''''''(2) = 725760\n",
      "8. 362880x -> f''''''''(x) = 362880 -> f''''''''(2) = 362880\n",
      "9. 362880 -> f'''''''''(x) = 0 -> f'''''''''(2) = 0\n",
      "10. 0 -> f''''''''''(x) = 0 -> f''''''''''(2) = 0\n"
     ]
    }
   ],
   "source": [
    "derived_polynomial = derive_polynomial_using_string(\"9x^8 - 225x^4 - 9x^2 + 2\", 2)\n",
    "print(derived_polynomial[0])\n",
    "for i in range(1,10):\n",
    "    derived_polynomial = derive_polynomial_using_list(derived_polynomial[1], 2, i+1)\n",
    "    print(derived_polynomial[0])"
   ]
  },
  {
   "cell_type": "markdown",
   "metadata": {},
   "source": [
    "<hr style=\"border:2px solid gray\"> </hr>"
   ]
  },
  {
   "cell_type": "markdown",
   "metadata": {},
   "source": [
    "## Reflection"
   ]
  },
  {
   "cell_type": "markdown",
   "metadata": {},
   "source": [
    "Write your reflection in below cell. With reference to the Rubric for E-tivity 1:\n",
    "- Provide an accurate description of your code with advantages and disadvantages of design choices.\n",
    "- Compare your approach to alternative (peer) approaches.\n",
    "- Clearly describe how you have used your peers' work/input and how this has affected your own understanding / insights.\n",
    "\n",
    "If you have not used peer input, you may state this, but your submission history in Gitlab should clearly show this is the case."
   ]
  },
  {
   "cell_type": "code",
   "execution_count": null,
   "metadata": {},
   "outputs": [],
   "source": []
  }
 ],
 "metadata": {
  "kernelspec": {
   "display_name": "Python 3 (ipykernel)",
   "language": "python",
   "name": "python3"
  },
  "language_info": {
   "codemirror_mode": {
    "name": "ipython",
    "version": 3
   },
   "file_extension": ".py",
   "mimetype": "text/x-python",
   "name": "python",
   "nbconvert_exporter": "python",
   "pygments_lexer": "ipython3",
   "version": "3.11.4"
  }
 },
 "nbformat": 4,
 "nbformat_minor": 2
}
