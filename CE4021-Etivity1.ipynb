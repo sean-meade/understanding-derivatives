{
 "cells": [
  {
   "cell_type": "markdown",
   "metadata": {},
   "source": [
    "# Notebook E-tivity 1 CE4021"
   ]
  },
  {
   "cell_type": "markdown",
   "metadata": {},
   "source": [
    "Student name: Mitchell de Bruyn"
   ]
  },
  {
   "cell_type": "markdown",
   "metadata": {},
   "source": [
    "Student ID: 23296828"
   ]
  },
  {
   "cell_type": "markdown",
   "metadata": {},
   "source": [
    "<hr style=\"border:2px solid gray\"> </hr>"
   ]
  },
  {
   "cell_type": "markdown",
   "metadata": {},
   "source": [
    "## Imports"
   ]
  },
  {
   "cell_type": "code",
   "execution_count": 1,
   "metadata": {},
   "outputs": [],
   "source": [
    "#None"
   ]
  },
  {
   "cell_type": "markdown",
   "metadata": {},
   "source": [
    "If you believe required imports are missing, please contact your moderator."
   ]
  },
  {
   "cell_type": "markdown",
   "metadata": {},
   "source": [
    "<hr style=\"border:2px solid gray\"> </hr>"
   ]
  },
  {
   "cell_type": "markdown",
   "metadata": {},
   "source": [
    "## Task"
   ]
  },
  {
   "cell_type": "markdown",
   "metadata": {},
   "source": [
    "You may add as many cells as you require to complete this task. Refer to the Rubric for E-tivity 1 to see how you will be assessed."
   ]
  },
  {
   "cell_type": "markdown",
   "metadata": {},
   "source": [
    "# Symbolic calculation of the derivative\n",
    "\n",
    "In order to perform the symbolic differentiation of a single varaible, we will use the basic rule:\n",
    "\n",
    "$$\n",
    "\\frac{d}{dx} ax^n = n\\times ax^{n-1}\n",
    "$$\n",
    "\n",
    "Representing a polynomial as a list in reverse exponential order such that the list values are the coefficients and the index positions are the powers.\n",
    "In this way the following polynomial can be written as:\n",
    "\n",
    "$$\n",
    "3x^2+1x^1+4 \\to [4,1,3]\n",
    "$$\n",
    "\n",
    "These solutions makes a few important assumuptions:\n",
    "1. All equations are fully expanded and simplified.\n",
    "2. All exponents are positive integers."
   ]
  },
  {
   "cell_type": "markdown",
   "metadata": {},
   "source": [
    "## Pretty poly \n",
    "\n",
    "This is only a helper function to present answers in a nice sting format"
   ]
  },
  {
   "cell_type": "code",
   "execution_count": 1,
   "metadata": {},
   "outputs": [],
   "source": [
    "def pretty_poly(f: list) -> str:\n",
    "    \"\"\"\n",
    "    Helper function that will take a list representing a polynomial and return a more human readable string\n",
    "    \"\"\"\n",
    "    ans = \"\"\n",
    "    for exponent, value in enumerate(f):\n",
    "        # skip exponents where the coefficient is 0\n",
    "        if value == 0:\n",
    "            continue\n",
    "\n",
    "        # Check if we already have a partial answer and\n",
    "        # check if the previously added term did not have a - sign\n",
    "        if ans and ans[0] != '-':\n",
    "            ans = \"+\" + ans\n",
    "\n",
    "        # x^0 == 1, so don't bother writing the x for 0\n",
    "        # only write the coefficient\n",
    "        if exponent == 0:\n",
    "            ans = f\"{value}\" + ans\n",
    "            continue\n",
    "\n",
    "        # x^1 can be simplified to just x\n",
    "        if exponent == 1:\n",
    "            if value == 1:\n",
    "                ans = f\"x\" + ans\n",
    "            else:\n",
    "                ans = f\"{value}x\" + ans\n",
    "\n",
    "        else: # this is the general case so adding ax^n to the front of the string\n",
    "            if value == 1:\n",
    "                ans = f\"x^{exponent}\" + ans\n",
    "            else:\n",
    "                ans = f\"{value}x^{exponent}\" + ans\n",
    "\n",
    "    if not ans:\n",
    "        ans = \"0\"\n",
    "    \n",
    "    return ans"
   ]
  },
  {
   "cell_type": "markdown",
   "metadata": {},
   "source": [
    "## Validate helper function\n",
    "\n",
    "Just a quick test to see we get reasonable displays.\n",
    "\n",
    "1. $ 5x^3 $\n",
    "2. $ x^2 $\n",
    "3. $ 3x + 5 $\n",
    "4. $ 3x^2 + 5 $"
   ]
  },
  {
   "cell_type": "code",
   "execution_count": 2,
   "metadata": {},
   "outputs": [
    {
     "name": "stdout",
     "output_type": "stream",
     "text": [
      "1. 5x^3\n",
      "2. x^2\n",
      "3. 3x+5\n",
      "4. 3x^2+5\n"
     ]
    }
   ],
   "source": [
    "print(f\"1. {pretty_poly([0, 0, 0, 5])}\")\n",
    "print(f\"2. {pretty_poly([0, 0, 1])}\")\n",
    "print(f\"3. {pretty_poly([5, 3])}\")\n",
    "print(f\"4. {pretty_poly([5, 0, 3])}\")"
   ]
  },
  {
   "cell_type": "markdown",
   "metadata": {},
   "source": [
    "## differentiate\n",
    "\n",
    "This function uses enumerate to walk through the array and apply the basic rule:\n",
    "$$\n",
    "\\frac{d}{dx} ax^n = n\\times ax^{n-1}\n",
    "$$\n"
   ]
  },
  {
   "cell_type": "code",
   "execution_count": 3,
   "metadata": {},
   "outputs": [],
   "source": [
    "def differentiate(f: list) -> list:\n",
    "    \"\"\"\n",
    "    This Function will do symbolic differentiation of a polynomial represented by list.\n",
    "\n",
    "    Input:\n",
    "    f - list of integers representing a polynomial\n",
    "\n",
    "    Output:\n",
    "    list of integers representing the differentiated polynomial\n",
    "    \"\"\"\n",
    "    ans = [0]*len(f)\n",
    "    for exponent, value in enumerate(f):   \n",
    "        # x^0 == 1 in this case the coefficient is a constant in this function with no x dependance\n",
    "        # so the constant is dropped during differentiation.\n",
    "        if exponent != 0: \n",
    "            ans[exponent-1] = value*exponent\n",
    "            \n",
    "    return ans"
   ]
  },
  {
   "cell_type": "code",
   "execution_count": 4,
   "metadata": {},
   "outputs": [],
   "source": [
    "def nice_test_differentiate(f: list):\n",
    "    \"\"\"\n",
    "    Nice Test is just a nice wrapper to print in a pretty presentation\n",
    "    \"\"\"\n",
    "    print(f\"d/dx[{pretty_poly(f)}] = {pretty_poly(differentiate(f))}\")"
   ]
  },
  {
   "cell_type": "markdown",
   "metadata": {},
   "source": [
    "# Testing\n",
    "\n",
    "Here are the basic test cases:\n",
    "1. $ \\frac{d}{dx}5x^3 = 15x^2$\n",
    "2. $ \\frac{d}{dx}3x + 5 = 3$\n",
    "3. $ \\frac{d}{dx}3x^2 + 5 = 6x$\n",
    "4. $ \\frac{d}{dx}4x^2-1x+3 = 8x-1$\n",
    "5. $ \\frac{d}{dx}8x^3+x^2-7x+2 = 24x^2+2x-7$\n",
    "6. $ \\frac{d}{dx}3x^4-4x^3+7x^2+6x+6 = 12x^3-12x^2+14x+6$\n",
    "7. $ \\frac{d}{dx}-8x^3-1x^2-6x+1 = -24x^2-2x-6$"
   ]
  },
  {
   "cell_type": "code",
   "execution_count": 10,
   "metadata": {},
   "outputs": [
    {
     "name": "stdout",
     "output_type": "stream",
     "text": [
      "d/dx[5x^3] = 15x^2\n",
      "d/dx[3x+5] = 3\n",
      "d/dx[3x^2+5] = 6x\n",
      "d/dx[4x^2-1x+3] = 8x-1\n",
      "d/dx[8x^3+x^2-7x+2] = 24x^2+2x-7\n",
      "d/dx[3x^4-4x^3+7x^2+6x+6] = 12x^3-12x^2+14x+6\n",
      "d/dx[-8x^3-1x^2-6x+1] = -24x^2-2x-6\n"
     ]
    }
   ],
   "source": [
    "nice_test_differentiate([0, 0, 0, 5])\n",
    "nice_test_differentiate([5, 3])\n",
    "nice_test_differentiate([5, 0, 3])\n",
    "nice_test_differentiate([3, -1, 4])\n",
    "nice_test_differentiate([2, -7, 1, 8])\n",
    "nice_test_differentiate([6, 6, 7, -4, 3, 0])\n",
    "nice_test_differentiate([1, -6, -1, -8])"
   ]
  },
  {
   "cell_type": "markdown",
   "metadata": {},
   "source": [
    "# Evaluate a polynomial for a given value of its variable\n",
    "\n",
    "For this section I'm going to keep working with my polynomial in the reverse list representation as above:"
   ]
  },
  {
   "cell_type": "code",
   "execution_count": 11,
   "metadata": {},
   "outputs": [],
   "source": [
    "def evaluate_poly_at(poly: list, x: float) -> float:\n",
    "    ans: float = 0\n",
    "    for exponent, value in enumerate(poly):\n",
    "        ans += value * x**exponent\n",
    "    return ans"
   ]
  },
  {
   "cell_type": "code",
   "execution_count": 12,
   "metadata": {},
   "outputs": [],
   "source": [
    "def nice_test_evaluate(poly: list, x: float):\n",
    "    print(\"f(x) = %-15s;  f(%s) = %s\" % (pretty_poly(poly), x, evaluate_poly_at(poly, x)))"
   ]
  },
  {
   "cell_type": "code",
   "execution_count": 13,
   "metadata": {},
   "outputs": [
    {
     "name": "stdout",
     "output_type": "stream",
     "text": [
      "f(x) = 0              ;  f(6) = 0\n",
      "f(x) = 1              ;  f(6) = 1\n",
      "f(x) = x              ;  f(7) = 7\n",
      "f(x) = 2x^2           ;  f(4) = 32\n",
      "f(x) = 8x^2+5x+3      ;  f(3) = 90\n"
     ]
    }
   ],
   "source": [
    "nice_test_evaluate([0], 6)\n",
    "nice_test_evaluate([1], 6)\n",
    "nice_test_evaluate([0,1], 7)\n",
    "nice_test_evaluate([0,0,2], 4)\n",
    "nice_test_evaluate([3,5,8], 3)"
   ]
  },
  {
   "cell_type": "markdown",
   "metadata": {},
   "source": [
    "# Numerical integration over a fixed interval\n",
    "\n",
    "There are some common methods for numerical integration (Midpoint, Trapezoid, Simpson's rule).\n",
    "\n",
    "I'm just quickly going to use the midpoint rule. Here we use divide the area under the function curve up into a number of rectangals.\n",
    "Depending on where the rectangle touches the line, the area of the rectangle will be either an over or under estimate of the true area. To improve this estimate we will use a midoint, so the left half of may be a bit over and the right part may be a bit under, but the estimate will hopefully cancel out.\n",
    "\n",
    "The area of a rectangle is given my the height x width.\n",
    "\n",
    "In this application I'm going to set the height as the value returned by the function and the width of each rectangle will be the range for the integral devided by the number of steps."
   ]
  },
  {
   "cell_type": "code",
   "execution_count": 20,
   "metadata": {},
   "outputs": [],
   "source": [
    "def midpoint_integration(f, a: float, b: float, n: int) -> float:\n",
    "    dx = float(b - a)/float(n) # I don't trust integer devision, it's better in python 3 but it's broken too many of my solutions!\n",
    "    \n",
    "    area: float = 0\n",
    "    for i in range(n):\n",
    "        x = a + dx * (i+0.5) # add 0.5 to use the midpoint instead of the \n",
    "        h = f(x)\n",
    "        area += h * dx\n",
    "\n",
    "    return area"
   ]
  },
  {
   "cell_type": "markdown",
   "metadata": {},
   "source": [
    "## Test midpoint integration\n",
    "\n",
    "This basic test is going to consider the integral under the curve for $f(x) = x^2$\n",
    "\n",
    "$$\n",
    "\\int_a^b{x^2} = \\frac{1}{3}x^3 + C\n",
    "$$\n",
    "\n",
    "For the range it will consider $0 \\to 1$\n",
    "\n",
    "$$\n",
    "\\int_0^1{x^2} = [\\frac{1}{3}[1]^3 + C] - [\\frac{1}{3}[0] + C] = \\frac{1}{3}\n",
    "$$\n"
   ]
  },
  {
   "cell_type": "code",
   "execution_count": 22,
   "metadata": {},
   "outputs": [
    {
     "name": "stdout",
     "output_type": "stream",
     "text": [
      "0.33000000000000007\n",
      "0.3325\n",
      "0.33312500000000006\n",
      "0.33332500000000004\n",
      "0.3333333333249995\n",
      "0.3333333333333373\n"
     ]
    }
   ],
   "source": [
    "def f(x: float):\n",
    "    return x**2\n",
    "\n",
    "print(midpoint_integration(f, 0, 1, 5))\n",
    "print(midpoint_integration(f, 0, 1, 10))\n",
    "print(midpoint_integration(f, 0, 1, 20))\n",
    "print(midpoint_integration(f, 0, 1, 100))\n",
    "print(midpoint_integration(f, 0, 1, 100000))\n",
    "print(midpoint_integration(f, 0, 1, 100000000))"
   ]
  },
  {
   "cell_type": "code",
   "execution_count": 2,
   "metadata": {},
   "outputs": [],
   "source": [
    "# import time # nothing to see here ;) \n",
    "# def benchmark_integration():\n",
    "#     for i in range(1, 10):\n",
    "#         start = time.time()\n",
    "#         print(f\"{10**i} steps = {midpoint_integration(f, 0, 1, 10**i)} in \", end = '')\n",
    "#         print(f\"{time.time() - start} seconds\")\n",
    "\n",
    "# benchmark_integration()\n",
    "# 10 steps = 0.3325 in 0.0001811981201171875 seconds\n",
    "# 100 steps = 0.33332500000000004 in 0.00011944770812988281 seconds\n",
    "# 1000 steps = 0.3333332499999999 in 0.0010640621185302734 seconds\n",
    "# 10000 steps = 0.33333333250000036 in 0.01449275016784668 seconds\n",
    "# 100000 steps = 0.3333333333249995 in 0.059927940368652344 seconds\n",
    "# 1000000 steps = 0.3333333333332426 in 0.21194934844970703 seconds\n",
    "# 10000000 steps = 0.3333333333333564 in 1.6543059349060059 seconds\n",
    "# 100000000 steps = 0.3333333333333373 in 16.638136386871338 seconds\n",
    "# 1000000000 steps = 0.3333333333332523 in 175.94883060455322 seconds"
   ]
  },
  {
   "cell_type": "markdown",
   "metadata": {},
   "source": [
    "<hr style=\"border:2px solid gray\"> </hr>"
   ]
  },
  {
   "cell_type": "markdown",
   "metadata": {},
   "source": [
    "## Reflection"
   ]
  },
  {
   "cell_type": "markdown",
   "metadata": {},
   "source": [
    "Write your reflection in below cell. With reference to the Rubric for E-tivity 1:\n",
    "- Provide an accurate description of your code with advantages and disadvantages of design choices.\n",
    "- Compare your approach to alternative (peer) approaches.\n",
    "- Clearly describe how you have used your peers' work/input and how this has affected your own understanding / insights.\n",
    "\n",
    "If you have not used peer input, you may state this, but your submission history in Gitlab should clearly show this is the case."
   ]
  },
  {
   "cell_type": "code",
   "execution_count": null,
   "metadata": {},
   "outputs": [],
   "source": []
  }
 ],
 "metadata": {
  "kernelspec": {
   "display_name": "Python 3 (ipykernel)",
   "language": "python",
   "name": "python3"
  },
  "language_info": {
   "codemirror_mode": {
    "name": "ipython",
    "version": 3
   },
   "file_extension": ".py",
   "mimetype": "text/x-python",
   "name": "python",
   "nbconvert_exporter": "python",
   "pygments_lexer": "ipython3",
   "version": "3.11.2"
  }
 },
 "nbformat": 4,
 "nbformat_minor": 4
}
