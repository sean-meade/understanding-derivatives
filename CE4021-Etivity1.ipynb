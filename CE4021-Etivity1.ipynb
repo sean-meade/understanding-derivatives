{
 "cells": [
  {
   "cell_type": "markdown",
   "metadata": {},
   "source": [
    "# Notebook E-tivity 1 CE4021"
   ]
  },
  {
   "attachments": {},
   "cell_type": "markdown",
   "metadata": {},
   "source": [
    "Student name: Aurelie Montfrond"
   ]
  },
  {
   "cell_type": "markdown",
   "metadata": {},
   "source": [
    "Student ID:"
   ]
  },
  {
   "attachments": {},
   "cell_type": "markdown",
   "metadata": {},
   "source": [
    "22289003  "
   ]
  },
  {
   "cell_type": "markdown",
   "metadata": {},
   "source": [
    "## Imports"
   ]
  },
  {
   "cell_type": "code",
   "execution_count": 1,
   "metadata": {},
   "outputs": [],
   "source": [
    "#None"
   ]
  },
  {
   "cell_type": "markdown",
   "metadata": {},
   "source": [
    "If you believe required imports are missing, please contact your moderator."
   ]
  },
  {
   "cell_type": "markdown",
   "metadata": {},
   "source": [
    "<hr style=\"border:2px solid gray\"> </hr>"
   ]
  },
  {
   "cell_type": "markdown",
   "metadata": {},
   "source": [
    "## Task"
   ]
  },
  {
   "cell_type": "markdown",
   "metadata": {},
   "source": [
    "You may add as many cells as you require to complete this task. Refer to the Rubric for E-tivity 1 to see how you will be assessed."
   ]
  },
  {
   "cell_type": "code",
   "execution_count": null,
   "metadata": {},
   "outputs": [],
   "source": [
    "#draft/unfinished \n",
    "\n",
    "# Option 1: Symbolic calculation of the derivative\n",
    "#symbolically calculate the derivative of a polynomial with one variable.\n",
    "\n",
    "#example 1 = 3x + 4 - 5\n",
    "#example 2 = 5x - 3x + 2\n",
    "#example 3 = 2x - x + 2 + 4x\n",
    "\n",
    "\n",
    "#the derivative of x is 1 \n",
    "\n",
    "#power rule:\n",
    "# d/dx (x'1) = 1x'0 = 1\n",
    "\n",
    "#constant rule:\n",
    "# the derivative of a constant = 0 \n",
    "\n",
    "#The derivatives of the above examples are :\n",
    "#example 1 = 3\n",
    "#example 2 = 5 - 3\n",
    "#example 3 = 2 - 1 + 4\n",
    "\n",
    "#derivative calculation algorithm draft:\n",
    "# x = 0 \n",
    "#polynomial1 = [3, 0, 4, 5] \n",
    "#def derivative(polynomial1):\n",
    "#res=[]\n",
    "#for i in range(len(polynomial1)):\n",
    "#if (polynomial1[i] == 0):\n",
    "#res.append(polynomial1[i-1])\n",
    "#return res\n",
    "#print(derivative(polynomial1))\n",
    "\n",
    "\n",
    "\n",
    "polynomial1 = [3, 4, 5]\n",
    "polynomial2 = [5, 3, 2]\n",
    "polynomial3 = [2, 1, 2, 4]\n",
    "\n",
    "#fonction to find the derivative of a polynomial . The input and output are polynomials as a list. \n",
    "# I name the fonction 'derivative' and pass one polynomial variable as its argument . \n",
    "# I create an array/list named 'res' to store the result so the derivative .\n",
    "# I read the polynomial which is a list with a for loop until the end of the list using the 'i' as index.\n",
    "# I append the calculation of the derivative to the 'res' list.\n",
    "# I return the result of the calculation by returning the variable 'res'\n",
    "# I print the result by calling the function \n",
    "\n",
    "def derivative(polynomial1):\n",
    "        res=[]\n",
    "        for i in range(1, len(polynomial1)):\n",
    "            res.append(polynomial1[i] * i)\n",
    "        return res\n",
    "\n",
    "print(derivative(polynomial1))\n",
    "\n",
    "\n",
    "#second attempt to calculate the 3 examples in the same function.\n",
    "\n",
    "def derivative(polynomial1, polynomial2, polynomial3):\n",
    "        res=[]\n",
    "        if derivative(polynomial1):\n",
    "           for i in range(1, len(polynomial1)):\n",
    "            res.append(polynomial1[i] * i)\n",
    "\n",
    "        elif derivative(polynomial2):\n",
    "             for i in range(1, len(polynomial2)):\n",
    "              res.append(polynomial2[i] * i)\n",
    "\n",
    "        else derivative(polynomial3):\n",
    "             for i in range(1, len(polynomial3)):\n",
    "              res.append(polynomial3[i] * i)    \n",
    "\n",
    "        return res\n",
    "\n",
    "print(derivative(polynomial1))\n",
    "print(derivative(polynomial2))\n",
    "print(derivative(polynomial3))\n",
    "\n",
    "\n",
    "#third attempt at finding the derivative:\n",
    "\n",
    "polynomial1 = [3, 0, 4, 5] \n",
    "\n",
    "def derivative(polynomial1):\n",
    "  res=[]\n",
    "  for i in range(len(polynomial1)):\n",
    "    if (polynomial1[i] == 0):\n",
    "      res.append(polynomial1[i-1])\n",
    "  return res\n",
    "\n",
    "print(derivative(polynomial1))\n",
    "\n",
    "\n",
    "\n",
    "#evaluate a polynomial with a given value for its variable (x in this case) \n",
    "\n",
    "x = 3 \n",
    "\n",
    "def evaluate(x):\n",
    "    if x == 3:\n",
    "     return 5 * x - 3 * x + 2\n",
    "    else:\n",
    "     return \"error\"\n",
    "     \n",
    "print(evaluate(x))\n",
    " "
   ]
  },
  {
   "cell_type": "markdown",
   "metadata": {},
   "source": [
    "<hr style=\"border:2px solid gray\"> </hr>"
   ]
  },
  {
   "cell_type": "markdown",
   "metadata": {},
   "source": [
    "## Reflection"
   ]
  },
  {
   "cell_type": "markdown",
   "metadata": {},
   "source": [
    "Write your reflection in below cell. With reference to the Rubric for E-tivity 1:\n",
    "- Provide an accurate description of your code with advantages and disadvantages of design choices.\n",
    "- Compare your approach to alternative (peer) approaches.\n",
    "- Clearly describe how you have used your peers' work/input and how this has affected your own understanding / insights.\n",
    "\n",
    "If you have not used peer input, you may state this, but your submission history in Gitlab should clearly show this is the case."
   ]
  },
  {
   "cell_type": "code",
   "execution_count": null,
   "metadata": {},
   "outputs": [],
   "source": [
    "I explained the code with comments and I guess the advantages are that the code is concise and clear I feel.\n",
    "It is simple and the disadvantages I feel the fact that I was not sure at least without spending more time to research\n",
    "how and if it's possible . I think it's possible to pass several variables in the argument of the function. So I could have\n",
    "passed the 3 examples variables such as def derivative(polynomial1, polynomial2, polynomial3): but then I would have to do 3 for loops \n",
    "and I think we can only return once a function. I guess I think I would need to create 3 separate functions to calculate the \n",
    "derivative of each example. \n",
    "\n",
    "Upon review , I thought about trying to calculate the 3 examples within the same function and came up with a second attempt \n",
    "however the code is not working but I feel the algorithm is ok. \n",
    "\n",
    "I also looked at how to calculate the derivatives as my first code/attempt didn't seem to compute the correct calculation and wrote\n",
    "about this as comments and then realised I could come up with an alogrithm for that using a for loop and and if statement.\n",
    "The code works and it does calculate the correct answer. \n",
    "\n",
    "\n",
    "For the evaluate function , I think it's simple but maybe I could have used a for loop . I think it depends \n",
    "if for the purpose of the task we just define the variable, I guess it's ok to calculate the way I did it but with user\n",
    "input we could use a for loop. I used a conditional statement inside and I feel it's useless but I wanted to show my \n",
    "understanding of the if/else statement. I can make more complex if else statements and loop through arrays and do calculations \n",
    "with the elements[i] , well i guess basic calculations just like in the videos material including with the modulus operator to find \n",
    "odd and even numbers too.\n",
    "\n",
    "I have not checked anyone's code and just came up with this but I will compare my approach to my peers \n",
    "approaches after checking the posts. I have tried to run my code on different online compilers and \n",
    "it doesn't run due to indent issues/return error but the code looked correct . \n",
    "I ran the code on https://pynative.com/online-python-code-editor-to-execute-python-code/ and it worked.\n",
    "It seems that some online compilers/editors aren't working properly.\n",
    "\n"
   ]
  }
 ],
 "metadata": {
  "kernelspec": {
   "display_name": "Python 3 (ipykernel)",
   "language": "python",
   "name": "python3"
  },
  "language_info": {
   "codemirror_mode": {
    "name": "ipython",
    "version": 3
   },
   "file_extension": ".py",
   "mimetype": "text/x-python",
   "name": "python",
   "nbconvert_exporter": "python",
   "pygments_lexer": "ipython3",
   "version": "3.8.8"
  }
 },
 "nbformat": 4,
 "nbformat_minor": 2
}
