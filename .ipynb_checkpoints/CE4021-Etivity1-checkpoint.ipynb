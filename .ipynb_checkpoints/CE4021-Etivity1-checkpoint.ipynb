{
 "cells": [
  {
   "cell_type": "markdown",
   "metadata": {},
   "source": [
    "# Notebook E-tivity 1 CE4021"
   ]
  },
  {
   "cell_type": "markdown",
   "metadata": {},
   "source": [
    "Student name: Julieta Rubis"
   ]
  },
  {
   "cell_type": "markdown",
   "metadata": {},
   "source": [
    "Student ID: 23233729"
   ]
  },
  {
   "cell_type": "markdown",
   "metadata": {},
   "source": [
    "<hr style=\"border:2px solid gray\"> </hr>"
   ]
  },
  {
   "cell_type": "markdown",
   "metadata": {},
   "source": [
    "## Imports"
   ]
  },
  {
   "cell_type": "code",
   "execution_count": 3,
   "metadata": {},
   "outputs": [],
   "source": [
    "#None"
   ]
  },
  {
   "cell_type": "markdown",
   "metadata": {},
   "source": [
    "If you believe required imports are missing, please contact your moderator."
   ]
  },
  {
   "cell_type": "markdown",
   "metadata": {},
   "source": [
    "<hr style=\"border:2px solid gray\"> </hr>"
   ]
  },
  {
   "cell_type": "markdown",
   "metadata": {},
   "source": [
    "# Task - Option 1: Symbolically calculate the derivative of a polynomial with one variable"
   ]
  },
  {
   "cell_type": "markdown",
   "metadata": {},
   "source": [
    "<h3>Write 2 Python functions:</h3>\n",
    "<ul>\n",
    "    <li>The first one to symbolically calculate the derivative of a polynomial with one variable. The input should be a polynomial and the output should also be a polynomial.</li>\n",
    "    <li>The second one to evaluate (i.e. get the numerical value) of a polynomial for a given value of its variable. The input should be a polynomial and a value (point at which to evaluate the polynomial). The output should be a scalar.</li>\n",
    "    <li>Test your code with a few salient polynomials (minimum of 3) for which you have calculated the derivative of these polynomials manually.</li>"
   ]
  },
  {
   "cell_type": "markdown",
   "metadata": {},
   "source": [
    "# Description"
   ]
  },
  {
   "cell_type": "markdown",
   "metadata": {},
   "source": [
    "The polynomial is initialized with a list of coefficients. The list starts with the coefficient of the highest power term and goes to the constant term. For example, for \n",
    "$$ 2x^3 − 3x^2 + x - 5 $$, the coefficients would be $$ [2, -3, 1, -5] $$."
   ]
  },
  {
   "cell_type": "markdown",
   "metadata": {},
   "source": [
    "The <b>Polynomial</b> class based on a list of coefficients. \n",
    "$$ P(x) = a_nx^n + a_{n-1}x^{n-1} + ... + a_2x^2 + a_1x + a_0 $$\n",
    "the list of coefficients $$ [2, -3, 1, -5] $$ corresponds to the polynomial: $$ P(x) = 2x^3 - 3x^2 + x - 5 \n",
    " $$"
   ]
  },
  {
   "cell_type": "markdown",
   "metadata": {},
   "source": [
    "For each coefficient, it determines how to represent that term based on its power and sign:\n",
    "\n",
    "- For power 0 (constant term), it just adds the coefficient.\n",
    "- For power 1, it adds \"x\" with the coefficient if it's not 1, otherwise just \"x\".\n",
    "- For higher powers, it adds \"x^power\" with the coefficient if it's not 1, otherwise just \"x^power\"."
   ]
  },
  {
   "cell_type": "markdown",
   "metadata": {},
   "source": [
    "Initializes the Polynomial object by storing the coefficients in the instance variable self.coeffs. A list of coefficients that define the polynomial. They are ordered starting from the term with the highest degree to the constant term.\n",
    "\n",
    "Calculates the derivative of the polynomial to iterates over the coefficients (except the constant term) to calculate the derivative's coefficients for every coefficient in the polynomial."
   ]
  },
  {
   "cell_type": "code",
   "execution_count": 53,
   "metadata": {},
   "outputs": [],
   "source": [
    "class Polynomial:\n",
    "    \"\"\"\n",
    "    Represents operations on polynomial equations.\n",
    "    \"\"\"\n",
    "\n",
    "    def __init__(self, coeffs):\n",
    "        self.coeffs = coeffs\n",
    "\n",
    "    def calc_derivative(self):\n",
    "        \"\"\"\n",
    "        Derive the polynomial.\n",
    "        \"\"\"\n",
    "        derived_coeffs = [coeff * (len(self.coeffs) - idx - 1) for idx, coeff in enumerate(self.coeffs[:-1])]\n",
    "        return Polynomial(derived_coeffs)\n",
    "\n",
    "    def to_string(self):\n",
    "        \"\"\"\n",
    "        Converts polynomial to a formatted string.\n",
    "        \"\"\"\n",
    "        terms = []\n",
    "        max_power = len(self.coeffs) - 1\n",
    "        \n",
    "        for i, coefficient in enumerate(self.coeffs):\n",
    "            if coefficient:\n",
    "                power = max_power - i\n",
    "                sign = '+' if coefficient > 0 and terms else ''\n",
    "                if power == 0:\n",
    "                    terms.append(f\"{sign}{coefficient}\")\n",
    "                elif power == 1:\n",
    "                    terms.append(f\"{sign}{coefficient}x\")\n",
    "                else:\n",
    "                    terms.append(f\"{sign}{coefficient}x^{power}\")\n",
    "\n",
    "        return ''.join(terms) if terms else '0'\n",
    "\n",
    "    def __str__(self):\n",
    "        return self.to_string()\n"
   ]
  },
  {
   "cell_type": "markdown",
   "metadata": {},
   "source": [
    "The polynomial_instance: $$ 2X^3 - 3x^2 + x - 5 $$\n",
    "\n",
    "The output will be: 2x^3-3x^2+x-5"
   ]
  },
  {
   "cell_type": "markdown",
   "metadata": {},
   "source": [
    "The derivative of: $$ 2x^3 - 3x^2 + x - 5 { \\ } {is} { \\ } 6x^2 - 6x + 1 $$\n",
    "the output will be: 6x^2-6x+1"
   ]
  },
  {
   "cell_type": "markdown",
   "metadata": {},
   "source": [
    "# Evaluating the Polynomial\n",
    "\n",
    "The algorithm to evaluate polynomials:\n",
    "\n",
    "- Initializes the Polynomial object by storing the coefficients. \n",
    "\n",
    "- Uses list comprehension combined with the sum function to evaluate the polynomial at x_point. The enumerate function is used to get both the index (representing the power) and the coefficient, and then the polynomial is computed using these.\n",
    "\n",
    "- Constructs the string representation of the polynomial."
   ]
  },
  {
   "cell_type": "code",
   "execution_count": 55,
   "metadata": {},
   "outputs": [],
   "source": [
    "class Polynomial:\n",
    "    \"\"\"\n",
    "    Defines a polynomial formula.\n",
    "\n",
    "    Attributes:\n",
    "    -----------\n",
    "    coef_list : list\n",
    "        Contains coefficients in descending order of their respective terms.\n",
    "\n",
    "    Methods:\n",
    "    --------\n",
    "    value_at(x: float) -> float:\n",
    "        Computes the polynomial's value at a given x.\n",
    "\n",
    "    format_poly() -> str:\n",
    "        Renders the polynomial in a readable string format.\n",
    "    \"\"\"\n",
    "    \n",
    "    def __init__(self, coef_list):\n",
    "        self.coef_list = coef_list\n",
    "\n",
    "    def value_at(self, x_point):\n",
    "        \"\"\"\n",
    "        Calculates the value of the polynomial at a particular x_point.\n",
    "\n",
    "        Parameters:\n",
    "        -----------\n",
    "        x_point : float\n",
    "            x value for computation.\n",
    "\n",
    "        Returns:\n",
    "        --------\n",
    "        float\n",
    "            Resulting value of the polynomial at x_point.\n",
    "        \"\"\"\n",
    "        return sum(coef * (x_point ** idx) for idx, coef in enumerate(self.coef_list[::-1]))\n",
    "\n",
    "    def format_poly(self):\n",
    "        \"\"\"\n",
    "        Converts the polynomial to its string representation.\n",
    "\n",
    "        Returns:\n",
    "        --------\n",
    "        str\n",
    "            The string depiction of the polynomial.\n",
    "        \"\"\"\n",
    "        pieces = []\n",
    "        degree = len(self.coef_list) - 1\n",
    "        \n",
    "        for coef in self.coef_list:\n",
    "            sign = '+' if coef > 0 and pieces else ''\n",
    "            \n",
    "            if coef:\n",
    "                if degree == 0:\n",
    "                    pieces.append(f\"{sign}{coef}\")\n",
    "                elif degree == 1:\n",
    "                    pieces.append(f\"{sign}{coef}x\")\n",
    "                else:\n",
    "                    pieces.append(f\"{sign}{coef}x^{degree}\")\n",
    "            degree -= 1\n",
    "\n",
    "        return ''.join(pieces) or '0'\n",
    "\n",
    "    def __str__(self):\n",
    "        return self.format_poly()\n"
   ]
  },
  {
   "cell_type": "markdown",
   "metadata": {},
   "source": [
    "The output will be the string representation of the polynomial \n",
    "$$ 2x^3−3x^2+x−5 $$\n",
    "The output will be: 2x^3-3x^2+x-5"
   ]
  },
  {
   "cell_type": "markdown",
   "metadata": {},
   "source": [
    "# Test Cases Impact:"
   ]
  },
  {
   "cell_type": "markdown",
   "metadata": {},
   "source": [
    "Testing algorithm:\n",
    "- Initializes the Polynomial object by storing the coefficients.\n",
    "\n",
    "- Calculates the derivative of the polynomial. It uses the power rule, where the derivative of ax^n is anx^n-1\n",
    "\n",
    "- Converts the polynomial to its string representation. It iterates over each coefficient and determines the corresponding term's format.\n",
    "\n",
    "- This is a special method in Python that defines how the object should be printed or converted to a string. It internally calls the to_string method.\n",
    "\n",
    "- Evaluates the polynomial at the given x value using Horner's method (an efficient method for polynomial evaluation). It progressively computes the value by iterating over each coefficient."
   ]
  },
  {
   "cell_type": "code",
   "execution_count": 56,
   "metadata": {},
   "outputs": [],
   "source": [
    "class Polynomial:\n",
    "    \"\"\"\n",
    "    Represents operations on polynomial equations.\n",
    "    \"\"\"\n",
    "\n",
    "    def __init__(self, coeffs):\n",
    "        self.coeffs = coeffs\n",
    "\n",
    "    def calc_derivative(self):\n",
    "        \"\"\"\n",
    "        Derive the polynomial.\n",
    "        \"\"\"\n",
    "        derived_coeffs = [coeff * (len(self.coeffs) - idx - 1) for idx, coeff in enumerate(self.coeffs[:-1])]\n",
    "        return Polynomial(derived_coeffs)\n",
    "\n",
    "    def to_string(self):\n",
    "        \"\"\"\n",
    "        Converts polynomial to a formatted string.\n",
    "        \"\"\"\n",
    "        terms = []\n",
    "        max_power = len(self.coeffs) - 1\n",
    "        \n",
    "        for i, coefficient in enumerate(self.coeffs):\n",
    "            if coefficient:\n",
    "                power = max_power - i\n",
    "                sign = '+' if coefficient > 0 and terms else ''\n",
    "                if power == 0:\n",
    "                    terms.append(f\"{sign}{coefficient}\")\n",
    "                elif power == 1:\n",
    "                    terms.append(f\"{sign}{coefficient}x\")\n",
    "                else:\n",
    "                    terms.append(f\"{sign}{coefficient}x^{power}\")\n",
    "\n",
    "        return ''.join(terms) if terms else '0'\n",
    "\n",
    "    def __str__(self):\n",
    "        return self.to_string()\n",
    "\n",
    "    def evaluate(self, x):\n",
    "        \"\"\"\n",
    "        Evaluate the polynomial at a given x using Horner's method.\n",
    "        \"\"\"\n",
    "        result = 0\n",
    "        for coeff in self.coeffs:\n",
    "            result = result * x + coeff\n",
    "        return result\n"
   ]
  },
  {
   "cell_type": "markdown",
   "metadata": {},
   "source": [
    "<hr style=\"border:2px solid gray\"> </hr>"
   ]
  },
  {
   "cell_type": "markdown",
   "metadata": {},
   "source": [
    "## Reflection"
   ]
  },
  {
   "cell_type": "markdown",
   "metadata": {},
   "source": [
    "Write your reflection in below cell. With reference to the Rubric for E-tivity 1:\n",
    "- Provide an accurate description of your code with advantages and disadvantages of design choices.\n",
    "- Compare your approach to alternative (peer) approaches.\n",
    "- Clearly describe how you have used your peers' work/input and how this has affected your own understanding / insights.\n",
    "\n",
    "If you have not used peer input, you may state this, but your submission history in Gitlab should clearly show this is the case."
   ]
  },
  {
   "cell_type": "code",
   "execution_count": null,
   "metadata": {},
   "outputs": [],
   "source": []
  }
 ],
 "metadata": {
  "kernelspec": {
   "display_name": "Python 3 (ipykernel)",
   "language": "python",
   "name": "python3"
  },
  "language_info": {
   "codemirror_mode": {
    "name": "ipython",
    "version": 3
   },
   "file_extension": ".py",
   "mimetype": "text/x-python",
   "name": "python",
   "nbconvert_exporter": "python",
   "pygments_lexer": "ipython3",
   "version": "3.9.12"
  }
 },
 "nbformat": 4,
 "nbformat_minor": 2
}
