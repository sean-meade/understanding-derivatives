{
 "cells": [
  {
   "cell_type": "markdown",
   "metadata": {},
   "source": [
    "# Notebook E-tivity 1 CE4021"
   ]
  },
  {
   "cell_type": "markdown",
   "metadata": {},
   "source": [
    "Student name: Peter O'Mahony"
   ]
  },
  {
   "cell_type": "markdown",
   "metadata": {},
   "source": [
    "Student ID: 8361967"
   ]
  },
  {
   "cell_type": "markdown",
   "metadata": {},
   "source": [
    "<hr style=\"border:2px solid gray\"> </hr>"
   ]
  },
  {
   "cell_type": "markdown",
   "metadata": {},
   "source": [
    "## Imports"
   ]
  },
  {
   "cell_type": "code",
   "execution_count": 2,
   "metadata": {},
   "outputs": [],
   "source": [
    "#None"
   ]
  },
  {
   "cell_type": "markdown",
   "metadata": {},
   "source": [
    "<hr style=\"border:2px solid gray\"> </hr>"
   ]
  },
  {
   "cell_type": "markdown",
   "metadata": {},
   "source": [
    "## Task"
   ]
  },
  {
   "cell_type": "markdown",
   "metadata": {},
   "source": [
    "# Option 1: Symbolic calculation of the derivative\n",
    "## Write 2 Python functions:\n",
    "\n",
    "The first one to symbolically calculate the derivative of a polynomial with one variable. The input should be a polynomial and the output should also be a polynomial.\n",
    "\n",
    "The second one to evaluate (i.e. get the numerical value) of a polynomial for a given value of its variable. The input should be a polynomial and a value (point at which to evaluate the polynomial). The output should be a scalar.\n",
    "\n",
    "Test your code with a few salient polynomials (minimum of 3) for which you have calculated the derivative of these polynomials manually.\n",
    "\n",
    "### Initial thoughts:\n",
    "Split it into subtasks\n",
    "1. handle input of equation\n",
    "2. differentiate the input\n",
    "3. display the resulting prettified input and output\n",
    "4. handle input of variable value\n",
    "5. calculate the result\n",
    "6. display resulting scalar\n",
    "7. display a set of test results\n",
    "\n",
    "Data structures I am considering are lists and tuples.\n",
    "I want to maximise the flexibility of the solution so I will ask the user to specify the powers rather than determine them impicitly from the order of the coefficients and assume descending powers\n",
    "\n",
    "I'd like to use tuples because the data are static after entered and tuples are more efficient than lists and I don't need to do much manipulation of the structures.\n",
    "\n",
    "I'll try to use UTF8 characters to prettify the results (thereby avoiding any libraries). Note Jason's idea to sort the results by descending power as is conventional."
   ]
  },
  {
   "cell_type": "markdown",
   "metadata": {},
   "source": []
  },
  {
   "cell_type": "markdown",
   "metadata": {},
   "source": [
    "<hr style=\"border:2px solid gray\"> </hr>"
   ]
  },
  {
   "cell_type": "markdown",
   "metadata": {},
   "source": [
    "## Reflection"
   ]
  },
  {
   "cell_type": "markdown",
   "metadata": {},
   "source": [
    "Write your reflection in below cell. With reference to the Rubric for E-tivity 1:\n",
    "- Provide an accurate description of your code with advantages and disadvantages of design choices.\n",
    "- Compare your approach to alternative (peer) approaches.\n",
    "- Clearly describe how you have used your peers' work/input and how this has affected your own understanding / insights.\n",
    "\n",
    "If you have not used peer input, you may state this, but your submission history in Gitlab should clearly show this is the case."
   ]
  },
  {
   "cell_type": "code",
   "execution_count": null,
   "metadata": {},
   "outputs": [],
   "source": []
  }
 ],
 "metadata": {
  "kernelspec": {
   "display_name": "Python 3 (ipykernel)",
   "language": "python",
   "name": "python3"
  },
  "language_info": {
   "codemirror_mode": {
    "name": "ipython",
    "version": 3
   },
   "file_extension": ".py",
   "mimetype": "text/x-python",
   "name": "python",
   "nbconvert_exporter": "python",
   "pygments_lexer": "ipython3",
   "version": "3.11.4"
  }
 },
 "nbformat": 4,
 "nbformat_minor": 2
}
