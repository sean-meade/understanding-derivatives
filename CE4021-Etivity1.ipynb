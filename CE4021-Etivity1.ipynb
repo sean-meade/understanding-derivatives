{
 "cells": [
  {
   "cell_type": "markdown",
   "metadata": {},
   "source": [
    "# Notebook E-tivity 1 CE4021"
   ]
  },
  {
   "cell_type": "markdown",
   "metadata": {},
   "source": [
    "Student name: Godfrey Jeremiah"
   ]
  },
  {
   "cell_type": "markdown",
   "metadata": {},
   "source": [
    "Student ID: 23310758"
   ]
  },
  {
   "cell_type": "markdown",
   "metadata": {},
   "source": [
    "<hr style=\"border:2px solid gray\"> </hr>"
   ]
  },
  {
   "cell_type": "markdown",
   "metadata": {},
   "source": [
    "## Imports"
   ]
  },
  {
   "cell_type": "code",
   "execution_count": 1,
   "metadata": {},
   "outputs": [],
   "source": [
    "#None"
   ]
  },
  {
   "cell_type": "markdown",
   "metadata": {},
   "source": [
    "If you believe required imports are missing, please contact your moderator."
   ]
  },
  {
   "cell_type": "markdown",
   "metadata": {},
   "source": [
    "<hr style=\"border:2px solid gray\"> </hr>"
   ]
  },
  {
   "cell_type": "markdown",
   "metadata": {},
   "source": [
    "## Task"
   ]
  },
  {
   "cell_type": "markdown",
   "metadata": {},
   "source": [
    "You may add as many cells as you require to complete this task. Refer to the Rubric for E-tivity 1 to see how you will be assessed."
   ]
  },
  {
   "cell_type": "markdown",
   "metadata": {},
   "source": [
    "### Option 1:"
   ]
  },
  {
   "cell_type": "markdown",
   "metadata": {},
   "source": [
    "Keynotes & Breakdown\n",
    "\n",
    "    As instructed:\n",
    "        1. I need to create polynomial with one variable\n",
    "        2. Calculate the derivative of the polynomial\n",
    "        3. Ensure both input and output are in polynomial\n",
    "\n",
    "The above 3 pointers simplify the task "
   ]
  },
  {
   "cell_type": "markdown",
   "metadata": {},
   "source": [
    "Example 1: 3a^3 + 5a^2 -7"
   ]
  },
  {
   "cell_type": "markdown",
   "metadata": {},
   "source": [
    "The derivative would be written as:\n",
    "    d/dx[3a^3 + 5a^2 -7]"
   ]
  },
  {
   "cell_type": "markdown",
   "metadata": {},
   "source": [
    "In hand written form, the result would be:\n",
    "    9a^2 + 10a \n",
    "    \n",
    "How?\n",
    "\n",
    "First, segement the polynomial expression into 3 different parts as:\n",
    "  3a^3 ==> 3*3*a^3-1 ==> 9a^2\n",
    "  5a^2 ==> 2*5*a^2-1 ==> 10a\n",
    "  7 ==> is a constant\n"
   ]
  },
  {
   "cell_type": "markdown",
   "metadata": {},
   "source": [
    "Using python to determine this result now become easy as we've gotten the clear picture - it nonetheles easier to do most arithmetic in Python."
   ]
  },
  {
   "cell_type": "code",
   "execution_count": 153,
   "metadata": {},
   "outputs": [
    {
     "name": "stdout",
     "output_type": "stream",
     "text": [
      "differentiation at variable a = 2 is 56\n"
     ]
    }
   ],
   "source": [
    "# create a funtion for the derivatives\n",
    "def derivative_polynomial(a): \n",
    "\n",
    "# the segmentations of the polynomial expression\n",
    "    segment1 = 3 * 3 * a**(3 - 1) # derivavtive of 3a^3\n",
    "    segment2 = 5 * 2 * a**(2 - 1)  # derivative of 5a^2\n",
    "    segment3 = 0\n",
    "    \n",
    "    # the derivative would be the sum of all segments\n",
    "    der_of_segment = segment1 + segment2 + segment3\n",
    "    \n",
    "    return der_of_segment\n",
    "\n",
    "# To present output in polynnomial - continue on this...\n",
    "# and tets code on a few salient polynomials\n",
    "\n",
    "\n",
    "# To Evaluate/Get the numerical of the polynomial\n",
    "# Let's test the derivative for different value of 'a'\n",
    "a_value = 2\n",
    "result = derivative_polynomial(a_value)\n",
    "\n",
    "\n",
    "# print the result for value of a\n",
    "print(f'differentiation at variable a = {a_value} is {result}')\n",
    "\n",
    "# next I will create an array of numbers and loop over them to test several values\n",
    "\n",
    "# "
   ]
  },
  {
   "cell_type": "markdown",
   "metadata": {},
   "source": []
  },
  {
   "cell_type": "code",
   "execution_count": null,
   "metadata": {},
   "outputs": [],
   "source": []
  },
  {
   "cell_type": "code",
   "execution_count": null,
   "metadata": {},
   "outputs": [],
   "source": []
  },
  {
   "cell_type": "code",
   "execution_count": null,
   "metadata": {},
   "outputs": [],
   "source": []
  },
  {
   "cell_type": "code",
   "execution_count": null,
   "metadata": {},
   "outputs": [],
   "source": []
  },
  {
   "cell_type": "code",
   "execution_count": null,
   "metadata": {},
   "outputs": [],
   "source": []
  },
  {
   "cell_type": "code",
   "execution_count": null,
   "metadata": {},
   "outputs": [],
   "source": []
  },
  {
   "cell_type": "code",
   "execution_count": null,
   "metadata": {},
   "outputs": [],
   "source": []
  },
  {
   "cell_type": "markdown",
   "metadata": {},
   "source": [
    "<hr style=\"border:2px solid gray\"> </hr>"
   ]
  },
  {
   "cell_type": "markdown",
   "metadata": {},
   "source": [
    "## Reflection"
   ]
  },
  {
   "cell_type": "markdown",
   "metadata": {},
   "source": [
    "Write your reflection in below cell. With reference to the Rubric for E-tivity 1:\n",
    "- Provide an accurate description of your code with advantages and disadvantages of design choices.\n",
    "- Compare your approach to alternative (peer) approaches.\n",
    "- Clearly describe how you have used your peers' work/input and how this has affected your own understanding / insights.\n",
    "\n",
    "If you have not used peer input, you may state this, but your submission history in Gitlab should clearly show this is the case."
   ]
  },
  {
   "cell_type": "code",
   "execution_count": null,
   "metadata": {},
   "outputs": [],
   "source": []
  }
 ],
 "metadata": {
  "kernelspec": {
   "display_name": "Python 3 (ipykernel)",
   "language": "python",
   "name": "python3"
  },
  "language_info": {
   "codemirror_mode": {
    "name": "ipython",
    "version": 3
   },
   "file_extension": ".py",
   "mimetype": "text/x-python",
   "name": "python",
   "nbconvert_exporter": "python",
   "pygments_lexer": "ipython3",
   "version": "3.11.4"
  }
 },
 "nbformat": 4,
 "nbformat_minor": 2
}
