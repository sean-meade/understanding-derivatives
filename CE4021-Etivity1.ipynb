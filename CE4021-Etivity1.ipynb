{
 "cells": [
  {
   "cell_type": "markdown",
   "metadata": {},
   "source": [
    "# Notebook E-tivity 1 CE4021"
   ]
  },
  {
   "cell_type": "markdown",
   "metadata": {},
   "source": [
    "Student name:Phil Clarke"
   ]
  },
  {
   "cell_type": "markdown",
   "metadata": {},
   "source": [
    "Student ID: 23291567"
   ]
  },
  {
   "cell_type": "markdown",
   "metadata": {},
   "source": [
    "<hr style=\"border:2px solid gray\"> </hr>"
   ]
  },
  {
   "cell_type": "markdown",
   "metadata": {},
   "source": [
    "## Task - DRAFT"
   ]
  },
  {
   "cell_type": "markdown",
   "metadata": {},
   "source": [
    "Write 2 Python functions:\n",
    "\n",
    "Function 1:\n",
    "The first one to symbolically calculate the derivative of a polynomial with one variable. The input should be a polynomial and the output should also be a polynomial.\n",
    "\n",
    "Function 2:\n",
    "The second one to evaluate (i.e. get the numerical value) of a polynomial for a given value of its variable. The input should be a polynomial and a value (point at which to evaluate the polynomial). The output should be a scalar.\n",
    "Test your code with a few salient polynomials (minimum of 3) for which you have calculated the derivative of these polynomials manually."
   ]
  },
  {
   "cell_type": "code",
   "execution_count": 64,
   "metadata": {},
   "outputs": [
    {
     "name": "stdout",
     "output_type": "stream",
     "text": [
      "Please enter a polynomial in the format '1+x^2-3x^7+100x^9':-4+2x^8+6x^4\n",
      "-4+2x^8+6x^4\n"
     ]
    }
   ],
   "source": [
    "#TASK 1\n",
    "#The first task is to a) understand a polynomial in Python from an input and calculate its derivative.\n",
    "#Using dictionaries, tuples and lists with parsing appears to be the best starting point.\n",
    "#The output should be in the same format as the input.\n",
    "\n",
    "#Creating an input for a polynomial\n",
    "polynomial = input(\"Please enter a polynomial in the format '1+x^2-3x^7+100x^9':\") \n",
    "print(polynomial)\n",
    "#FOR LATER - Error checking on neagtive powers?\n"
   ]
  },
  {
   "cell_type": "code",
   "execution_count": 66,
   "metadata": {},
   "outputs": [
    {
     "name": "stdout",
     "output_type": "stream",
     "text": [
      "The Original polynomial expression: -4+2x^8+6x^4\n",
      "The Derivative polynomial expression: 24x^3 + 16x^7\n"
     ]
    }
   ],
   "source": [
    "def polynomialparser(polynomial):\n",
    "    # create a blank list to store the individial terms of the polynomial\n",
    "    #set the initial term as \"\" for the purposes of iteration\n",
    "    terms = []\n",
    "    initial_term = \"\"\n",
    "\n",
    "    # Iterate through each character in the expression creating terms everything we see a - or + sign\n",
    "    for char in polynomial:\n",
    "        if char in \"+-\":\n",
    "            terms.append(initial_term)\n",
    "            initial_term = char\n",
    "        else:\n",
    "            # If it's not a '+' or '-' sign, add the character to the current term\n",
    "            initial_term += char\n",
    "\n",
    "    # Add the last term to the list (assuming the expression ends with a term)\n",
    "    terms.append(initial_term)\n",
    "\n",
    "    # Filter out any empty strings\n",
    "    #terms = [term for term in terms if term]\n",
    "\n",
    "    # Initialize a dictionary to store coefficients and powers of the polynominal\n",
    "    poly_dict = {}\n",
    "    \n",
    "    # Iterate through the terms\n",
    "    for term in terms:\n",
    "        coefficient = 1  # Default coefficient if none is specified for example \"x or x^2\"\n",
    "        power = 0       # Default power if none is specified  for example \"1 or 5 or n as a cooefficent\"\n",
    "\n",
    "        # Split the term into parts based on 'x', so therefore seperating out the coeff and the power parts\n",
    "        parts = term.split('x')\n",
    "\n",
    "        if parts[0]:  # Check if there's a coefficient part before 'x'\n",
    "            coefficient_str = parts[0]\n",
    "            if coefficient_str != '-':\n",
    "                coefficient = int(coefficient_str)\n",
    "\n",
    "        if len(parts) > 1:  # Check if there's a power part after 'x'\n",
    "            if '^' in parts[1]:\n",
    "                power = int(parts[1].split('^')[1])\n",
    "\n",
    "        poly_dict[power] = coefficient\n",
    "\n",
    "    return poly_dict\n",
    "\n",
    "Old_dict = polynomialparser(polynomial)\n",
    "\n",
    "new_dict = {}\n",
    "\n",
    "for key, value in Old_dict.items():\n",
    "    new_key = key - 1\n",
    "    new_value = key * value\n",
    "    new_dict[new_key] = new_value\n",
    "\n",
    "# Sort the dictionary by keys to ensure terms are in ascending order of power.\n",
    "sorted_dict = dict(sorted(new_dict.items()))\n",
    "\n",
    "polynomial_terms = []\n",
    "\n",
    "for power, coefficient in sorted_dict.items():\n",
    "    if coefficient != 0:\n",
    "        term = f\"{coefficient}x^{power}\" if power > 1 else f\"{coefficient}x\" if power == 1 else str(coefficient)\n",
    "        polynomial_terms.append(term)\n",
    "\n",
    "# Join the polynomial terms to form the final polynomial expression.\n",
    "polynomial_expression = \" + \".join(polynomial_terms)\n",
    "\n",
    "print(\"The Original polynomial expression:\", polynomial)\n",
    "print(\"The Derivative polynomial expression:\", polynomial_expression)\n"
   ]
  },
  {
   "cell_type": "code",
   "execution_count": null,
   "metadata": {},
   "outputs": [],
   "source": []
  },
  {
   "cell_type": "markdown",
   "metadata": {},
   "source": [
    "<hr style=\"border:2px solid gray\"> </hr>"
   ]
  },
  {
   "cell_type": "markdown",
   "metadata": {},
   "source": [
    "## Reflection"
   ]
  },
  {
   "cell_type": "markdown",
   "metadata": {},
   "source": [
    "Write your reflection in below cell. With reference to the Rubric for E-tivity 1:\n",
    "- Provide an accurate description of your code with advantages and disadvantages of design choices.\n",
    "- Compare your approach to alternative (peer) approaches.\n",
    "- Clearly describe how you have used your peers' work/input and how this has affected your own understanding / insights.\n",
    "\n",
    "If you have not used peer input, you may state this, but your submission history in Gitlab should clearly show this is the case."
   ]
  },
  {
   "cell_type": "code",
   "execution_count": null,
   "metadata": {},
   "outputs": [],
   "source": []
  }
 ],
 "metadata": {
  "kernelspec": {
   "display_name": "Python 3 (ipykernel)",
   "language": "python",
   "name": "python3"
  },
  "language_info": {
   "codemirror_mode": {
    "name": "ipython",
    "version": 3
   },
   "file_extension": ".py",
   "mimetype": "text/x-python",
   "name": "python",
   "nbconvert_exporter": "python",
   "pygments_lexer": "ipython3",
   "version": "3.10.9"
  }
 },
 "nbformat": 4,
 "nbformat_minor": 2
}
