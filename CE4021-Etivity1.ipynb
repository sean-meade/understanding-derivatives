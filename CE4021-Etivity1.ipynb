{
 "cells": [
  {
   "cell_type": "markdown",
   "metadata": {},
   "source": [
    "# Notebook E-tivity 1 CE4021"
   ]
  },
  {
   "cell_type": "markdown",
   "metadata": {},
   "source": [
    "Student name: Sean Meade"
   ]
  },
  {
   "cell_type": "markdown",
   "metadata": {},
   "source": [
    "Student ID: 10128921"
   ]
  },
  {
   "cell_type": "markdown",
   "metadata": {},
   "source": [
    "<hr style=\"border:2px solid gray\"> </hr>"
   ]
  },
  {
   "cell_type": "markdown",
   "metadata": {},
   "source": [
    "## Imports"
   ]
  },
  {
   "cell_type": "code",
   "execution_count": 18,
   "metadata": {},
   "outputs": [],
   "source": [
    "#None"
   ]
  },
  {
   "cell_type": "markdown",
   "metadata": {},
   "source": [
    "If you believe required imports are missing, please contact your moderator."
   ]
  },
  {
   "cell_type": "markdown",
   "metadata": {},
   "source": [
    "<hr style=\"border:2px solid gray\"> </hr>"
   ]
  },
  {
   "cell_type": "markdown",
   "metadata": {},
   "source": [
    "## Task"
   ]
  },
  {
   "cell_type": "markdown",
   "metadata": {},
   "source": [
    "You may add as many cells as you require to complete this task. Refer to the Rubric for E-tivity 1 to see how you will be assessed."
   ]
  },
  {
   "cell_type": "markdown",
   "metadata": {},
   "source": [
    "Showing excellent understanding of polynomial derivatives / integrals.\n",
    "\n",
    "### Understanding Polynomial derivatives\n",
    "\n",
    "#### What are polynomials?\n",
    "\n",
    "A polynomial is a mathematical equation consisting of variables and coefficients. A polynomial can have any number of coefficients and variables, and the variables can have any order of power that is a positive integer.\n",
    "\n",
    "Example of a polynomial: $ y(x) = 3x^3 - 5x^2 + 2x - 1 $\n",
    "\n",
    "##### Equation for Vertical Motion\n",
    "\n",
    "Polynomials are equations that can be used to describe linear processes is one that represents a ball being fired directly up into the air, also known as the \"equation for vertical motion\". For the sake of this example we will fire our ball within a vacuum (i.e. it is not effected by air currents, wind resistance etc). The following equation is a polynomial that represents the vertical displacement ($ h $) as a function of time ($ t $) with respect to the initial velocity ($ V_{iy} $), and acceleration/deceleration due to gravity ($ g $).\n",
    "\n",
    "\\begin{equation}\n",
    "    h(t) = V_{iy}t - \\frac{1}{2}gt^2\n",
    "\\end{equation}\n",
    "\n",
    "#### Differentiation of a polynomial\n",
    "\n",
    "TODO: Add in about slopes if there is enough time\n",
    "\n",
    "What if I wanted to find the velocity of the ball ($ V_{y} $) at a time ($ t $)? The velocity can be calculated as the change in displacement ($ ds $) divided by the change in time ($ dt $) or $ \\frac{ds}{dt} $ \n",
    "\n",
    "$$ \\frac{change~in~displacement}{change~in~time} = \\frac{ds}{dt} = velocity $$\n",
    "\n",
    "The derivative is defined as 'an instantaneous rate of change' which, as pointed out in the [video by 3Blue1Brown on the topic](https://youtu.be/9vKqVkMQHKk?si=QGEQitIiNg3zORRg&t=30s), is an oxymoron. \"Change is something that happens between separate points in time, and when you blind yourself to all but a single instant, there is no more room for change.\" For example if you wanted to get the velocity at 3 minutes (at an instant in time) and the velocity requires a change in time to calculate it then it really doesn't make sense at face value.\n",
    "\n",
    "$ dt $ is an increment of time that approaches zero ($ {dt \\to 0} $). To find the velocity at dt we get the distance at time $ t + dt $, subtract the distance at $ t $, and divide by the time $ dt $. \n",
    "\n",
    "\\begin{equation}\n",
    "    \\frac{dh}{dt} = \\frac{h(t + dt) - h(t)}{dt}\n",
    "    \\tag{2}\n",
    "\\end{equation}\n",
    "\n",
    "\\begin{equation}\n",
    "    \\frac{dh}{dt} = \\frac{(V_{iy}(t + dt) - \\frac{1}{2}g(t + dt)^2) - (V_{iy}t - \\frac{1}{2}gt^2)}{dt}\n",
    "    \\tag{3}\n",
    "\\end{equation}\n",
    "\n",
    "\\begin{equation}\n",
    "    \\frac{dh}{dt} = \\frac{V_{iy}(t) + V_{iy}(dt) - \\frac{1}{2}gt^2 - \\frac{1}{2}g(dt)^2 - g(t)(dt) - V_{iy}(t) + \\frac{1}{2}gt^2}{dt}\n",
    "    \\tag{4}\n",
    "\\end{equation}\n",
    "\n",
    "\\begin{equation}\n",
    "    \\frac{dh}{dt} = \\frac{(V_{iy}(dt) - \\frac{1}{2}g(dt)^2 - g(t)(dt)}{dt}\n",
    "    \\tag{5}\n",
    "\\end{equation}\n",
    "\n",
    "\\begin{equation}\n",
    "    \\frac{dh}{dt} = V_{iy} - \\frac{1}{2}g(dt) - g(t)\n",
    "    \\tag{6}\n",
    "\\end{equation}\n",
    "\n",
    "\n",
    "As $ {dt \\to 0} $ the middle term approaches zero.\n",
    "\n",
    "\n",
    "\\begin{equation}\n",
    "    \\frac{dh}{dt} = V_{iy} - g(t)\n",
    "    \\tag{7}\n",
    "\\end{equation}\n",
    "\n",
    "With the above equation we can work out the 'instantaneous velocity'.\n",
    "\n",
    "##### The Power Rule\n",
    "\n",
    "There is a rule for this type of differentiation named the power rule. Taking the positive integer power of the variable, multiplying that by the whole term and then taking 1 from that power:\n",
    "\n",
    "\\begin{equation}\n",
    "    \\frac{d}{dx}(ax^n) = anx^{n-1}\n",
    "    \\tag{The Power Rule}\n",
    "\\end{equation}\n",
    "\n",
    "You will note that if applied to equation 1 it can produce equation 7 in two easy steps. Applying the power rule to differentiate each term of the equation for vertical motion:\n",
    "\n",
    "$$ \\frac{dh}{dt} = (1)V_{iy}t^{1-1} - (2)\\frac{1}{2}gt^{2-1} $$\n",
    "\n",
    "And simplifying we get equation 7 that calculates velocity:\n",
    "\n",
    "$$ \\frac{dh}{dt} = V_{iy} - g(t) $$\n",
    "\n",
    "This rule is what is used to calculate the derivatives in the *polynomial_differentiation* method below."
   ]
  },
  {
   "cell_type": "markdown",
   "metadata": {},
   "source": [
    "### Implementation\n",
    "\n",
    "Correctly working implementation with efficient use of flow control elements, data types and operators. Clean code with appropriate variable names.  Appropriate documentation of each function."
   ]
  },
  {
   "cell_type": "code",
   "execution_count": 19,
   "metadata": {},
   "outputs": [
    {
     "name": "stdout",
     "output_type": "stream",
     "text": [
      "1.45 µs ± 97.7 ns per loop (mean ± std. dev. of 7 runs, 1,000,000 loops each)\n",
      "1.25 µs ± 74 ns per loop (mean ± std. dev. of 7 runs, 1,000,000 loops each)\n",
      "1.54 µs ± 87.7 ns per loop (mean ± std. dev. of 7 runs, 1,000,000 loops each)\n",
      "1.58 µs ± 53.1 ns per loop (mean ± std. dev. of 7 runs, 1,000,000 loops each)\n"
     ]
    }
   ],
   "source": [
    "def polynomial_differentiation(input_polynomial, return_tup_of_tups=False):\n",
    "    \"\"\"\n",
    "    Calculates the derivative of a polynomial using the power rule.\n",
    "\n",
    "    Args:\n",
    "        input_polynomial (list or tuple): List (or tuple) containing lists (or tuples) with two values.\n",
    "                                            These two values represent the coefficient and variable power\n",
    "                                            of each term of the polynomial. (e.g. 2x^5 + 8x^4 would be \n",
    "                                            represented by [[2 ,5], [8, 4]] or ((2, 5), (8, 4)) )\n",
    "\n",
    "    Returns:\n",
    "        list: Returns a list of lists that represent the polynomial after differentiation. [[5, 6], [5, 5]]\n",
    "                is the polynomial 5x^6 + 5x^5\n",
    "\n",
    "    \"\"\"\n",
    "\n",
    "    # Empty list that will contain the output polynomial\n",
    "    output_polynomial = []\n",
    "\n",
    "    # for each term of the polynomial use the coefficient and the power of the variable\n",
    "    for coefficient, var_power in input_polynomial:\n",
    "        # Check to see if input is a valid polynomial\n",
    "        if var_power == None or var_power < 0:\n",
    "            print(\"Input polynomial contains negative or type None power for a variable. Input needs to be a valid polynomial.\")\n",
    "            return\n",
    "        # Check to see if the coefficient is None (not a valid input)\n",
    "        if coefficient == None:\n",
    "            print(\"Input polynomial contains type None for a coefficient. Input needs to be a valid polynomial.\")\n",
    "            return\n",
    "        # if either the coefficient or the power are zero the term is zero so pass\n",
    "        if coefficient == 0 or var_power == 0:\n",
    "            pass\n",
    "        # Apply the power rule to the term of the polynomial and add to output_polynomial list\n",
    "        else:\n",
    "            output_polynomial.append([coefficient * var_power, var_power - 1])\n",
    "\n",
    "    if return_tup_of_tups == True:\n",
    "        tuple(map(tuple, output_polynomial))\n",
    "\n",
    "    # Return the polynomial after differentiation\n",
    "    return(output_polynomial)\n"
   ]
  },
  {
   "cell_type": "markdown",
   "metadata": {},
   "source": [
    "#### Evaluating a polynomial for a given value\n",
    "\n",
    "To evaluate a polynomial we simple enter the variable into the polynomial.\n",
    "\n",
    "Lets take the equation for vertical motion as example.\n",
    "\n",
    "$$ h(t) = V_{iy}t - \\frac{1}{2}gt^2 $$\n",
    "\n",
    "If we record the initial velocity as $ 20 m/s $ and we take deceleration due to gravity as $ 9.81 m/s^2 $:\n",
    "\n",
    "$$ h(t) = 20(t) - (\\frac{9.81}{2})t^2 $$\n",
    "\n",
    "We can find the height $ h $ for any given time $ t $. Lets say we wanted to find the height after 2 seconds:\n",
    "\n",
    "$$ h(2) = 20(2) - (4.9)(2^2) = 20.4 m $$\n",
    "\n",
    "We now know that the height after 2 seconds with an initial velocity of $ 20 m/s $ is 20 meters. The below function is built to evaluate a given polynomial input_polynomial for a known variable know_var"
   ]
  },
  {
   "cell_type": "code",
   "execution_count": 22,
   "metadata": {},
   "outputs": [],
   "source": [
    "def evaluate_polynomial(input_polynomial, known_var):\n",
    "    \"\"\"\n",
    "    Evaluates the polynomial after differentiation for a known variable\n",
    "\n",
    "    Args:\n",
    "        input_polynomial (list or tuple): List (or tuple) containing lists (or tuples) with two values.\n",
    "                                            These two values represent the coefficient and variable power\n",
    "                                            of each term of the polynomial. (e.g. 2x^5 + 8x^4 would be \n",
    "                                            represented by [[2 ,5], [8, 4]] or ((2, 5), (8, 4)) )\n",
    "        known_var (int or float): number (int or float) that is the know variable of the polynomial\n",
    "\n",
    "    Returns:\n",
    "        int or float: The final value of the differentiated input_polynomial by inputting the known_var\n",
    "                        into the output polynomial.\n",
    "    \"\"\"\n",
    "\n",
    "    # var to hold the addition of each term of the differentiated polynomial to produce a scalar\n",
    "    scalar = 0\n",
    "    # check to see if input is a number\n",
    "    if isinstance(known_var, (int, float)):\n",
    "        # Use the input variable to calculate the term and add it to make up the scalar\n",
    "        for coefficient, power in input_polynomial:\n",
    "            scalar += (known_var**power)*coefficient\n",
    "    # if not a number provide feedback and end it\n",
    "    else:\n",
    "        print(f\"Float or int needed for calculation {type(known_var)} used.\")\n",
    "        return\n",
    "\n",
    "    return scalar"
   ]
  },
  {
   "cell_type": "markdown",
   "metadata": {},
   "source": [
    "### Testing\n",
    "\n",
    "Below I will work through test polynomials first with math using the power rule and then the above function to compare results.\n",
    "\n",
    "#### Test 1: 0 Exponential (constant) and minus coefficient \n",
    "TODO: Add line in doc string to explain adding constants with 0 exp\n",
    "\n",
    "Polynomial: \n",
    "\n",
    "$$ y(x) = 2x^3 - 5x^7 + 4 $$\n",
    "\n",
    "Differentiation:\n",
    "\n",
    "$$ \\frac{dy}{dx} = 3(2)x^{3-1} - 7(5)x^{7-1} $$\n",
    "\n",
    "$$ \\frac{dy}{dx} = 6x^{2} - 35x^{6} $$"
   ]
  },
  {
   "cell_type": "code",
   "execution_count": 24,
   "metadata": {},
   "outputs": [
    {
     "data": {
      "text/plain": [
       "[[6, 2], [-35, 6]]"
      ]
     },
     "execution_count": 24,
     "metadata": {},
     "output_type": "execute_result"
    }
   ],
   "source": [
    "# Used this post in Q&A as inspiration: https://learn.ul.ie/d2l/le/10675/discussions/threads/7746/View\n",
    "# Test 1\n",
    "zero_exp_poly = [[2, 3], [-5, 7], [4, 0]]\n",
    "polynomial_differentiation(zero_exp_poly)"
   ]
  },
  {
   "cell_type": "markdown",
   "metadata": {},
   "source": [
    "#### Test 2: Extreme exponential [x^1000000]\n",
    "\n",
    "Polynomial: \n",
    "\n",
    "$$ y(x) = x + 8x^37 + 6x^1000000 $$\n",
    "\n",
    "Differentiation:\n",
    "\n",
    "$$ \\frac{dy}{dx} = 37(8)x^{37-1} + 1000000(6)x^{1000000-1} $$\n",
    "\n",
    "$$ \\frac{dy}{dx} = 296x^{36} + 6000000^{999999} $$"
   ]
  },
  {
   "cell_type": "code",
   "execution_count": 25,
   "metadata": {},
   "outputs": [
    {
     "data": {
      "text/plain": [
       "[[1, 0], [296, 36], [6000000, 999999]]"
      ]
     },
     "execution_count": 25,
     "metadata": {},
     "output_type": "execute_result"
    }
   ],
   "source": [
    "\n",
    "# Test 2\n",
    "extreme_poly = [[1, 1], [8, 37], [6, 1000000]]\n",
    "polynomial_differentiation(extreme_poly)"
   ]
  },
  {
   "cell_type": "markdown",
   "metadata": {},
   "source": [
    "#### Test 3: two elements with the same exponential\n",
    "\n",
    "Polynomial: \n",
    "\n",
    "$$ y(x) = 2x^3 + 77x^3 + 88x^88 $$\n",
    "\n",
    "Differentiation:\n",
    "\n",
    "$$ \\frac{dy}{dx} = 3(2)x^{3-1} + 3(77)x^{3-1} + 88(88)x^{88-1} $$\n",
    "\n",
    "$$ \\frac{dy}{dx} = 6x^{2} + 231x^{2} + 7744x^{87} $$"
   ]
  },
  {
   "cell_type": "code",
   "execution_count": 28,
   "metadata": {},
   "outputs": [
    {
     "data": {
      "text/plain": [
       "[[6, 2], [231, 2], [7744, 87]]"
      ]
     },
     "execution_count": 28,
     "metadata": {},
     "output_type": "execute_result"
    }
   ],
   "source": [
    "# Test 3: two elements with the same exponential\n",
    "same_exp_poly = [[2, 3], [77, 3], [88, 88]]\n",
    "polynomial_differentiation(same_exp_poly)"
   ]
  },
  {
   "cell_type": "markdown",
   "metadata": {},
   "source": [
    "#### Test 4: null/None value for exponential\n",
    "\n",
    "Polynomial: \n",
    "\n",
    "$$ y(x) = 9x^{None} + 5x^9 + 12x^6 $$\n",
    "\n",
    "Differentiation:\n",
    "\n",
    "$$ \\frac{dy}{dx} = None(9)x^{None-1} + 9(5)x^{9-1} + 6(12)x^{6-1} $$\n",
    "\n",
    "$$ \\frac{dy}{dx} = None(9)x^{None-1} + 45x^{8} + 72x^{5} $$\n",
    "\n",
    "I am choosing not to interpret None as 0 because a None value can come from any number of reasons and my not necessarily mean 0."
   ]
  },
  {
   "cell_type": "code",
   "execution_count": 29,
   "metadata": {},
   "outputs": [
    {
     "name": "stdout",
     "output_type": "stream",
     "text": [
      "Input polynomial contains negative or type None power for a variable. Input needs to be a valid polynomial.\n"
     ]
    }
   ],
   "source": [
    "# Test 4: null value for exponential\n",
    "null_poly_exp = [[9, None], [5, 9], [12, 6]]\n",
    "polynomial_differentiation(null_poly_exp)"
   ]
  },
  {
   "cell_type": "markdown",
   "metadata": {},
   "source": [
    "#### Test 5: null/None value for coefficient\n",
    "\n",
    "Polynomial: \n",
    "\n",
    "$$ y(x) = Nonex^{9} + 5x^9 + 12x^6 $$\n",
    "\n",
    "Differentiation:\n",
    "\n",
    "$$ \\frac{dy}{dx} = 9(None)x^{9-1} + 9(5)x^{9-1} + 6(12)x^{6-1} $$\n",
    "\n",
    "$$ \\frac{dy}{dx} = 9(None)x^{8} + 45x^{8} + 72x^{5} $$\n",
    "\n",
    "Again I am choosing not to interpret None as 0."
   ]
  },
  {
   "cell_type": "code",
   "execution_count": 30,
   "metadata": {},
   "outputs": [
    {
     "name": "stdout",
     "output_type": "stream",
     "text": [
      "Input polynomial contains type None for a coefficient. Input needs to be a valid polynomial.\n"
     ]
    }
   ],
   "source": [
    "# Test 5\n",
    "null_poly_coef = [[None, 9], [5, 9], [12, 6]]\n",
    "polynomial_differentiation(null_poly_coef)"
   ]
  },
  {
   "cell_type": "markdown",
   "metadata": {},
   "source": [
    "#### Test 6: infinity value for coefficient\n",
    "\n",
    "Polynomial: \n",
    "\n",
    "$$ y(x) = (\\infty)x^{6} + 6x^815- 3x $$\n",
    "\n",
    "Differentiation:\n",
    "\n",
    "$$ \\frac{dy}{dx} = 6(\\infty)x^{6-1} + 815(6)x^{815-1} - 1(3)x^{1-1} $$\n",
    "\n",
    "$$ \\frac{dy}{dx} =  (\\infty)x^{5} + 4890x^{814} - 3 $$"
   ]
  },
  {
   "cell_type": "code",
   "execution_count": 31,
   "metadata": {},
   "outputs": [
    {
     "data": {
      "text/plain": [
       "[[inf, 5], [4890, 814], [-3, 0]]"
      ]
     },
     "execution_count": 31,
     "metadata": {},
     "output_type": "execute_result"
    }
   ],
   "source": [
    "# Test 6\n",
    "inf_poly_coef = [[float('inf'), 6], [6, 815], [-3, 1]]\n",
    "polynomial_differentiation(inf_poly_coef)"
   ]
  },
  {
   "cell_type": "markdown",
   "metadata": {},
   "source": [
    "#### Test 7: infinity value for exponential\n",
    "\n",
    "Polynomial: \n",
    "\n",
    "$$ y(x) = 20x^{\\infty} - 10x^6 + 30x^6 $$\n",
    "\n",
    "Differentiation:\n",
    "\n",
    "$$ \\frac{dy}{dx} = \\infty(20)x^{\\infty-1} + 6(10)x^{6-1} + 6(30)x^{6-1} $$\n",
    "\n",
    "$$ \\frac{dy}{dx} = (\\infty)x^{\\infty} + 60^{5} + 180x^{5} $$"
   ]
  },
  {
   "cell_type": "code",
   "execution_count": 32,
   "metadata": {},
   "outputs": [
    {
     "data": {
      "text/plain": [
       "[[inf, inf], [60, 5], [180, 5]]"
      ]
     },
     "execution_count": 32,
     "metadata": {},
     "output_type": "execute_result"
    }
   ],
   "source": [
    "# Test 7\n",
    "inf_poly_exp = [[20, float('inf')], [10, 6], [30, 6]]\n",
    "polynomial_differentiation(inf_poly_exp)"
   ]
  },
  {
   "cell_type": "markdown",
   "metadata": {},
   "source": [
    "#### Test 8: Negative infinity value for coefficient\n",
    "\n",
    "Polynomial: \n",
    "\n",
    "$$ y(x) = (-\\infty)x^{6} + 23x^45 - 40x^2 $$\n",
    "\n",
    "Differentiation:\n",
    "\n",
    "$$ \\frac{dy}{dx} = 6(-\\infty)x^{6-1} + 45(23)x^{45-1} - 2(40)x^{2-1} $$\n",
    "\n",
    "$$ \\frac{dy}{dx} =  (-\\infty)x^{5} + 1035x^{44} - 80x $$"
   ]
  },
  {
   "cell_type": "code",
   "execution_count": 33,
   "metadata": {},
   "outputs": [
    {
     "data": {
      "text/plain": [
       "[[-inf, 5], [1035, 44], [-80, 1]]"
      ]
     },
     "execution_count": 33,
     "metadata": {},
     "output_type": "execute_result"
    }
   ],
   "source": [
    "# Test 8\n",
    "neg_inf_poly_coef = [[-float('inf'), 6], [23, 45], [-40, 2]]\n",
    "polynomial_differentiation(neg_inf_poly_coef)"
   ]
  },
  {
   "cell_type": "markdown",
   "metadata": {},
   "source": [
    "#### Test 9: the vertical motion equation\n",
    "\n",
    "Polynomial: \n",
    "\n",
    "$$ h(t) = V_{iy}t - \\frac{1}{2}gt^2 $$\n",
    "\n",
    "Where:\n",
    "\n",
    "V_{iy} = 20 m/s\n",
    "g = 9.81 m/s^2\n",
    "\n",
    "$$ h(t) = 20t - 4.9t^2 $$\n",
    "\n",
    "Differentiation:\n",
    "\n",
    "$$ \\frac{dh}{dt} = 1(20)t^{1-1} - 2(4.9)t^{2-1} $$\n",
    "\n",
    "$$ \\frac{dy}{dx} = 20 - 9.81t $$"
   ]
  },
  {
   "cell_type": "code",
   "execution_count": 34,
   "metadata": {},
   "outputs": [
    {
     "data": {
      "text/plain": [
       "[[20, 0], [-9.8, 1]]"
      ]
     },
     "execution_count": 34,
     "metadata": {},
     "output_type": "execute_result"
    }
   ],
   "source": [
    "# Test 8\n",
    "inf_poly_coef = [[20, 1], [-4.9, 2]]\n",
    "polynomial_differentiation(inf_poly_coef)"
   ]
  },
  {
   "cell_type": "markdown",
   "metadata": {},
   "source": [
    "<hr style=\"border:2px solid gray\"> </hr>"
   ]
  },
  {
   "cell_type": "markdown",
   "metadata": {},
   "source": [
    "## Reflection"
   ]
  },
  {
   "cell_type": "markdown",
   "metadata": {},
   "source": [
    "Write your reflection in below cell. With reference to the Rubric for E-tivity 1:\n",
    "- Provide an accurate description of your code with advantages and disadvantages of design choices.\n",
    "- Compare your approach to alternative (peer) approaches.\n",
    "- Clearly describe how you have used your peers' work/input and how this has affected your own understanding / insights.\n",
    "\n",
    "If you have not used peer input, you may state this, but your submission history in Gitlab should clearly show this is the case."
   ]
  },
  {
   "cell_type": "markdown",
   "metadata": {},
   "source": [
    "list/tuples were used because if the polynomial had more then 1 of the same power for a variable it would allow this. A dictionary or set would not allow this flexibility. Either you could not have the same coefficient or you could not have the same exponential. Because polynomials can come in any shape or size I have decided with lists/tuples. That being said if not taking this consideration dictionaries (at least for how I built my solution) are faster (See appendix for more)"
   ]
  },
  {
   "cell_type": "markdown",
   "metadata": {},
   "source": [
    "## Appendix"
   ]
  },
  {
   "cell_type": "code",
   "execution_count": 21,
   "metadata": {},
   "outputs": [
    {
     "name": "stdout",
     "output_type": "stream",
     "text": [
      "This is for first\n",
      "1.25 µs ± 115 ns per loop (mean ± std. dev. of 7 runs, 1,000,000 loops each)\n",
      "1.42 µs ± 90.6 ns per loop (mean ± std. dev. of 7 runs, 1,000,000 loops each)\n",
      "1.4 µs ± 73.7 ns per loop (mean ± std. dev. of 7 runs, 1,000,000 loops each)\n",
      "This is for second\n",
      "1.87 µs ± 70.6 ns per loop (mean ± std. dev. of 7 runs, 1,000,000 loops each)\n",
      "1.99 µs ± 635 ns per loop (mean ± std. dev. of 7 runs, 1,000,000 loops each)\n",
      "1.85 µs ± 385 ns per loop (mean ± std. dev. of 7 runs, 100,000 loops each)\n",
      "This is for third\n",
      "2.36 µs ± 313 ns per loop (mean ± std. dev. of 7 runs, 100,000 loops each)\n",
      "2.18 µs ± 104 ns per loop (mean ± std. dev. of 7 runs, 100,000 loops each)\n",
      "1.93 µs ± 101 ns per loop (mean ± std. dev. of 7 runs, 1,000,000 loops each)\n",
      "This is for fourth\n",
      "2.73 µs ± 395 ns per loop (mean ± std. dev. of 7 runs, 100,000 loops each)\n",
      "2.6 µs ± 125 ns per loop (mean ± std. dev. of 7 runs, 100,000 loops each)\n",
      "2.18 µs ± 301 ns per loop (mean ± std. dev. of 7 runs, 100,000 loops each)\n"
     ]
    }
   ],
   "source": [
    "def dict_polynomial_differentiation(input_polynomial):\n",
    "\n",
    "    # Empty list that will contain the output polynomial\n",
    "    output_polynomial = {}\n",
    "\n",
    "    # for each term of the polynomial use the coefficient and the power of the variable\n",
    "    for coefficient, var_power in input_polynomial.items():\n",
    "        # Check to see if input is a valid polynomial\n",
    "        if var_power == None or var_power < 0:\n",
    "            print(\"Input polynomial contains negative or type None power for a variable. Input needs to be a valid polynomial.\")\n",
    "            return\n",
    "        # Check to see if the coefficient is None (not a valid input)\n",
    "        if coefficient == None:\n",
    "            print(\"Input polynomial contains type None for a coefficient. Input needs to be a valid polynomial.\")\n",
    "            return\n",
    "        # if either the coefficient or the power are zero the term is zero so pass\n",
    "        if coefficient == 0 or var_power == 0:\n",
    "            pass\n",
    "        # Apply the power rule to the term of the polynomial and add to output_polynomial list\n",
    "        else:\n",
    "            output_polynomial[coefficient * var_power] = var_power - 1\n",
    "\n",
    "    # Return the polynomial after differentiation\n",
    "    return(output_polynomial)\n",
    "\n",
    "# Maybe spread each step out so process is more clear\n",
    "x1 = ((1, 2), (3, 4), (7, 8))\n",
    "y1 = [[1, 2], [3, 4], [7, 8]]\n",
    "dict1 = {1:2,3:4,7:8}\n",
    "x2 = ((1, 2), (3, 4), (7, 8), (3, 1000))\n",
    "y2 = [[1, 2], [3, 4], [7, 8], [3, 1000]]\n",
    "dict2 = {1:2,3:4,7:8,3:1000}\n",
    "x3 = ((1, 2), (3, 4), (7, 8), (3, 1000), (45, 36000))\n",
    "y3 = [[1, 2], [3, 4], [7, 8], [3, 1000], [45, 36000]]\n",
    "dict3 = {1:2,3:4,7:8,3:1000,45:36000}\n",
    "x4 = ((1, 2), (3, 4), (7, 8), (3, 1000), (45, 36000), (234, 600000000))\n",
    "y4 = [[1, 2], [3, 4], [7, 8], [3, 1000], [45, 36000], [234, 600000000]]\n",
    "dict4 = {1:2,3:4,7:8,3:1000,45:36000,234:600000000}\n",
    "\n",
    "# Uncomment/Comment the below to turn on/off the time tests. I have turned them off because they take a considerable time to run in comparison to the rest of the notebook.\n",
    "# print(\"This is for first\")\n",
    "# %timeit polynomial_differentiation(x1)\n",
    "# %timeit polynomial_differentiation(y1)\n",
    "# %timeit dict_polynomial_differentiation(dict1)\n",
    "# print(\"This is for second\")\n",
    "# %timeit polynomial_differentiation(x2)\n",
    "# %timeit polynomial_differentiation(y2)\n",
    "# %timeit dict_polynomial_differentiation(dict2)\n",
    "# print(\"This is for third\")\n",
    "# %timeit polynomial_differentiation(x3)\n",
    "# %timeit polynomial_differentiation(y3)\n",
    "# %timeit dict_polynomial_differentiation(dict3)\n",
    "# print(\"This is for fourth\")\n",
    "# %timeit polynomial_differentiation(x4)\n",
    "# %timeit polynomial_differentiation(y4)\n",
    "# %timeit dict_polynomial_differentiation(dict4)"
   ]
  },
  {
   "cell_type": "markdown",
   "metadata": {},
   "source": []
  }
 ],
 "metadata": {
  "kernelspec": {
   "display_name": "Python 3 (ipykernel)",
   "language": "python",
   "name": "python3"
  },
  "language_info": {
   "codemirror_mode": {
    "name": "ipython",
    "version": 3
   },
   "file_extension": ".py",
   "mimetype": "text/x-python",
   "name": "python",
   "nbconvert_exporter": "python",
   "pygments_lexer": "ipython3",
   "version": "3.11.4"
  }
 },
 "nbformat": 4,
 "nbformat_minor": 2
}
