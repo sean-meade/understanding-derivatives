{
 "cells": [
  {
   "cell_type": "markdown",
   "metadata": {},
   "source": [
    "# Notebook E-tivity 1 CE4021"
   ]
  },
  {
   "cell_type": "markdown",
   "metadata": {},
   "source": [
    "Student name:Phil Clarke"
   ]
  },
  {
   "cell_type": "markdown",
   "metadata": {},
   "source": [
    "Student ID: 23291567"
   ]
  },
  {
   "cell_type": "markdown",
   "metadata": {},
   "source": [
    "<hr style=\"border:2px solid gray\"> </hr>"
   ]
  },
  {
   "cell_type": "markdown",
   "metadata": {},
   "source": [
    "## Task - DRAFT - latest draft 1809"
   ]
  },
  {
   "cell_type": "markdown",
   "metadata": {},
   "source": [
    "Write 2 Python functions:\n",
    "\n",
    "Function 1:\n",
    "The first one to symbolically calculate the derivative of a polynomial with one variable. The input should be a polynomial and the output should also be a polynomial.\n",
    "\n",
    "Function 2:\n",
    "The second one to evaluate (i.e. get the numerical value) of a polynomial for a given value of its variable. The input should be a polynomial and a value (point at which to evaluate the polynomial). The output should be a scalar.\n",
    "Test your code with a few salient polynomials (minimum of 3) for which you have calculated the derivative of these polynomials manually."
   ]
  },
  {
   "cell_type": "markdown",
   "metadata": {},
   "source": [
    "__#Calculus Basics - Differentiation__"
   ]
  },
  {
   "cell_type": "markdown",
   "metadata": {},
   "source": [
    "\"Calculus is the mathematical study of change..... It has two major branches: differential calculus (concerning rates of change and slopes of curves) and integral calculus (concerning accumulation of quantities and the areas under curves)...\" (__Kadry, S 2014__).\n",
    "\n",
    "For this E-tivity I shall concentrate on differential calculas as this is the focus of the task.  Differential calculus can be explained by looking at the rates of change functions.  Take distance, speed and acceleration, if a distance s (from a start of 0 for instance), the derivative of d with respect to time t is the change in distance for the change in time, otherwise known as speed!  If we take speed and calculate its change with respect to t, is is the change in speed for hte change in time, otherwise known as acceleration.  Each derivative describes the function preceding it in respect to a moment in time.\n",
    "\n",
    "Calculus is not meant for computing average speeds (__rich L. Rohde, et al 2012__) Derivatives are considered to quantify an instantaneous rate of change, where the change in distance or speed is with respect to a tiny (approaching 0 amount of change).  This allows for precise calculations of the rate of change of a function at a point in time.\n",
    "\n",
    "\n",
    "\n",
    "\n",
    "\n",
    "\n",
    "\n",
    "\n",
    "\n"
   ]
  },
  {
   "cell_type": "code",
   "execution_count": null,
   "metadata": {},
   "outputs": [],
   "source": []
  },
  {
   "cell_type": "markdown",
   "metadata": {},
   "source": [
    "# Function 1"
   ]
  },
  {
   "cell_type": "markdown",
   "metadata": {},
   "source": [
    "# Function 2\n"
   ]
  },
  {
   "cell_type": "markdown",
   "metadata": {},
   "source": [
    "Function 2: The second one to evaluate (i.e. get the numerical value) of a polynomial for a given value of its variable. The input should be a polynomial and a value (point at which to evaluate the polynomial). The output should be a scalar. Test your code with a few salient polynomials (minimum of 3) for which you have calculated the derivative of these polynomials manually.\n",
    "\n",
    "(note: I take it that the code above can be recycled, and that I should for completeness, evaulate the polynomial and the dirative.)\n"
   ]
  },
  {
   "cell_type": "markdown",
   "metadata": {},
   "source": [
    "In this first part I will make a continuation of the polynomial derivative tools above"
   ]
  },
  {
   "cell_type": "markdown",
   "metadata": {},
   "source": [
    "# Testing"
   ]
  },
  {
   "cell_type": "markdown",
   "metadata": {},
   "source": [
    "In this section, I have listed dictionary values of serval polynomials in the format {power: coefficent} pairs.  Each pair is multiplied by a value of z"
   ]
  },
  {
   "cell_type": "markdown",
   "metadata": {},
   "source": [
    "# Alternative Version (ML input + No Pretty input or output)"
   ]
  },
  {
   "cell_type": "markdown",
   "metadata": {},
   "source": [
    "In this alternative method I simplify the entry to NOT be a string input but rely on a direct input of a dictionary.\n",
    "Here the TestPolys are a number of dictionaries entered where in the key:value pair, the key represents a power of a varible x, and the value is the value of the cooefficient of the corresponding x.\n",
    "Here {3:2,5:4} would represent a polynomial 3x^2 + 5x^4"
   ]
  },
  {
   "cell_type": "code",
   "execution_count": 28,
   "metadata": {},
   "outputs": [],
   "source": [
    "# Reusing the code above which I think works but ignoring the pretty output and polynomial expression writing.\n",
    "\n",
    "\n",
    "def deriver(Old_dict):\n",
    "    new_dict = {} \n",
    "    for key, value in Old_dict.items():\n",
    "     \n",
    "        new_key = key - 1\n",
    "        new_value = key * value\n",
    "        new_dict[new_key] = new_value\n",
    "\n",
    "# Here the dictionary is sorted by the keys to ensure it is displayed in ascending order of power, the input does not require that order.\n",
    "    sorted_dict = dict(sorted(new_dict.items()))\n",
    "    return(sorted_dict)  \n",
    "    new_dict = {} #resets the blank dictionary to empty for next run"
   ]
  },
  {
   "cell_type": "code",
   "execution_count": 31,
   "metadata": {},
   "outputs": [],
   "source": [
    "TestPoly1 = {1: 0}  # 1\n",
    "TestPoly2 = {1: 2, 2: -3, 3: 2}  # 2x - 3x^2 + 2x^3\n",
    "TestPoly3 = {0: -4, 2: 5, 4: -4}  # -4 + 5x^2 - 4x^4\n",
    "TestPoly4 = {0: 0, 1: -6, 2: 7, 3: 6, 4: -7}  # -6x + 7x^2 + 6x^3 - 7x^4\n",
    "TestPoly5 = {1: -8, 3: 9, 4: 8}  # -8x + 9x^3 + 8x^4\n",
    "TestPoly6 = {0: 10, 2: 12, 3: 11, 5: -12}  # 10 + 12x^2 + 11x^3 - 12x^5\n",
    "TestPoly7 = {0: 1, 450: 2}  # 1 + 2x^450\n",
    "TestPoly8 = {500: -3, 999: 4}  # -3x^500 + 4x^999\n",
    "TestPoly9 = {100: 5, 200: -6, 300: 7, 400: -8, 500: 9}  # 5x^100 - 6x^200 + 7x^300 - 8x^400 + 9x^500\n",
    "TestPoly10 = {250: 10, 500: 11, 750: -12, 1000: -13}  # 10x^250 + 11x^500 - 12x^750 - 13x^1000\n",
    "TestPoly11 = {1: -14, 999: 15, 1000: -14}  # -14x + 15x^999 - 14x^1000\n"
   ]
  },
  {
   "cell_type": "code",
   "execution_count": 32,
   "metadata": {
    "scrolled": false
   },
   "outputs": [
    {
     "name": "stdout",
     "output_type": "stream",
     "text": [
      "TestPoly1: {1: 0}\n",
      "Outcome1: {0: 0}\n",
      "TestPoly2: {1: 2, 2: -3, 3: 2}\n",
      "Outcome2: {0: 2, 1: -6, 2: 6}\n",
      "TestPoly3: {0: -4, 2: 5, 4: -4}\n",
      "Outcome3: {-1: 0, 1: 10, 3: -16}\n",
      "TestPoly4: {0: 0, 1: -6, 2: 7, 3: 6, 4: -7}\n",
      "Outcome4: {-1: 0, 0: -6, 1: 14, 2: 18, 3: -28}\n",
      "TestPoly5: {1: -8, 3: 9, 4: 8}\n",
      "Outcome5: {0: -8, 2: 27, 3: 32}\n",
      "TestPoly6: {0: 10, 2: 12, 3: 11, 5: -12}\n",
      "Outcome6: {-1: 0, 1: 24, 2: 33, 4: -60}\n",
      "TestPoly7: {0: 1, 450: 2}\n",
      "Outcome7: {-1: 0, 449: 900}\n",
      "TestPoly8: {500: -3, 999: 4}\n",
      "Outcome8: {499: -1500, 998: 3996}\n",
      "TestPoly9: {100: 5, 200: -6, 300: 7, 400: -8, 500: 9}\n",
      "Outcome9: {99: 500, 199: -1200, 299: 2100, 399: -3200, 499: 4500}\n",
      "TestPoly10: {250: 10, 500: 11, 750: -12, 1000: -13}\n",
      "Outcome10: {249: 2500, 499: 5500, 749: -9000, 999: -13000}\n",
      "TestPoly11: {1: -14, 999: 15, 1000: -14}\n",
      "Outcome11: {0: -14, 998: 14985, 999: -14000}\n"
     ]
    }
   ],
   "source": [
    "#These are individual tests of the polynominals in dictionary format that get the derivative, through the power rule.\n",
    "#I have used a number of different scenarios, including users entering the value for 0:0 to represent 0 and higher n values of x^n\n",
    "print(\"TestPoly1:\", TestPoly1)\n",
    "a=deriver(TestPoly1)\n",
    "print(\"Outcome1:\", a)\n",
    "print(\"TestPoly2:\", TestPoly2)\n",
    "b=deriver(TestPoly2)\n",
    "print(\"Outcome2:\", b)\n",
    "print(\"TestPoly3:\", TestPoly3)\n",
    "c=deriver(TestPoly3)\n",
    "print(\"Outcome3:\", c)\n",
    "print(\"TestPoly4:\", TestPoly4)\n",
    "d=deriver(TestPoly4)\n",
    "print(\"Outcome4:\", d)\n",
    "print(\"TestPoly5:\", TestPoly5)\n",
    "e=deriver(TestPoly5)\n",
    "print(\"Outcome5:\", e)\n",
    "print(\"TestPoly6:\", TestPoly6)\n",
    "f=deriver(TestPoly6)\n",
    "print(\"Outcome6:\", f)\n",
    "print(\"TestPoly7:\", TestPoly7)\n",
    "g=deriver(TestPoly7)\n",
    "print(\"Outcome7:\", g)\n",
    "print(\"TestPoly8:\", TestPoly8)\n",
    "h=deriver(TestPoly8)\n",
    "print(\"Outcome8:\", h)\n",
    "print(\"TestPoly9:\", TestPoly9)\n",
    "i=deriver(TestPoly9)\n",
    "print(\"Outcome9:\", i)\n",
    "print(\"TestPoly10:\", TestPoly10)\n",
    "j=deriver(TestPoly10)\n",
    "print(\"Outcome10:\", j)\n",
    "print(\"TestPoly11:\", TestPoly11)\n",
    "k=deriver(TestPoly11)\n",
    "print(\"Outcome11:\", k)"
   ]
  },
  {
   "cell_type": "markdown",
   "metadata": {},
   "source": [
    "# Alternative Function Evaulation"
   ]
  },
  {
   "cell_type": "markdown",
   "metadata": {},
   "source": [
    "<hr style=\"border:2px solid gray\"> </hr>"
   ]
  },
  {
   "cell_type": "code",
   "execution_count": 33,
   "metadata": {},
   "outputs": [],
   "source": [
    "def evaluation(dict,x):\n",
    "        result = 0\n",
    "        for key, value in dict.items():\n",
    "            result += value * (x ** key)\n",
    "        return result\n",
    "\n"
   ]
  },
  {
   "cell_type": "code",
   "execution_count": 43,
   "metadata": {},
   "outputs": [
    {
     "name": "stdout",
     "output_type": "stream",
     "text": [
      "TestPoly1:  {1: 0} Derivative a:  {0: 0}\n",
      "The value of the function 'TestPoly1'for x = 5 is: 0\n",
      "The value of the deriviative function 'a'for x = 5 is: 0\n",
      " \n",
      "TestPoly2:  {1: 2, 2: -3, 3: 2} Derivative b:  {0: 2, 1: -6, 2: 6}\n",
      "The value of the function 'TestPoly2'for x = 4 is: 88\n",
      "The value of the deriviative function 'b'for x = 4 is: 74\n",
      " \n",
      "TestPoly3:  {0: -4, 2: 5, 4: -4} Derivative c:  {-1: 0, 1: 10, 3: -16}\n",
      "The value of the function 'TestPoly2'for x = 3 is: -283\n",
      "The value of the deriviative function 'c'for x = 3 is: -402.0\n",
      " \n",
      "TestPoly4:  {0: 0, 1: -6, 2: 7, 3: 6, 4: -7} Derivative d:  {-1: 0, 0: -6, 1: 14, 2: 18, 3: -28}\n",
      "The value of the function 'TestPoly2'for x = 2 is: -48\n",
      "The value of the deriviative function 'd'for x = 2 is: -130.0\n",
      " \n",
      "TestPoly5:  {1: -8, 3: 9, 4: 8} Derivative e:  {0: -8, 2: 27, 3: 32}\n",
      "The value of the function 'TestPoly2'for x = 5 is: 6085\n",
      "The value of the deriviative function 'e'for x = 5 is: 4667\n",
      " \n",
      "TestPoly6:  {0: 10, 2: 12, 3: 11, 5: -12} Derivative f:  {-1: 0, 1: 24, 2: 33, 4: -60}\n",
      "The value of the function 'TestPoly2'for x = 3 is: -2501\n",
      "The value of the deriviative function 'f'for x = 3 is: -4491.0\n",
      " \n",
      "TestPoly7:  {0: 1, 450: 2} Derivative g:  {-1: 0, 449: 900}\n",
      "The value of the function 'TestPoly2'for x = 1 is: 3\n",
      "The value of the deriviative function 'g'for x = 1 is: 900.0\n",
      " \n",
      "TestPoly8:  {500: -3, 999: 4} Derivative h:  {499: -1500, 998: 3996}\n",
      "The value of the function 'TestPoly2'for x = 5 is: 746610894802575103192071635779053735693673157097366419697371471836773528780620507563552261678304881887675991944259394099372390017083225915873216653763144604987528532910660120219196060788721465208880392637012090494592410011836747032644142616900332083048558703083541184895575851382928767377614130328354238764935559109717973222405062694762117943409463798084071329568091133326312484122403999170269627254774592248062597422084767539356852648178548515154840217117106126974981174826025027363175034287539411908516060189500774303472128030994771859346244394645049975796899200015343379011396411196045838820712598059888802634346132876173355050985019795745014376339658405436205956817730111652053892612457275390625\n",
      "The value of the deriviative function 'h'for x = 5 is: 149172856781554505617775912828654936391595896788053810655534820072987351050367977411197741883325315401157663190463026941054603525413228537991468687421876292076508200875549892019795372945586548748734302448875015680819563520364982057122299694856686350193102028876091528742136055106309167722047303239605176905234124710121651049836531526413471165093210876003676923965521026502223537609227712203691676799049995228642951353119666369376549518466635906725530476464204968779459901751892963313188577237638918416869670380251169783949650733367308343175839430294707936947177846976573796598012236953716853166525762616141563876290177265805523214130616968838674958492551561942129900728559732669964432716369628906250000\n",
      " \n",
      "TestPoly9:  {100: 5, 200: -6, 300: 7, 400: -8, 500: 9} Derivative i:  {99: 500, 199: -1200, 299: 2100, 399: -3200, 499: 4500}\n",
      "The value of the function 'TestPoly2'for x = 2 is: 29460515471065276830118707271427734370925083145670335751973612477122400862702041084966604412086311328106659435892985375199222324798502839771844556357632\n",
      "The value of the deriviative function 'i'for x = 2 is: 7365128867766319207529676817857966492682505549853446305662202898105148663852381572734801481645725594880687277283488639748581779935044701879072758274457600\n",
      " \n",
      "TestPoly10:  {250: 10, 500: 11, 750: -12, 1000: -13} Derivative j:  {249: 2500, 499: 5500, 749: -9000, 999: -13000}\n",
      "The value of the function 'TestPoly2'for x = 2 is: -1.392961e+302\n",
      "The value of the deriviative function 'j'for x = 2 is: -6.964806e+304\n",
      " \n",
      "TestPoly11:  {1: -14, 999: 15, 1000: -14} Derivative k:  {0: -14, 998: 14985, 999: -14000}\n",
      "The value of the function 'TestPoly2'for x = 1 is: -13\n",
      "The value of the deriviative function 'j'for x = 1 is: 971\n"
     ]
    }
   ],
   "source": [
    "print(\"TestPoly1: \",TestPoly1, \"Derivative a: \",a)\n",
    "print(\"The value of the function 'TestPoly1'for x = 5 is:\", evaluation(TestPoly1,5))\n",
    "print(\"The value of the deriviative function 'a'for x = 5 is:\",evaluation(a,5))\n",
    "print(\" \")\n",
    "print(\"TestPoly2: \",TestPoly2, \"Derivative b: \",b)\n",
    "print(\"The value of the function 'TestPoly2'for x = 4 is:\", evaluation(TestPoly2,4))\n",
    "print(\"The value of the deriviative function 'b'for x = 4 is:\",evaluation(b,4))\n",
    "print(\" \")\n",
    "print(\"TestPoly3: \",TestPoly3, \"Derivative c: \",c)\n",
    "print(\"The value of the function 'TestPoly2'for x = 3 is:\", evaluation(TestPoly3,3))\n",
    "print(\"The value of the deriviative function 'c'for x = 3 is:\",evaluation(c,3))\n",
    "print(\" \")\n",
    "print(\"TestPoly4: \",TestPoly4, \"Derivative d: \",d)\n",
    "print(\"The value of the function 'TestPoly2'for x = 2 is:\", evaluation(TestPoly4,2))\n",
    "print(\"The value of the deriviative function 'd'for x = 2 is:\",evaluation(d,2))\n",
    "print(\" \")\n",
    "print(\"TestPoly5: \",TestPoly5, \"Derivative e: \",e)\n",
    "print(\"The value of the function 'TestPoly2'for x = 5 is:\", evaluation(TestPoly5,5))\n",
    "print(\"The value of the deriviative function 'e'for x = 5 is:\",evaluation(e,5))\n",
    "print(\" \")\n",
    "print(\"TestPoly6: \",TestPoly6, \"Derivative f: \",f)\n",
    "print(\"The value of the function 'TestPoly2'for x = 3 is:\", evaluation(TestPoly6,3))\n",
    "print(\"The value of the deriviative function 'f'for x = 3 is:\",evaluation(f,3))\n",
    "print(\" \")\n",
    "print(\"TestPoly7: \",TestPoly7, \"Derivative g: \",g)\n",
    "print(\"The value of the function 'TestPoly2'for x = 1 is:\", evaluation(TestPoly7,1))\n",
    "print(\"The value of the deriviative function 'g'for x = 1 is:\",evaluation(g,1))\n",
    "print(\" \")\n",
    "print(\"TestPoly8: \",TestPoly8, \"Derivative h: \",h)\n",
    "print(\"The value of the function 'TestPoly2'for x = 5 is:\", evaluation(TestPoly8,5))\n",
    "print(\"The value of the deriviative function 'h'for x = 5 is:\",evaluation(h,5))\n",
    "print(\" \")\n",
    "print(\"TestPoly9: \",TestPoly9, \"Derivative i: \",i)\n",
    "print(\"The value of the function 'TestPoly2'for x = 2 is:\", evaluation(TestPoly9,2))\n",
    "print(\"The value of the deriviative function 'i'for x = 2 is:\",evaluation(i,2))\n",
    "print(\" \")\n",
    "print(\"TestPoly10: \",TestPoly10, \"Derivative j: \",j)\n",
    "print(\"The value of the function 'TestPoly2'for x = 2 is:\", f\"{evaluation(TestPoly10,2):e}\")\n",
    "print(\"The value of the deriviative function 'j'for x = 2 is:\",f\"{evaluation(j,2):e}\")\n",
    "print(\" \")\n",
    "print(\"TestPoly11: \",TestPoly11, \"Derivative k: \",k)\n",
    "print(\"The value of the function 'TestPoly2'for x = 1 is:\", evaluation(TestPoly11,1))\n",
    "print(\"The value of the deriviative function 'j'for x = 1 is:\",evaluation(k,1))\n"
   ]
  },
  {
   "cell_type": "markdown",
   "metadata": {},
   "source": [
    "## Reflection"
   ]
  },
  {
   "cell_type": "markdown",
   "metadata": {},
   "source": [
    "Write your reflection in below cell. With reference to the Rubric for E-tivity 1:\n",
    "- Provide an accurate description of your code with advantages and disadvantages of design choices.\n",
    "I went with a design choice based around dealing with the polynomial in the a dictionary and dealing with the different elements in terms of the power rule.  My first design (not here) was extermely manual and only worked with up to x^9, meaning as I manually entered what I wanted to happend depending on where the values were in the dictionary.  this version is more versitile as it ignores order and splits the value of the power and cooefficent.\n",
    "\n",
    "Definitely the hardest element was the parsing, using regex this would have been a lot easier however this was not the exercise.\n",
    "\n",
    "The derivation part, using the for loop on the key and value pairs, I think is an elegant solution to the problem as it does efficently does the differentation and keeps the value in a dictionary form.\n",
    "\n",
    "Parsing back into the new polynomial was equally tricky as the parsing in comparsion.\n",
    "\n",
    "The evaulation section of a polynomial, was again a for loop for a value of x summed, which worked well.  I have carried this out both connected to the main exercise (function 1) but also, left it to evulate from dictionary forms of polynomials for demonstration purposes.\n",
    "\n",
    "- Compare your approach to alternative (peer) approaches.\n",
    "Reading through the forums I defintely noted more attention to detail on the input and messages to the user, Peter O'Mahonys was very well implemented and this made me go back.  I also took a second (and third look at my testing) but in the range of tests carried out and the display of the results.\n",
    "\n",
    "- Clearly describe how you have used your peers' work/input and how this has affected your own understanding / insights.\n",
    "\n",
    "Originally I went down the import re route but thanks to the forum I had that explained.  looking at some of the other solution I defintely went back and looked at my original solution to the problem as it was not good enough.  \n",
    "\n",
    "\n",
    "If you have not used peer input, you may state this, but your submission history in Gitlab should clearly show this is the case."
   ]
  },
  {
   "cell_type": "markdown",
   "metadata": {},
   "source": [
    "# REFERENCES"
   ]
  },
  {
   "cell_type": "markdown",
   "metadata": {},
   "source": [
    "Kadry, S 2014\n",
    "Seifedine Kadry,\n",
    "5 - Calculus,\n",
    "Editor(s): Seifedine Kadry,\n",
    "Mathematical Formulas for Industrial and Mechanical Engineering,\n",
    "Elsevier,\n",
    "2014,\n",
    "Pages 65-111,\n",
    "ISBN 9780124201316,\n",
    "https://doi.org/10.1016/B978-0-12-420131-6.00005-1.\n",
    "(https://www.sciencedirect.com/science/article/pii/B9780124201316000051)\n",
    "Abstract: Calculus is the mathematical study of change, in the same way that geometry is the study of shape and algebra is the study of operations and their application to solving equations. It has two major branches: differential calculus (concerning rates of change and slopes of curves) and integral calculus (concerning accumulation of quantities and the areas under curves); these two branches are related to each other by the fundamental theorem of calculus. Both branches make use of the fundamental notions of convergence of infinite sequences and infinite series to a well-defined limit. Calculus has widespread uses in science, economics, and engineering and can solve many problems that algebra alone cannot.\n",
    "Keywords: Function; graph; limits; derivative; integrals; sequences; series; differential equations; Laplace transform\n",
    "\n",
    "\n",
    "Rohde, Ulrich L., Jain, G. C., Poddar, Ajay K., and Ghosh, A. K.. Introduction to Differential Calculus : Systematic Studies with Engineering Applications for Beginners. Newark: John Wiley & Sons, Incorporated, 2012. Accessed September 17, 2023. ProQuest Ebook Central."
   ]
  },
  {
   "cell_type": "code",
   "execution_count": null,
   "metadata": {},
   "outputs": [],
   "source": []
  }
 ],
 "metadata": {
  "celltoolbar": "Raw Cell Format",
  "kernelspec": {
   "display_name": "Python 3 (ipykernel)",
   "language": "python",
   "name": "python3"
  },
  "language_info": {
   "codemirror_mode": {
    "name": "ipython",
    "version": 3
   },
   "file_extension": ".py",
   "mimetype": "text/x-python",
   "name": "python",
   "nbconvert_exporter": "python",
   "pygments_lexer": "ipython3",
   "version": "3.10.9"
  }
 },
 "nbformat": 4,
 "nbformat_minor": 2
}
