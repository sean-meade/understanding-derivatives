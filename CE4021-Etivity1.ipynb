{
 "cells": [
  {
   "cell_type": "markdown",
   "metadata": {},
   "source": [
    "# Notebook E-tivity 1 CE4021"
   ]
  },
  {
   "cell_type": "markdown",
   "metadata": {},
   "source": [
    "Student name: Sean Meade"
   ]
  },
  {
   "cell_type": "markdown",
   "metadata": {},
   "source": [
    "Student ID: 10128921"
   ]
  },
  {
   "cell_type": "markdown",
   "metadata": {},
   "source": [
    "<hr style=\"border:2px solid gray\"> </hr>"
   ]
  },
  {
   "cell_type": "markdown",
   "metadata": {},
   "source": [
    "## Imports"
   ]
  },
  {
   "cell_type": "code",
   "execution_count": null,
   "metadata": {},
   "outputs": [],
   "source": [
    "#None"
   ]
  },
  {
   "cell_type": "markdown",
   "metadata": {},
   "source": [
    "If you believe required imports are missing, please contact your moderator."
   ]
  },
  {
   "cell_type": "markdown",
   "metadata": {},
   "source": [
    "<hr style=\"border:2px solid gray\"> </hr>"
   ]
  },
  {
   "cell_type": "markdown",
   "metadata": {},
   "source": [
    "## Task"
   ]
  },
  {
   "cell_type": "markdown",
   "metadata": {},
   "source": [
    "You may add as many cells as you require to complete this task. Refer to the Rubric for E-tivity 1 to see how you will be assessed."
   ]
  },
  {
   "cell_type": "markdown",
   "metadata": {},
   "source": [
    "Showing excellent understanding of polynomial derivatives / integrals.\n",
    "\n",
    "### Understanding Polynomial derivatives\n",
    "\n",
    "#### What are polynomials?\n",
    "\n",
    "A polynomial is a mathematical equation consisting of variables and coefficients. A polynomial can have any number of coefficients and variables, and the variables can have any order of power that is a positive integer.\n",
    "\n",
    "Example of a polynomial: $ y(x) = 3x^3 - 5x^2 + 2x - 1 $\n",
    "\n",
    "##### Equation for Vertical Motion\n",
    "\n",
    "![Vertical height vs. time taken](https://i.stack.imgur.com/nrp41.png)\n",
    "\n",
    "Polynomials are equations that can be used to describe linear processes is one that represents a ball being fired directly up into the air, also known as the \"equation for vertical motion\". For the sake of this example we will fire our ball within a vacuum (i.e. it is not effected by air currents, wind resistance etc). The following equation is a polynomial that represents the vertical displacement ($ h $) as a function of time ($ t $) with respect to the initial velocity ($ V_{iy} $), and acceleration/deceleration due to gravity ($ g $).\n",
    "\n",
    "\\begin{equation}\n",
    "    h(t) = V_{iy}t - \\frac{1}{2}gt^2\n",
    "\\end{equation}\n",
    "\n",
    "#### Differentiation of a polynomial\n",
    "\n",
    "What if I wanted to find the velocity of the ball ($ V_{y} $) at a time ($ t $)? The velocity can be calculated as the change in displacement ($ ds $) divided by the change in time ($ dt $) or $ \\frac{ds}{dt} $ \n",
    "\n",
    "$$ \\frac{change~in~displacement}{change~in~time} = \\frac{ds}{dt} = velocity $$\n",
    "\n",
    "The derivative is defined as 'an instantaneous rate of change' which, as pointed out in the [video by 3Blue1Brown on the topic](https://youtu.be/9vKqVkMQHKk?si=QGEQitIiNg3zORRg&t=30s), is an oxymoron. \"Change is something that happens between separate points in time, and when you blind yourself to all but a single instant, there is no more room for change.\" For example if you wanted to get the velocity at 3 minutes (at an instant in time) and the velocity requires a change in time to calculate it then it really doesn't make sense at face value.\n",
    "\n",
    "$ dt $ is an increment of time that approaches zero ($ {dt \\to 0} $). To find the velocity at dt we get the distance at time $ t + dt $, subtract the distance at $ t $, and divide by the time $ dt $. \n",
    "\n",
    "TODO: Add image showing dt change\n",
    "\n",
    "\\begin{equation}\n",
    "    \\frac{dh}{dt} = \\frac{h(t + dt) - h(t)}{dt}\n",
    "    \\tag{2}\n",
    "\\end{equation}\n",
    "\n",
    "\\begin{equation}\n",
    "    \\frac{dh}{dt} = \\frac{(V_{iy}(t + dt) - \\frac{1}{2}g(t + dt)^2) - (V_{iy}t - \\frac{1}{2}gt^2)}{dt}\n",
    "    \\tag{3}\n",
    "\\end{equation}\n",
    "\n",
    "\\begin{equation}\n",
    "    \\frac{dh}{dt} = \\frac{V_{iy}(t) + V_{iy}(dt) - \\frac{1}{2}gt^2 - \\frac{1}{2}g(dt)^2 - g(t)(dt) - V_{iy}(t) + \\frac{1}{2}gt^2}{dt}\n",
    "    \\tag{4}\n",
    "\\end{equation}\n",
    "\n",
    "\\begin{equation}\n",
    "    \\frac{dh}{dt} = \\frac{(V_{iy}(dt) - \\frac{1}{2}g(dt)^2 - g(t)(dt)}{dt}\n",
    "    \\tag{5}\n",
    "\\end{equation}\n",
    "\n",
    "\\begin{equation}\n",
    "    \\frac{dh}{dt} = V_{iy} - \\frac{1}{2}g(dt) - g(t)\n",
    "    \\tag{6}\n",
    "\\end{equation}\n",
    "\n",
    "\n",
    "As $ {dt \\to 0} $ the middle term approaches zero.\n",
    "\n",
    "\n",
    "\\begin{equation}\n",
    "    \\frac{dh}{dt} = V_{iy} - g(t)\n",
    "    \\tag{7}\n",
    "\\end{equation}\n",
    "\n",
    "With the above equation we can work out the 'instantaneous velocity'.\n",
    "\n",
    "There is a rule for this type of differentiation named the power rule. Taking the positive integer power of the variable, multiplying that by the whole term and then taking 1 from that power:\n",
    "\n",
    "\\begin{equation}\n",
    "    \\frac{d}{dx}(ax^n) = anx^{n-1}\n",
    "    \\tag{The Power Rule}\n",
    "\\end{equation}\n",
    "\n",
    "You will note that if applied to equation 1 it can produce equation 7 with one or two easy steps. Applying the power rule to differentiate each term of the equation for vertical motion:\n",
    "\n",
    "$$ \\frac{dh}{dt} = (1)V_{iy}t^{1-1} - (2)\\frac{1}{2}gt^{2-1} $$\n",
    "\n",
    "And simplifying we get equation 7 that calculates velocity:\n",
    "\n",
    "$$ \\frac{dh}{dt} = V_{iy} - g(t) $$\n",
    "\n",
    "This rule is what is used to calculate the derivatives in the *polynomial_differentiation* method below.\n",
    "\n",
    "(TODO: Graph showing distance and speed together and how they are related)"
   ]
  },
  {
   "cell_type": "markdown",
   "metadata": {},
   "source": [
    "### Implementation\n",
    "\n",
    "Correctly working implementation with efficient use of flow control elements, data types and operators. Clean code with appropriate variable names.  Appropriate documentation of each function."
   ]
  },
  {
   "cell_type": "code",
   "execution_count": 84,
   "metadata": {},
   "outputs": [
    {
     "name": "stdout",
     "output_type": "stream",
     "text": [
      "[[2, 1], [12, 3], [56, 7]]\n",
      "2736275\n"
     ]
    }
   ],
   "source": [
    "# Maybe spread each step out so process is more clear\n",
    "x = ((1, 2), (3, 4), (7, 8))\n",
    "y = [[1, 2], [3, 4], [7, 8]]\n",
    "\n",
    "def polynomial_differentiation(input_polynomial):\n",
    "    \"\"\"\n",
    "    Calculates the derivative of a polynomial using the power rule.\n",
    "\n",
    "    Args:\n",
    "        input_polynomial (list or tuple): List (or tuple) containing lists (or tuples) with two values.\n",
    "                                            These two values represent the coefficient and variable power\n",
    "                                            of each term of the polynomial. (e.g. 2x^5 + 8x^4 would be \n",
    "                                            represented by [[2 ,5], [8, 4]] or ((2, 5), (8, 4)) )\n",
    "\n",
    "    Returns:\n",
    "        list: Returns a list of lists that represent the polynomial after differentiation. [[5, 6], [5, 5]]\n",
    "                is the polynomial 5x^6 + 5x^5\n",
    "\n",
    "    \"\"\"\n",
    "\n",
    "    # Empty list that will contain the output polynomial\n",
    "    output_polynomial = []\n",
    "\n",
    "    # for each term of the polynomial use the coefficient and the power of the variable\n",
    "    for coefficient, var_power in input_polynomial:\n",
    "        # Check to see if input is a polynomial\n",
    "        if var_power == None or var_power < 0:\n",
    "            print(\"Input polynomial contains negative or type None power for a variable. Input needs to be a valid polynomial.\")\n",
    "            return\n",
    "        if coefficient == None:\n",
    "            print(\"Input polynomial contains type None for a coefficient. Input needs to be a valid polynomial.\")\n",
    "            return\n",
    "        # if either the coefficient or the power are zero the term is zero so pass\n",
    "        if coefficient == 0 or var_power == 0:\n",
    "            pass\n",
    "        # Apply the power rule to the term of the polynomial and add to output_polynomial list\n",
    "        else:\n",
    "            output_polynomial.append([coefficient * var_power, var_power - 1])\n",
    "\n",
    "    # Return the polynomial after differentiation\n",
    "    return(output_polynomial)\n",
    "\n",
    "\n",
    "def evaluate_polynomial(input_polynomial, known_var):\n",
    "    \"\"\"\n",
    "    Evaluates the polynomial after differentiation for a known variable\n",
    "\n",
    "    Args:\n",
    "        input_polynomial (list or tuple): List (or tuple) containing lists (or tuples) with two values.\n",
    "                                            These two values represent the coefficient and variable power\n",
    "                                            of each term of the polynomial. (e.g. 2x^5 + 8x^4 would be \n",
    "                                            represented by [[2 ,5], [8, 4]] or ((2, 5), (8, 4)) )\n",
    "        known_var (int or float): number (int or float) that is the know variable of the polynomial\n",
    "\n",
    "    Returns:\n",
    "        int or float: The final value of the differentiated input_polynomial by inputting the known_var\n",
    "                        into the output polynomial.\n",
    "    \"\"\"\n",
    "\n",
    "    # var to hold the addition of each term of the differentiated polynomial to produce a scalar\n",
    "    scalar = 0\n",
    "    # check to see if input is a number\n",
    "    if isinstance(known_var, (int, float)):\n",
    "        # Use the input variable to calculate the term and add it to make up the scalar\n",
    "        for coefficient, power in input_polynomial:\n",
    "            scalar += (known_var**power)*coefficient\n",
    "    # if not a number provide feedback and end it\n",
    "    else:\n",
    "        print(f\"Float or int needed for calculation {type(known_var)} used.\")\n",
    "        return\n",
    "\n",
    "    return scalar\n",
    "        \n",
    "\n",
    "print(polynomial_differentiation(x))\n",
    "print(evaluate_polynomial(x, 5))"
   ]
  },
  {
   "cell_type": "markdown",
   "metadata": {},
   "source": [
    "### Testing\n",
    "\n",
    "Test cases cover corner cases without redundancy."
   ]
  },
  {
   "cell_type": "code",
   "execution_count": 85,
   "metadata": {},
   "outputs": [
    {
     "name": "stdout",
     "output_type": "stream",
     "text": [
      "Input polynomial contains negative or type None power for a variable. Input needs to be a valid polynomial.\n",
      "Input polynomial contains type None for a coefficient. Input needs to be a valid polynomial.\n"
     ]
    }
   ],
   "source": [
    "# Used this post in Q&A as inspiration: https://learn.ul.ie/d2l/le/10675/discussions/threads/7746/View\n",
    "# Test 1: 0 Exponential\n",
    "zero_exp_poly = [[2, 3], [5, 7], [4, 0]]\n",
    "polynomial_differentiation(zero_exp_poly)\n",
    "# Test 2: Extreme exponential (x^10000)\n",
    "extreme_poly = [[1, 1], [8, 37], [6, 1000000]]\n",
    "polynomial_differentiation(extreme_poly)\n",
    "# Test 3: two elements with the same exponential\n",
    "same_exp_poly = [[2, 3], [77, 3], [88, 88]]\n",
    "polynomial_differentiation(same_exp_poly)\n",
    "# Test 4: null value for exponential\n",
    "null_poly_exp = [[9, None], [5, 9], [12, 6]]\n",
    "polynomial_differentiation(null_poly_exp)\n",
    "# Test 4: null value for coefficient\n",
    "null_poly_coef = [[None, 9], [5, 9], [12, 6]]\n",
    "polynomial_differentiation(null_poly_coef)"
   ]
  },
  {
   "cell_type": "markdown",
   "metadata": {},
   "source": [
    "<hr style=\"border:2px solid gray\"> </hr>"
   ]
  },
  {
   "cell_type": "markdown",
   "metadata": {},
   "source": [
    "## Reflection"
   ]
  },
  {
   "cell_type": "markdown",
   "metadata": {},
   "source": [
    "Write your reflection in below cell. With reference to the Rubric for E-tivity 1:\n",
    "- Provide an accurate description of your code with advantages and disadvantages of design choices.\n",
    "- Compare your approach to alternative (peer) approaches.\n",
    "- Clearly describe how you have used your peers' work/input and how this has affected your own understanding / insights.\n",
    "\n",
    "If you have not used peer input, you may state this, but your submission history in Gitlab should clearly show this is the case."
   ]
  },
  {
   "cell_type": "markdown",
   "metadata": {},
   "source": [
    "list/tuples were used because if the polynomial had more then 1 of the same power for a variable it would allow this. A dictionary or set would not allow this flexibility."
   ]
  },
  {
   "cell_type": "code",
   "execution_count": null,
   "metadata": {},
   "outputs": [],
   "source": []
  }
 ],
 "metadata": {
  "kernelspec": {
   "display_name": "Python 3 (ipykernel)",
   "language": "python",
   "name": "python3"
  },
  "language_info": {
   "codemirror_mode": {
    "name": "ipython",
    "version": 3
   },
   "file_extension": ".py",
   "mimetype": "text/x-python",
   "name": "python",
   "nbconvert_exporter": "python",
   "pygments_lexer": "ipython3",
   "version": "3.11.4"
  }
 },
 "nbformat": 4,
 "nbformat_minor": 2
}
