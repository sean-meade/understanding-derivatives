{
 "cells": [
  {
   "cell_type": "markdown",
   "metadata": {},
   "source": [
    "# Notebook E-tivity 1 CE4021"
   ]
  },
  {
   "cell_type": "markdown",
   "metadata": {},
   "source": [
    "Student name:"
   ]
  },
  {
   "cell_type": "markdown",
   "metadata": {},
   "source": [
    "Student ID:"
   ]
  },
  {
   "cell_type": "markdown",
   "metadata": {},
   "source": [
    "<hr style=\"border:2px solid gray\"> </hr>"
   ]
  },
  {
   "cell_type": "markdown",
   "metadata": {},
   "source": [
    "## Imports"
   ]
  },
  {
   "cell_type": "code",
   "execution_count": 1,
   "metadata": {},
   "outputs": [],
   "source": [
    "#None"
   ]
  },
  {
   "cell_type": "markdown",
   "metadata": {},
   "source": [
    "If you believe required imports are missing, please contact your moderator."
   ]
  },
  {
   "cell_type": "markdown",
   "metadata": {},
   "source": [
    "<hr style=\"border:2px solid gray\"> </hr>"
   ]
  },
  {
   "cell_type": "markdown",
   "metadata": {},
   "source": [
    "## Task"
   ]
  },
  {
   "cell_type": "markdown",
   "metadata": {},
   "source": [
    "You may add as many cells as you require to complete this task. Refer to the Rubric for E-tivity 1 to see how you will be assessed."
   ]
  },
  {
   "cell_type": "markdown",
   "metadata": {},
   "source": [
    "\n",
    "\n",
    "## Task 1 : Symbolic calculation of the derivative\n",
    "\n",
    "Description\n",
    "\n",
    "Write 2 Python functions:\n",
    "\n",
    "The first one to symbolically calculate the derivative of a polynomial with one variable. The input should be a polynomial and the output should also be a polynomial.\n",
    "\n",
    "The second one to evaluate (i.e. get the numerical value) of a polynomial for a given value of its variable. The input should be a polynomial and a value (point at which to evaluate the polynomial). The output should be a scalar.\n",
    "\n",
    "Test your code with a few salient polynomials (minimum of 3) for which you have calculated the derivative of these polynomials manually\n",
    "\n",
    "\n",
    "# Polynomial\n",
    "\n",
    "Polynomials are algebraic expressions that consist of variables and coefficients. An examples of a polynomial of a single variable x is x^2 − 4x + 7\n",
    "\n",
    "4x^3 - 6x^2 + 9\n",
    "\n",
    "(x + 4)^3 - 9X - 3\n",
    "\n",
    "below are the few expressions which are not polynomial \n",
    "\n",
    "f(x) = 5x^4 - 2x^2 + 3 / x - divide by x, will be x^-1\n",
    "\n",
    "f(x) = 4x^3 + sqrt(2) - square root\n",
    "\n",
    "for this use case, we are going to use simplified expression 4x^3 - 6x^2 + 9 as complex functions required additional work to simplify it before applying derivatives\n",
    "\n",
    "# Derivatives of polynomials\n",
    "\n",
    "Derivatives of polynomials will primarily make use of power rule, more complex functions can be solved using chain rule and product rules are not in the scope of this e-tivity), so the power rule is\n",
    "\n",
    "{d}/{dx} x^n = n x^{n - 1}\n",
    "\n",
    "Example:\n",
    "\n",
    "derivative of function 4x^3 - 6x^2 + 9 is 12x^2 - 12x\n",
    "\n",
    "when we evaluate the polynomial at given point , let x=3 then the value of this function is 4*3^3 - 6*3^2 + 9 => 108 - 54 + 9 =63.\n",
    "\n",
    "# Python data types\n",
    "  There are many containerized data types available in python, we have coefficients and exponents in polynomial and \n",
    "both are associated with each other so Dictionary data type is best suited\n",
    "\n",
    "Each term from polynomial will be represented in dictionary with power as key and coefficient as value\n",
    "\n",
    "example 2*x^3 will be represented as 3: 2, 6*x will be 1: 6, and 7 will be 0: 7\n",
    "\n",
    "we have many other options like list of tuples, list of dictionaries but those are useful when dealing with complex use cases\n",
    "say for example if you have same power in more than one places we can use list of dict to represent them.\n",
    "\n",
    "We can also represent using list like 5*x^3 + 7*X^2 + 6 as [5,7,3,6], here the order is important to get the power.\n",
    "If you want to represent 2*x^1000 using list then we need to use additional zeros unnecessarily like [2,0,0,0,……….0] \n"
   ]
  },
  {
   "cell_type": "code",
   "execution_count": 1,
   "metadata": {},
   "outputs": [
    {
     "name": "stdout",
     "output_type": "stream",
     "text": [
      "****************Test Input 1*********************************************************************************\n",
      "Given polynomial is             :  {100: 3, 2: 1, 0: 8}\n",
      "Derivative of polynomial is     :  {99: 300, 1: 2}\n",
      "Numeric value of polynomial is  \n",
      "                     when x = 5 :  23665827156630354162351856958483586890196193053270690143108367919921908\n",
      "                    when x = -4 :  4820814132776970826625886277023487807566608981348378505904152\n",
      "                     when x = 0 :  8\n",
      "****************Test Input 2*********************************************************************************\n",
      "Given polynomial is             :  {10: -3, 2: -1, 0: -8}\n",
      "Derivative of polynomial is     :  {9: -30, 1: -2}\n",
      "Numeric  value of polynomial is  \n",
      "                     when x = 5 :  -29296908\n",
      "                    when x = -4 :  -3145752\n",
      "                     when x = 0 :  -8\n",
      "****************Test Input 3*********************************************************************************\n",
      "Given polynomial is             :  {1: 7}\n",
      "Derivative of polynomial is     :  {0: 7}\n",
      "Numeric  value of polynomial is  \n",
      "                     when x = 5 :  35\n",
      "                    when x = -4 :  -28\n",
      "                     when x = 0 :  0\n",
      "****************Test Input 4*********************************************************************************\n",
      "Given polynomial is             :  {0: 7}\n",
      "Derivative of polynomial is     :  {}\n",
      "Numeric  value of polynomial is  \n",
      "                     when x = 5 :  7\n",
      "                    when x = -4 :  7\n",
      "                     when x = 0 :  7\n"
     ]
    }
   ],
   "source": [
    "def derivative_of_polynomial(input_poly : dict) -> dict:     \n",
    "     \"\"\"This function is used to calculate the derivative_of_polynomial using power rule , \n",
    "     complex polynomials expressions(which uses chain rule and product rule) are not scope of this e-tivity \n",
    "\n",
    "    Parameters:\n",
    "    argument1 (dict): input polynomial uses dictionary data type , can be represented below\n",
    "    2*x^3 will be represented 3: 2, 6*x will be 1: 6, and 7 will be 0: 7\n",
    "\n",
    "    Returns:\n",
    "    dict : Returning derivative of polynomial which also a polynomial\n",
    "\n",
    "   \"\"\"\n",
    "     der_of_poly={}\n",
    "     for power, coeff in input_poly.items():\n",
    "          if(power >= 1):\n",
    "               der_of_poly[power-1] = coeff * power\n",
    "     return der_of_poly\n",
    "\n",
    "def evaluate_polynomial(input_poly : dict,x : int) -> int:     \n",
    "     \"\"\"This function is used to calculate the scaler value of polynomial\n",
    "\n",
    "    Parameters:\n",
    "    argument1 (dict): input polynomial uses dictionary data type , can be represented below\n",
    "    2*x^3 will be represented 3: 2, 6*x will be 1: 6, and 7 will be 0: 7\n",
    "\n",
    "    argument2 (int): given value of variable  x\n",
    "\n",
    "    Returns:\n",
    "    int : Returning numerical value of polynomial function for the given value of x\n",
    "\n",
    "   \"\"\"\n",
    "     return sum(coeff * x**power for power, coeff in input_poly.items())\n",
    "\n",
    "# Test the above functions using different inputs\n",
    "print(\"****************Test Input 1*********************************************************************************\")\n",
    "input_polynomial_1= {100:3 , 2:1, 0:8}\n",
    "print(\"Given polynomial is             : \",input_polynomial_1)\n",
    "print(\"Derivative of polynomial is     : \", derivative_of_polynomial(input_polynomial_1))\n",
    "print(\"Numeric value of polynomial is  \")\n",
    "print(\"                     when x = 5 : \", evaluate_polynomial(input_polynomial_1,5))\n",
    "print(\"                    when x = -4 : \", evaluate_polynomial(input_polynomial_1,-4))\n",
    "print(\"                     when x = 0 : \", evaluate_polynomial(input_polynomial_1,0))    \n",
    "\n",
    "print(\"****************Test Input 2*********************************************************************************\")\n",
    "input_polynomial_2= {10:-3 , 2:-1, 0:-8}\n",
    "print(\"Given polynomial is             : \",input_polynomial_2)\n",
    "print(\"Derivative of polynomial is     : \", derivative_of_polynomial(input_polynomial_2))\n",
    "print(\"Numeric  value of polynomial is  \")\n",
    "print(\"                     when x = 5 : \", evaluate_polynomial(input_polynomial_2,5))\n",
    "print(\"                    when x = -4 : \", evaluate_polynomial(input_polynomial_2,-4))\n",
    "print(\"                     when x = 0 : \", evaluate_polynomial(input_polynomial_2,0))  \n",
    "\n",
    "print(\"****************Test Input 3*********************************************************************************\")\n",
    "input_polynomial_3= {1:7}\n",
    "print(\"Given polynomial is             : \",input_polynomial_3)\n",
    "print(\"Derivative of polynomial is     : \", derivative_of_polynomial(input_polynomial_3))\n",
    "print(\"Numeric  value of polynomial is  \")\n",
    "print(\"                     when x = 5 : \", evaluate_polynomial(input_polynomial_3,5))\n",
    "print(\"                    when x = -4 : \", evaluate_polynomial(input_polynomial_3,-4))\n",
    "print(\"                     when x = 0 : \", evaluate_polynomial(input_polynomial_3,0)) \n",
    "\n",
    "print(\"****************Test Input 4*********************************************************************************\")\n",
    "input_polynomial_4= {0:7}\n",
    "print(\"Given polynomial is             : \",input_polynomial_4)\n",
    "print(\"Derivative of polynomial is     : \", derivative_of_polynomial(input_polynomial_4))\n",
    "print(\"Numeric  value of polynomial is  \")\n",
    "print(\"                     when x = 5 : \", evaluate_polynomial(input_polynomial_4,5))\n",
    "print(\"                    when x = -4 : \", evaluate_polynomial(input_polynomial_4,-4))\n",
    "print(\"                     when x = 0 : \", evaluate_polynomial(input_polynomial_4,0)) \n"
   ]
  },
  {
   "cell_type": "markdown",
   "metadata": {},
   "source": [
    "<hr style=\"border:2px solid gray\"> </hr>"
   ]
  },
  {
   "cell_type": "markdown",
   "metadata": {},
   "source": [
    "## Reflection"
   ]
  },
  {
   "cell_type": "markdown",
   "metadata": {},
   "source": [
    "Write your reflection in below cell. With reference to the Rubric for E-tivity 1:\n",
    "- Provide an accurate description of your code with advantages and disadvantages of design choices.\n",
    "- Compare your approach to alternative (peer) approaches.\n",
    "- Clearly describe how you have used your peers' work/input and how this has affected your own understanding / insights.\n",
    "\n",
    "If you have not used peer input, you may state this, but your submission history in Gitlab should clearly show this is the case."
   ]
  },
  {
   "cell_type": "code",
   "execution_count": null,
   "metadata": {},
   "outputs": [],
   "source": []
  }
 ],
 "metadata": {
  "kernelspec": {
   "display_name": "Python 3 (ipykernel)",
   "language": "python",
   "name": "python3"
  },
  "language_info": {
   "codemirror_mode": {
    "name": "ipython",
    "version": 3
   },
   "file_extension": ".py",
   "mimetype": "text/x-python",
   "name": "python",
   "nbconvert_exporter": "python",
   "pygments_lexer": "ipython3",
   "version": "3.11.4"
  }
 },
 "nbformat": 4,
 "nbformat_minor": 2
}
